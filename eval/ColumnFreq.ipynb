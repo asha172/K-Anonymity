{
 "cells": [
  {
   "cell_type": "code",
   "execution_count": 1,
   "metadata": {},
   "outputs": [],
   "source": [
    "import pandas as pd\n",
    "import csv\n",
    "import numpy as np\n",
    "from random import shuffle\n",
    "import funcs as fc\n",
    "import decimal\n",
    "from copy import deepcopy\n",
    "import math\n",
    "import seaborn as sns\n"
   ]
  },
  {
   "cell_type": "code",
   "execution_count": 70,
   "metadata": {},
   "outputs": [],
   "source": [
    "norPaths = ['recover_origin_wc', 'recover_bert_wc_cosine','recover_bert_wc_euclidean', 'recover_bert_wc_cityblock']\n"
   ]
  },
  {
   "cell_type": "code",
   "execution_count": 58,
   "metadata": {},
   "outputs": [],
   "source": [
    "origin_dataSet = fc.readCSV('./data/finalPatientDataSet_20.csv', sep='\\t')\n"
   ]
  },
  {
   "cell_type": "code",
   "execution_count": 79,
   "metadata": {},
   "outputs": [
    {
     "data": {
      "text/plain": [
       "[('Chronic congestive heart failure (disorder)', 4729),\n",
       " ('Myocardial Infarction', 3620),\n",
       " ('Viral sinusitis (disorder)', 3223),\n",
       " ('Stroke', 1900),\n",
       " ('Acute viral pharyngitis (disorder)', 1746),\n",
       " ('Pneumonia', 1658),\n",
       " ('Acute bronchitis (disorder)', 1498),\n",
       " ('Seizure disorder', 958),\n",
       " ('Bullet wound', 896),\n",
       " ('Cardiac Arrest', 891),\n",
       " ('Non-small cell carcinoma of lung  TNM stage 1 (disorder)', 471),\n",
       " ('Concussion injury of brain', 411),\n",
       " ('Neoplasm of prostate', 386),\n",
       " ('Streptococcal sore throat (disorder)', 346),\n",
       " ('Otitis media', 289),\n",
       " ('Drug overdose', 285),\n",
       " ('Sprain of ankle', 266),\n",
       " ('Polyp of colon', 261),\n",
       " (\"Alzheimer's disease (disorder)\", 223),\n",
       " ('Fracture of forearm', 222),\n",
       " ('Fracture of the vertebral column with spinal cord injury', 205),\n",
       " ('Hyperlipidemia', 203),\n",
       " ('Osteoporosis (disorder)', 198),\n",
       " ('Malignant tumor of colon', 197),\n",
       " ('Normal pregnancy', 186),\n",
       " ('Anemia (disorder)', 182),\n",
       " ('Concussion with no loss of consciousness', 176),\n",
       " ('Overlapping malignant neoplasm of colon', 175),\n",
       " ('Burn injury(morphologic abnormality)', 173),\n",
       " ('Chronic sinusitis (disorder)', 158),\n",
       " ('Fracture of ankle', 157),\n",
       " ('Fracture of clavicle', 154),\n",
       " ('Coronary Heart Disease', 154),\n",
       " ('Whiplash injury to neck', 151),\n",
       " ('Atrial Fibrillation', 147),\n",
       " ('Acute bacterial sinusitis (disorder)', 145),\n",
       " ('Metastasis from malignant tumor of prostate (disorder)', 134),\n",
       " ('Fracture subluxation of wrist', 131),\n",
       " ('Sinusitis (disorder)', 121),\n",
       " ('Sprain of wrist', 119),\n",
       " ('Epilepsy', 118),\n",
       " ('Laceration of thigh', 115),\n",
       " ('Laceration of hand', 102),\n",
       " ('Laceration of foot', 100),\n",
       " ('Facial laceration', 99),\n",
       " ('Pulmonary emphysema (disorder)', 99),\n",
       " ('Chronic obstructive bronchitis (disorder)', 92),\n",
       " ('Prediabetes', 91),\n",
       " ('Laceration of forearm', 91),\n",
       " ('Primary small cell malignant neoplasm of lung  TNM stage 1 (disorder)', 82),\n",
       " ('Fracture of rib', 76),\n",
       " ('Body mass index 30+ - obesity (finding)', 72),\n",
       " ('First degree burn', 67),\n",
       " ('Closed fracture of hip', 62),\n",
       " ('Secondary malignant neoplasm of colon', 57),\n",
       " ('Osteoarthritis of knee', 48),\n",
       " ('Escherichia coli urinary tract infection', 47),\n",
       " (\"Familial Alzheimer's disease of early onset (disorder)\", 43),\n",
       " ('Injury of tendon of the rotator cuff of shoulder', 40),\n",
       " ('Cystitis', 39),\n",
       " ('Second degree burn', 39),\n",
       " ('Chronic kidney disease stage 1 (disorder)', 38),\n",
       " ('Concussion with loss of consciousness', 37),\n",
       " ('Chronic intractable migraine without aura', 34),\n",
       " ('Primary malignant neoplasm of colon', 31),\n",
       " ('Recurrent rectal polyp', 29),\n",
       " ('Chronic pain', 28),\n",
       " ('Acute respiratory failure (disorder)', 27),\n",
       " ('Neuropathy due to type 2 diabetes mellitus (disorder)', 24),\n",
       " ('Impacted molars', 23),\n",
       " ('Hyperglycemia (disorder)', 22),\n",
       " ('Injury of anterior cruciate ligament', 20),\n",
       " ('Hypertension', 19),\n",
       " ('Injury of medial collateral ligament of knee', 18),\n",
       " ('Acute allergic reaction', 18),\n",
       " ('Idiopathic atrophic hypothyroidism', 16),\n",
       " ('Acute Cholecystitis', 16),\n",
       " ('Localized  primary osteoarthritis of the hand', 15),\n",
       " ('Diabetic retinopathy associated with type II diabetes mellitus (disorder)',\n",
       "  15),\n",
       " ('Antepartum eclampsia', 12),\n",
       " ('Hypertriglyceridemia (disorder)', 11),\n",
       " ('Appendicitis', 10),\n",
       " ('Tear of meniscus of knee', 9),\n",
       " ('Preeclampsia', 9),\n",
       " ('Osteoarthritis of hip', 9),\n",
       " ('Smokes tobacco daily', 9),\n",
       " ('Nonproliferative diabetic retinopathy due to type 2 diabetes mellitus (disorder)',\n",
       "  8),\n",
       " ('Gout', 8),\n",
       " ('Atopic dermatitis', 7),\n",
       " ('Perennial allergic rhinitis', 7),\n",
       " ('Rupture of patellar tendon', 7),\n",
       " ('Childhood asthma', 6),\n",
       " ('Proliferative diabetic retinopathy due to type II diabetes mellitus (disorder)',\n",
       "  6),\n",
       " ('Chronic kidney disease stage 2 (disorder)', 5),\n",
       " ('Opioid abuse (disorder)', 5),\n",
       " ('Sepsis caused by Staphylococcus aureus', 5),\n",
       " ('Sepsis caused by Pseudomonas (disorder)', 5),\n",
       " ('Alcoholism', 5),\n",
       " ('Diabetes', 4),\n",
       " ('Rheumatoid arthritis', 4),\n",
       " ('Macular edema and retinopathy due to type 2 diabetes mellitus (disorder)',\n",
       "  3),\n",
       " ('Perennial allergic rhinitis with seasonal variation', 3),\n",
       " ('Posttraumatic stress disorder', 3),\n",
       " ('Third degree burn', 3),\n",
       " ('Metabolic syndrome X (disorder)', 3),\n",
       " ('Suicide - suffocation', 3),\n",
       " ('History of amputation of foot (situation)', 2),\n",
       " ('Seasonal allergic rhinitis', 2),\n",
       " ('Child attention deficit disorder', 2),\n",
       " ('Primary fibromyalgia syndrome', 2),\n",
       " ('Fracture of vertebral column without spinal cord injury', 2),\n",
       " ('Rupture of appendix', 1),\n",
       " ('Non-small cell carcinoma of lung  TNM stage 2 (disorder)', 1),\n",
       " ('Miscarriage in first trimester', 1),\n",
       " ('Contact dermatitis', 1),\n",
       " ('Suspected lung cancer (situation)', 1),\n",
       " ('Pyelonephritis', 1),\n",
       " ('Chronic kidney disease stage 3 (disorder)', 1)]"
      ]
     },
     "execution_count": 79,
     "metadata": {},
     "output_type": "execute_result"
    }
   ],
   "source": [
    "origin_dataSet = fc.readCSV('./data/finalPatientDataSet_20.csv', sep='\\t')\n",
    "freaDcit  = dict()\n",
    "for data in [data[5] for data in origin_dataSet if data[6] == '1']:\n",
    "    if data not in freaDcit:\n",
    "        freaDcit[data] = 0\n",
    "        \n",
    "    freaDcit[data] += 1\n",
    "sorted(freaDcit.items(), key=lambda x:x[1], reverse =True)\n"
   ]
  },
  {
   "cell_type": "code",
   "execution_count": 8,
   "metadata": {},
   "outputs": [],
   "source": [
    "k_var = 'k3'\n"
   ]
  },
  {
   "cell_type": "code",
   "execution_count": 77,
   "metadata": {},
   "outputs": [
    {
     "name": "stdout",
     "output_type": "stream",
     "text": [
      "('Viral sinusitis (disorder)', 379396)\n",
      "('Acute bronchitis (disorder)', 217411)\n",
      "('Acute viral pharyngitis (disorder)', 202860)\n",
      "('Normal pregnancy', 104217)\n",
      "('Chronic sinusitis (disorder)', 65194)\n",
      "('Otitis media', 57920)\n",
      "('Streptococcal sore throat (disorder)', 54701)\n",
      "('Acute bacterial sinusitis (disorder)', 54647)\n",
      "('Chronic congestive heart failure (disorder)', 50956)\n",
      "('Sprain of ankle', 44738)\n",
      "\n"
     ]
    }
   ],
   "source": [
    "# for k_var in ['k2', 'k3', 'k4']:\n",
    "#     freqDict = dict()\n",
    "# for filePath in norPaths[0:2]:\n",
    "#         nor_dataset = fc.readCSV('./normalized/'+k_var+'/'+filePath+'.csv', sep='\\t')\n",
    "#         colValues = [data[2] for data in nor_dataset]\n",
    "nor_dataset = fc.readCSV('./data/finalPatientDataSet_20.csv', sep='\\t')\n",
    "colValues = [data[5] for data in nor_dataset]\n",
    "\n",
    "conditionList = list()\n",
    "for conditions in colValues:\n",
    "    splitedConditions = conditions.split(',')\n",
    "    if len(splitedConditions) > 1:\n",
    "        for con in splitedConditions:\n",
    "            conditionList.append(con.strip())\n",
    "    else:\n",
    "        conditionList.append(conditions)\n",
    "\n",
    "for conName in conditionList:\n",
    "    if conName not in freqDict:\n",
    "        freqDict[conName] = 0\n",
    "\n",
    "    freqDict[conName] += 1\n",
    "\n",
    "\n",
    "resultList = sorted(list(freqDict.items()), key=lambda x:x[1], reverse=True)[0:10]\n",
    "for tup in resultList:\n",
    "    print(tup)\n",
    "\n",
    "print(\"\")\n",
    "\n",
    "\n",
    "\n",
    "\n"
   ]
  },
  {
   "cell_type": "code",
   "execution_count": null,
   "metadata": {},
   "outputs": [],
   "source": [
    "('Viral sinusitis (disorder)', 126481)\n",
    "('Acute bronchitis (disorder)', 96506)\n",
    "('Acute viral pharyngitis (disorder)', 59780)\n",
    "('Chronic sinusitis (disorder)', 52274)\n",
    "('Acute bacterial sinusitis (disorder)', 45367)\n",
    "('Normal pregnancy', 32377)\n",
    "('Chronic congestive heart failure (disorder)', 24936)\n",
    "('Otitis media', 21970)\n",
    "('Streptococcal sore throat (disorder)', 19556)\n",
    "('Concussion with no loss of consciousness', 19316)\n"
   ]
  },
  {
   "cell_type": "code",
   "execution_count": 64,
   "metadata": {},
   "outputs": [],
   "source": [
    "conIndexMasterDict = dict()\n",
    "for i, conNm in enumerate(resultList):\n",
    "    conIndexMasterDict[conNm[0]] = i\n"
   ]
  },
  {
   "cell_type": "code",
   "execution_count": 66,
   "metadata": {},
   "outputs": [],
   "source": [
    "indexedData =list()\n",
    "for con in resultList:\n",
    "    if con[0] == 'CONDITIOIN': continue\n",
    "    indexedData.append([conIndexMasterDict[con[0]], con[1]])\n",
    "    \n",
    "\n"
   ]
  },
  {
   "cell_type": "code",
   "execution_count": 67,
   "metadata": {},
   "outputs": [],
   "source": [
    "chart_pd = pd.DataFrame(indexedData, columns=['condition', 'count'])"
   ]
  },
  {
   "cell_type": "code",
   "execution_count": 68,
   "metadata": {},
   "outputs": [
    {
     "data": {
      "text/plain": [
       "<matplotlib.axes._subplots.AxesSubplot at 0x111a78518>"
      ]
     },
     "execution_count": 68,
     "metadata": {},
     "output_type": "execute_result"
    },
    {
     "data": {
      "image/png": "[encoded data removed]",
      "text/plain": [
       "<matplotlib.figure.Figure at 0x1a158f7da0>"
      ]
     },
     "metadata": {
      "needs_background": "light"
     },
     "output_type": "display_data"
    }
   ],
   "source": [
    "chart_pd.plot(kind='barh',figsize=(10,14))\n"
   ]
  },
  {
   "cell_type": "code",
   "execution_count": null,
   "metadata": {},
   "outputs": [],
   "source": []
  },
  {
   "cell_type": "code",
   "execution_count": 45,
   "metadata": {},
   "outputs": [
    {
     "name": "stderr",
     "output_type": "stream",
     "text": [
      "/Users/asha172/anaconda3/envs/tensorflow/lib/python3.6/site-packages/scipy/stats/stats.py:1706: FutureWarning: Using a non-tuple sequence for multidimensional indexing is deprecated; use `arr[tuple(seq)]` instead of `arr[seq]`. In the future this will be interpreted as an array index, `arr[np.array(seq)]`, which will result either in an error or a different result.\n",
      "  return np.add.reduce(sorted[indexer] * weights, axis=axis) / sumval\n"
     ]
    },
    {
     "data": {
      "text/plain": [
       "<matplotlib.axes._subplots.AxesSubplot at 0x1a1f0f1860>"
      ]
     },
     "execution_count": 45,
     "metadata": {},
     "output_type": "execute_result"
    },
    {
     "data": {
      "image/png": "[encoded data removed]",
      "text/plain": [
       "<matplotlib.figure.Figure at 0x1a1f0f10f0>"
      ]
     },
     "metadata": {
      "needs_background": "light"
     },
     "output_type": "display_data"
    }
   ],
   "source": [
    "sns.distplot(chart_pd['condition'], hist=False, label=\"Perish\")\n",
    "# sns.distplot(survived['Age'], hist=False, label=\"Survived\")\n"
   ]
  },
  {
   "cell_type": "code",
   "execution_count": null,
   "metadata": {},
   "outputs": [],
   "source": []
  }
 ],
 "metadata": {
  "kernelspec": {
   "display_name": "Python 3",
   "language": "python",
   "name": "python3"
  },
  "language_info": {
   "codemirror_mode": {
    "name": "ipython",
    "version": 3
   },
   "file_extension": ".py",
   "mimetype": "text/x-python",
   "name": "python",
   "nbconvert_exporter": "python",
   "pygments_lexer": "ipython3",
   "version": "3.6.7"
  }
 },
 "nbformat": 4,
 "nbformat_minor": 2
}
