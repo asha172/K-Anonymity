{
 "cells": [
  {
   "cell_type": "code",
   "execution_count": 3,
   "metadata": {},
   "outputs": [],
   "source": [
    "import funcs as fc\n",
    "import pandas as pd\n",
    "from copy import deepcopy\n",
    "import csv"
   ]
  },
  {
   "cell_type": "code",
   "execution_count": 14,
   "metadata": {},
   "outputs": [],
   "source": [
    "def readCSV_Quoting(path, sep=','):\n",
    "    with open(path) as csv_file:\n",
    "        csv_reader = csv.reader(csv_file, delimiter=sep, quoting=csv.QUOTE_ALL)\n",
    "        csvList = list()\n",
    "        for row in csv_reader:\n",
    "            csvList.append(row)\n",
    "        \n",
    "    return csvList       \n",
    "\n",
    "def readeDataSet(destDataSet_path, sep='\\t'):\n",
    "    dest_DataSet = readCSV_Quoting(destDataSet_path, sep=sep)\n",
    "    colList = dest_DataSet[0]    \n",
    "    dest_DataSet = dest_DataSet[1:]\n",
    "    \n",
    "    for data in dest_DataSet:\n",
    "        data[-1] = int(data[-1])\n",
    "    \n",
    "    return dest_DataSet, colList[0:-1]\n",
    "\n",
    "# def regenerateDataByCount(sourceDataSet):\n",
    "#     k_Ano_DataSet = list()\n",
    "\n",
    "#     for datarow in sourceDataSet:\n",
    "#         rowCNT = datarow[-1]\n",
    "#         if rowCNT > 2:\n",
    "#             newDataRow = datarow.copy()\n",
    "#             newDataRow.pop(-1)        \n",
    "#             k_Ano_DataSet.extend([newDataRow]*rowCNT)\n",
    "#     return k_Ano_DataSet\n",
    "\n",
    "def regenerateDataByCount(sourceDataSet):\n",
    "    k_Ano_DataSet = list()\n",
    "\n",
    "    for datarow in sourceDataSet:\n",
    "        rowCNT = datarow[-1]        \n",
    "        newDataRow = datarow.copy()\n",
    "        newDataRow.pop(-1)        \n",
    "        k_Ano_DataSet.extend([newDataRow]*rowCNT)\n",
    "        \n",
    "    return k_Ano_DataSet"
   ]
  },
  {
   "cell_type": "markdown",
   "metadata": {},
   "source": [
    "### 버트 데이터 생성"
   ]
  },
  {
   "cell_type": "code",
   "execution_count": 15,
   "metadata": {},
   "outputs": [
    {
     "name": "stdout",
     "output_type": "stream",
     "text": [
      "유지될 데이터 : 146469\n",
      "버려질 데이터 : 8907\n",
      "저장 완료!\n"
     ]
    }
   ],
   "source": [
    "# destDataSet_path = './normalized/bert_moned_DataSet.csv'\n",
    "destDataSet_path = './normalized/recover_bert_cosine.csv'\n",
    "bert_dataSet, bert_colList = readeDataSet(destDataSet_path, '\\t')\n",
    "print(\"유지될 데이터 :\",sum([data[-1] for data in bert_dataSet if data[-1] > 2]))\n",
    "print(\"버려질 데이터 :\",sum([data[-1] for data in bert_dataSet if data[-1] < 3]))\n",
    "#3개 이상의 데이터만 생성\n",
    "bert_counted_dataSet = regenerateDataByCount(bert_dataSet)\n",
    "\n",
    "\n",
    "k_Ano_DataSet_df = pd.DataFrame(bert_counted_dataSet,columns=bert_colList)\n",
    "k_Ano_DataSet_df.to_csv('./normalized/recover_bert_wc_0613.csv',sep='\\t', index=False)   \n",
    "print(\"저장 완료!\")"
   ]
  },
  {
   "cell_type": "code",
   "execution_count": 19,
   "metadata": {},
   "outputs": [
    {
     "data": {
      "text/plain": [
       "155376"
      ]
     },
     "execution_count": 19,
     "metadata": {},
     "output_type": "execute_result"
    }
   ],
   "source": [
    "sum([data[-1] for data in bert_dataSet])"
   ]
  },
  {
   "cell_type": "code",
   "execution_count": 17,
   "metadata": {},
   "outputs": [
    {
     "data": {
      "text/plain": [
       "155376"
      ]
     },
     "execution_count": 17,
     "metadata": {},
     "output_type": "execute_result"
    }
   ],
   "source": [
    "len(k_Ano_DataSet_df)"
   ]
  },
  {
   "cell_type": "code",
   "execution_count": 2,
   "metadata": {},
   "outputs": [
    {
     "ename": "NameError",
     "evalue": "name 'bert_dataSet' is not defined",
     "output_type": "error",
     "traceback": [
      "\u001b[0;31m---------------------------------------------------------------------------\u001b[0m",
      "\u001b[0;31mNameError\u001b[0m                                 Traceback (most recent call last)",
      "\u001b[0;32m<ipython-input-2-93869e005c72>\u001b[0m in \u001b[0;36m<module>\u001b[0;34m()\u001b[0m\n\u001b[1;32m      4\u001b[0m \u001b[0;34m\u001b[0m\u001b[0m\n\u001b[1;32m      5\u001b[0m \u001b[0mbert_cnt_dict\u001b[0m \u001b[0;34m=\u001b[0m \u001b[0mdict\u001b[0m\u001b[0;34m(\u001b[0m\u001b[0;34m)\u001b[0m\u001b[0;34m\u001b[0m\u001b[0;34m\u001b[0m\u001b[0m\n\u001b[0;32m----> 6\u001b[0;31m \u001b[0;32mfor\u001b[0m \u001b[0mcnt\u001b[0m \u001b[0;32min\u001b[0m \u001b[0;34m[\u001b[0m\u001b[0mdata\u001b[0m\u001b[0;34m[\u001b[0m\u001b[0;34m-\u001b[0m\u001b[0;36m1\u001b[0m\u001b[0;34m]\u001b[0m \u001b[0;32mfor\u001b[0m \u001b[0mdata\u001b[0m \u001b[0;32min\u001b[0m \u001b[0mbert_dataSet\u001b[0m\u001b[0;34m]\u001b[0m\u001b[0;34m:\u001b[0m\u001b[0;34m\u001b[0m\u001b[0;34m\u001b[0m\u001b[0m\n\u001b[0m\u001b[1;32m      7\u001b[0m     \u001b[0;32mif\u001b[0m \u001b[0mcnt\u001b[0m \u001b[0;32mnot\u001b[0m \u001b[0;32min\u001b[0m \u001b[0mbert_cnt_dict\u001b[0m\u001b[0;34m:\u001b[0m\u001b[0;34m\u001b[0m\u001b[0;34m\u001b[0m\u001b[0m\n\u001b[1;32m      8\u001b[0m         \u001b[0mbert_cnt_dict\u001b[0m\u001b[0;34m[\u001b[0m\u001b[0mcnt\u001b[0m\u001b[0;34m]\u001b[0m \u001b[0;34m=\u001b[0m \u001b[0;36m0\u001b[0m\u001b[0;34m\u001b[0m\u001b[0;34m\u001b[0m\u001b[0m\n",
      "\u001b[0;31mNameError\u001b[0m: name 'bert_dataSet' is not defined"
     ]
    }
   ],
   "source": [
    "# print(set([data[-1] for data in bert_dataSet]))\n",
    "# print(set([data[-1] for data in origin_dataSet]))\n",
    "\n",
    "\n",
    "bert_cnt_dict = dict()\n",
    "for cnt in [data[-1] for data in bert_dataSet]:\n",
    "    if cnt not in bert_cnt_dict:\n",
    "        bert_cnt_dict[cnt] = 0\n",
    "    bert_cnt_dict[cnt] += 1\n",
    "    \n",
    "org_cnt_dict = dict()\n",
    "for cnt in [data[-1] for data in origin_dataSet]:\n",
    "    if cnt not in org_cnt_dict:\n",
    "        org_cnt_dict[cnt] = 0\n",
    "        \n",
    "    org_cnt_dict[cnt] += 1\n",
    "    \n",
    "\n",
    "\n",
    "for key, value in sorted(bert_cnt_dict.items(), key=lambda x:x[1]):\n",
    "    \n",
    "    sub_value = 0\n",
    "    if key in org_cnt_dict:\n",
    "        sub_value = org_cnt_dict[key]\n",
    "    \n",
    "    print(key, value, sub_value)\n",
    "    \n",
    "# print(sorted(bert_cnt_dict.items(), key=lambda x: x[1], reverse=True))\n",
    "\n",
    "# print(sorted(org_cnt_dict.items(), key=lambda x: x[1], reverse=True))"
   ]
  },
  {
   "cell_type": "markdown",
   "metadata": {},
   "source": [
    "### 오리지널 데이터 생성"
   ]
  },
  {
   "cell_type": "code",
   "execution_count": 6,
   "metadata": {},
   "outputs": [
    {
     "name": "stdout",
     "output_type": "stream",
     "text": [
      "유지될 데이터 : 206289\n",
      "버려질 데이터 : 18596\n",
      "저장 완료!\n"
     ]
    }
   ],
   "source": [
    "destDataSet_path = './normalized/original_moned_DataSet.csv'\n",
    "origin_dataSet, colList = readeDataSet(destDataSet_path)\n",
    "print(\"유지될 데이터 :\",sum([data[-1] for data in origin_dataSet if data[-1] > 2]))\n",
    "print(\"버려질 데이터 :\",sum([data[-1] for data in origin_dataSet if data[-1] < 3]))\n",
    "#3개 이상의 데이터만 생성\n",
    "counted_dataSet = regenerateDataByCount(origin_dataSet)\n",
    "\n",
    "\n",
    "k_Ano_DataSet_df = pd.DataFrame(counted_dataSet,columns=colList)\n",
    "k_Ano_DataSet_df.to_csv('./normalized/k_A_dataset_org_0613.csv',sep='\\t', index=False)\n",
    "print(\"저장 완료!\")"
   ]
  },
  {
   "cell_type": "markdown",
   "metadata": {},
   "source": [
    "### K 수별 빈도수"
   ]
  },
  {
   "cell_type": "code",
   "execution_count": 13,
   "metadata": {},
   "outputs": [
    {
     "name": "stdout",
     "output_type": "stream",
     "text": [
      "count bert origin\n",
      "  3  5044  6542\n",
      "  1  3993  4379\n",
      "  4  3398  4242\n",
      "  2  2937  3407\n",
      "  5  2060  2801\n",
      "  6   900  1306\n",
      "  7   693   899\n",
      "  8   392   510\n",
      "  9   330   390\n",
      " 10   253   262\n",
      " 11   203   218\n",
      " 12   182   160\n",
      " 13   160   120\n",
      " 14   110   115\n",
      " 15    89    96\n",
      " 16    85    90\n",
      " 17    72    68\n",
      " 20    57    44\n",
      " 19    57    54\n",
      " 18    56    53\n"
     ]
    }
   ],
   "source": [
    "\n",
    "bert_cnt_dict = dict()\n",
    "for cnt in [data[-1] for data in bert_dataSet]:\n",
    "    if cnt not in bert_cnt_dict:\n",
    "        bert_cnt_dict[cnt] = 0\n",
    "    bert_cnt_dict[cnt] += 1\n",
    "    \n",
    "org_cnt_dict = dict()\n",
    "for cnt in [data[-1] for data in origin_dataSet]:\n",
    "    if cnt not in org_cnt_dict:\n",
    "        org_cnt_dict[cnt] = 0\n",
    "        \n",
    "    org_cnt_dict[cnt] += 1\n",
    "    \n",
    "\n",
    "print(\"count\",\"bert\",\"origin\")\n",
    "for key, value in sorted(bert_cnt_dict.items(), key=lambda x:x[1], reverse=True)[0:20]:\n",
    "    \n",
    "    sub_value = 0\n",
    "    if key in org_cnt_dict:\n",
    "        sub_value = org_cnt_dict[key]\n",
    "    \n",
    "    print('{:>3}  {:>4}  {:>4}'.format(key, value, sub_value))"
   ]
  },
  {
   "cell_type": "code",
   "execution_count": null,
   "metadata": {},
   "outputs": [],
   "source": [
    "format(\"dddd\")"
   ]
  }
 ],
 "metadata": {
  "kernelspec": {
   "display_name": "Python 3",
   "language": "python",
   "name": "python3"
  },
  "language_info": {
   "codemirror_mode": {
    "name": "ipython",
    "version": 3
   },
   "file_extension": ".py",
   "mimetype": "text/x-python",
   "name": "python",
   "nbconvert_exporter": "python",
   "pygments_lexer": "ipython3",
   "version": "3.6.7"
  }
 },
 "nbformat": 4,
 "nbformat_minor": 2
}
