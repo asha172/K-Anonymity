{
 "cells": [
  {
   "cell_type": "code",
   "execution_count": 2,
   "metadata": {},
   "outputs": [],
   "source": [
    "import funcs as fc\n",
    "import pandas as pd\n",
    "from copy import deepcopy\n",
    "import csv"
   ]
  },
  {
   "cell_type": "code",
   "execution_count": 3,
   "metadata": {},
   "outputs": [],
   "source": [
    "def readCSV_Quoting(path, sep=','):\n",
    "    with open(path) as csv_file:\n",
    "        csv_reader = csv.reader(csv_file, delimiter=sep, quoting=csv.QUOTE_ALL)\n",
    "        csvList = list()\n",
    "        for row in csv_reader:\n",
    "            csvList.append(row)\n",
    "        \n",
    "    return csvList       \n",
    "\n",
    "def readeDataSet(destDataSet_path, sep='\\t'):\n",
    "    dest_DataSet = readCSV_Quoting(destDataSet_path, sep=sep)\n",
    "    colList = dest_DataSet[0]    \n",
    "    dest_DataSet = dest_DataSet[1:]\n",
    "    \n",
    "    for data in dest_DataSet:\n",
    "        data[-1] = int(data[-1])\n",
    "    \n",
    "    return dest_DataSet, colList[0:-1]\n",
    "\n",
    "def regenerateDataByCount(sourceDataSet):\n",
    "    k_Ano_DataSet = list()\n",
    "\n",
    "    for datarow in sourceDataSet:\n",
    "        rowCNT = datarow[-1]\n",
    "        if rowCNT > 2:\n",
    "            newDataRow = datarow.copy()\n",
    "            newDataRow.pop(-1)        \n",
    "            k_Ano_DataSet.extend([newDataRow]*rowCNT)\n",
    "    return k_Ano_DataSet"
   ]
  },
  {
   "cell_type": "markdown",
   "metadata": {},
   "source": [
    "### 버트 데이터 생성"
   ]
  },
  {
   "cell_type": "code",
   "execution_count": 24,
   "metadata": {},
   "outputs": [
    {
     "name": "stdout",
     "output_type": "stream",
     "text": [
      "유지될 데이터 : 105433\n",
      "버려질 데이터 : 9867\n",
      "저장 완료!\n"
     ]
    }
   ],
   "source": [
    "# destDataSet_path = './normalized/bert_moned_DataSet.csv'\n",
    "destDataSet_path = './normalized/bert_moned_DataSet_2.csv'\n",
    "bert_dataSet, bert_colList = readeDataSet(destDataSet_path, ',')\n",
    "print(\"유지될 데이터 :\",sum([data[-1] for data in bert_dataSet if data[-1] > 2]))\n",
    "print(\"버려질 데이터 :\",sum([data[-1] for data in bert_dataSet if data[-1] < 3]))\n",
    "#3개 이상의 데이터만 생성\n",
    "bert_counted_dataSet = regenerateDataByCount(bert_dataSet)\n",
    "\n",
    "\n",
    "k_Ano_DataSet_df = pd.DataFrame(bert_counted_dataSet,columns=bert_colList)\n",
    "k_Ano_DataSet_df.to_csv('./normalized/k_anonymity_dataset_bert_2.csv',sep='\\t', index=False)   \n",
    "print(\"저장 완료!\")"
   ]
  },
  {
   "cell_type": "code",
   "execution_count": 20,
   "metadata": {},
   "outputs": [
    {
     "data": {
      "text/plain": [
       "115300"
      ]
     },
     "execution_count": 20,
     "metadata": {},
     "output_type": "execute_result"
    }
   ],
   "source": [
    "sum([data[-1] for data in bert_dataSet])"
   ]
  },
  {
   "cell_type": "code",
   "execution_count": 23,
   "metadata": {},
   "outputs": [
    {
     "name": "stdout",
     "output_type": "stream",
     "text": [
      "152 1 0\n",
      "74 5 1\n",
      "22 42 31\n",
      "63 3 2\n",
      "10 211 262\n",
      "68 4 2\n",
      "66 2 0\n",
      "7 634 899\n",
      "86 2 0\n",
      "62 6 0\n",
      "81 2 0\n",
      "60 3 1\n",
      "115 1 0\n",
      "89 1 1\n",
      "5 1956 2801\n",
      "82 7 1\n",
      "98 4 0\n",
      "57 7 2\n",
      "49 12 3\n",
      "17 84 68\n",
      "56 2 0\n",
      "20 61 44\n",
      "151 1 0\n",
      "78 2 0\n",
      "61 4 2\n",
      "53 7 1\n",
      "14 115 115\n",
      "59 10 1\n",
      "13 176 120\n",
      "103 2 0\n",
      "25 44 25\n",
      "3 4447 6542\n",
      "37 20 9\n",
      "6 848 1306\n",
      "44 9 5\n",
      "69 7 2\n",
      "166 1 0\n",
      "46 10 4\n",
      "139 2 0\n",
      "9 360 390\n",
      "143 2 0\n",
      "91 1 0\n",
      "76 3 0\n",
      "67 5 1\n",
      "4 3188 4242\n",
      "23 51 43\n",
      "12 188 160\n",
      "8 409 510\n",
      "90 1 0\n",
      "50 8 4\n",
      "83 2 1\n",
      "55 7 1\n",
      "94 1 0\n",
      "84 5 0\n",
      "27 27 20\n",
      "21 54 32\n",
      "51 10 3\n",
      "41 13 12\n",
      "85 1 0\n",
      "42 14 7\n",
      "29 18 19\n",
      "73 6 1\n",
      "33 28 8\n",
      "65 5 1\n",
      "153 1 0\n",
      "11 224 218\n",
      "43 15 3\n",
      "39 18 10\n",
      "52 10 3\n",
      "105 1 0\n",
      "45 9 6\n",
      "31 36 13\n",
      "40 15 6\n",
      "75 1 0\n",
      "127 1 0\n",
      "64 5 1\n",
      "16 95 90\n",
      "58 5 1\n",
      "28 29 19\n",
      "26 36 20\n",
      "70 5 0\n",
      "48 3 4\n",
      "19 60 54\n",
      "175 1 0\n",
      "18 69 53\n",
      "38 24 12\n",
      "32 24 12\n",
      "35 20 9\n",
      "15 120 96\n",
      "30 16 27\n",
      "47 8 1\n",
      "106 1 0\n",
      "123 1 0\n",
      "109 2 0\n",
      "34 17 6\n",
      "92 1 0\n",
      "54 5 1\n",
      "36 12 14\n",
      "24 36 19\n",
      "79 1 0\n",
      "80 2 0\n",
      "97 2 0\n",
      "135 1 0\n",
      "71 3 1\n",
      "119 1 0\n",
      "93 1 0\n",
      "72 1 5\n",
      "87 1 1\n",
      "77 1 0\n",
      "95 1 0\n",
      "117 1 0\n",
      "100 1 0\n",
      "124 1 0\n"
     ]
    }
   ],
   "source": [
    "# print(set([data[-1] for data in bert_dataSet]))\n",
    "# print(set([data[-1] for data in origin_dataSet]))\n",
    "\n",
    "\n",
    "bert_cnt_dict = dict()\n",
    "for cnt in [data[-1] for data in bert_dataSet]:\n",
    "    if cnt not in bert_cnt_dict:\n",
    "        bert_cnt_dict[cnt] = 0\n",
    "    bert_cnt_dict[cnt] += 1\n",
    "    \n",
    "org_cnt_dict = dict()\n",
    "for cnt in [data[-1] for data in origin_dataSet]:\n",
    "    if cnt not in org_cnt_dict:\n",
    "        org_cnt_dict[cnt] = 0\n",
    "        \n",
    "    org_cnt_dict[cnt] += 1\n",
    "    \n",
    "    \n",
    "\n",
    "for key, value in bert_cnt_dict.items():\n",
    "    \n",
    "    sub_value = 0\n",
    "    if key in org_cnt_dict:\n",
    "        sub_value = org_cnt_dict[key]\n",
    "    \n",
    "    print(key, value, sub_value)\n",
    "    \n",
    "# print(sorted(bert_cnt_dict.items(), key=lambda x: x[1], reverse=True))\n",
    "\n",
    "# print(sorted(org_cnt_dict.items(), key=lambda x: x[1], reverse=True))"
   ]
  },
  {
   "cell_type": "markdown",
   "metadata": {},
   "source": [
    "### 오리지널 데이터 생성"
   ]
  },
  {
   "cell_type": "code",
   "execution_count": 9,
   "metadata": {},
   "outputs": [
    {
     "name": "stdout",
     "output_type": "stream",
     "text": [
      "유지될 데이터 : 104107\n",
      "버려질 데이터 : 11193\n",
      "저장 완료!\n"
     ]
    }
   ],
   "source": [
    "destDataSet_path = './normalized/original_moned_DataSet.csv'\n",
    "origin_dataSet, colList = readeDataSet(destDataSet_path)\n",
    "print(\"유지될 데이터 :\",sum([data[-1] for data in origin_dataSet if data[-1] > 2]))\n",
    "print(\"버려질 데이터 :\",sum([data[-1] for data in origin_dataSet if data[-1] < 3]))\n",
    "#3개 이상의 데이터만 생성\n",
    "counted_dataSet = regenerateDataByCount(origin_dataSet)\n",
    "\n",
    "\n",
    "k_Ano_DataSet_df = pd.DataFrame(counted_dataSet,columns=colList)\n",
    "k_Ano_DataSet_df.to_csv('./normalized/k_anonymity_dataset_org.csv',sep='\\t', index=False)\n",
    "print(\"저장 완료!\")"
   ]
  },
  {
   "cell_type": "code",
   "execution_count": null,
   "metadata": {},
   "outputs": [],
   "source": []
  }
 ],
 "metadata": {
  "kernelspec": {
   "display_name": "Python 3",
   "language": "python",
   "name": "python3"
  },
  "language_info": {
   "codemirror_mode": {
    "name": "ipython",
    "version": 3
   },
   "file_extension": ".py",
   "mimetype": "text/x-python",
   "name": "python",
   "nbconvert_exporter": "python",
   "pygments_lexer": "ipython3",
   "version": "3.6.7"
  }
 },
 "nbformat": 4,
 "nbformat_minor": 2
}
