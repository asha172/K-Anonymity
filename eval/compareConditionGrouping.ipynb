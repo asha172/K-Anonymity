{
 "cells": [
  {
   "cell_type": "markdown",
   "metadata": {},
   "source": [
    "베이스와 cosine Recover의 유사도 점수 비교"
   ]
  },
  {
   "cell_type": "code",
   "execution_count": 27,
   "metadata": {},
   "outputs": [],
   "source": [
    "import pandas as pd\n",
    "import csv\n",
    "import numpy as np\n",
    "from random import shuffle\n",
    "import funcs as fc\n",
    "import decimal\n",
    "from copy import deepcopy\n",
    "import math\n",
    "import seaborn as sns\n",
    "import math\n",
    "\n",
    "import matplotlib.pyplot as plt\n",
    "plt.figure(figsize=(15, 7))"
   ]
  },
  {
   "cell_type": "code",
   "execution_count": 4,
   "metadata": {},
   "outputs": [],
   "source": [
    "cosinde_distance_list =  fc.readCSV('./data_distance/distance_CONDITION_cosine.csv', sep='\\t')\n",
    "cityblock_distance_list =  fc.readCSV('./data_distance/distance_CONDITION_cityblock.csv', sep='\\t')\n",
    "euclidean_distance_list =  fc.readCSV('./data_distance/distance_CONDITION_euclidean.csv', sep='\\t')\n",
    "base_dataset = fc.readCSV('./normalized/k3/recover_origin_wc.csv', sep='\\t')"
   ]
  },
  {
   "cell_type": "code",
   "execution_count": 14,
   "metadata": {},
   "outputs": [],
   "source": [
    "cosinde_distance_dict= {data[1]:float(data[2]) for data in cosinde_distance_list}\n",
    "cityblock_distance_dict= {data[1]:float(data[2]) for data in cityblock_distance_list}\n",
    "euclidean_distance_dict= {data[1]:float(data[2]) for data in euclidean_distance_list}"
   ]
  },
  {
   "cell_type": "code",
   "execution_count": 68,
   "metadata": {},
   "outputs": [],
   "source": [
    "def getConGroupingValue(sourceDataSet, distanceDataDict):\n",
    "    \n",
    "    minMaxDiffList = []\n",
    "    for dataRow in sourceDataSet[1:]:\n",
    "        conGroup = dataRow[2].split(',')\n",
    "        cosinedGroup = []\n",
    "        if len(conGroup) > 1:\n",
    "            for conName in conGroup:\n",
    "                conName = conName.strip()\n",
    "                cosValue = distanceDataDict[conName]\n",
    "                cosinedGroup.append(cosValue)\n",
    "        \n",
    "            meanValue = sum(cosinedGroup) / float(len(cosinedGroup))\n",
    "            meanDiffSum= sum([abs(data - meanValue) for data in cosinedGroup])\n",
    "#             mndiff = max(cosinedGroup) - min(cosinedGroup)\n",
    "            minMaxDiffList.append(meanDiffSum)\n",
    "        \n",
    "    \n",
    "    totalMnDiffSum  = sum(minMaxDiffList)\n",
    "    print(\"total Min-Max diff Sum: \", round(totalMnDiffSum, 2))\n",
    "    avrg = round(totalMnDiffSum/len(minMaxDiffList),4)\n",
    "    print(\"Min-Max diff Avrg: \", avrg)\n",
    "    \n",
    "    return avrg"
   ]
  },
  {
   "cell_type": "code",
   "execution_count": 72,
   "metadata": {},
   "outputs": [
    {
     "name": "stdout",
     "output_type": "stream",
     "text": [
      "Cosine\n",
      "total Min-Max diff Sum:  2441.99\n",
      "Min-Max diff Avrg:  0.0154\n",
      " \n",
      "total Min-Max diff Sum:  5816.72\n",
      "Min-Max diff Avrg:  0.0538\n"
     ]
    },
    {
     "data": {
      "text/plain": [
       "<matplotlib.axes._subplots.AxesSubplot at 0x1a3298c2e8>"
      ]
     },
     "execution_count": 72,
     "metadata": {},
     "output_type": "execute_result"
    },
    {
     "data": {
      "image/png": "[encoded data removed]",
      "text/plain": [
       "<matplotlib.figure.Figure at 0x1a3b23d6d8>"
      ]
     },
     "metadata": {
      "needs_background": "light"
     },
     "output_type": "display_data"
    }
   ],
   "source": [
    "avgBarList = []\n",
    "\n",
    "cosined_Dataset = fc.readCSV('./normalized/k3/recover_bert_wc_cosine.csv', sep='\\t')\n",
    "print(\"Cosine\")\n",
    "cosi1 = getConGroupingValue(cosined_Dataset,cosinde_distance_dict)\n",
    "print(\" \")\n",
    "cosi2 = getConGroupingValue(base_dataset, cosinde_distance_dict)\n",
    "\n",
    "avgBarList.append(['Cosine', cosi1, 'Original'])\n",
    "avgBarList.append(['Cosine', cosi2, 'Embedding'])\n",
    "\n",
    "dataSource_pd = pd.DataFrame(avgBarList, columns=['Measurement', 'Grouping Attr.', 'Datatype'])\n",
    "sns.barplot(data=dataSource_pd, x='Measurement', y='Grouping Attr.', hue='Datatype')"
   ]
  },
  {
   "cell_type": "code",
   "execution_count": 73,
   "metadata": {},
   "outputs": [
    {
     "name": "stdout",
     "output_type": "stream",
     "text": [
      "cityblock\n",
      "total Min-Max diff Sum:  6430625.31\n",
      "Min-Max diff Avrg:  40.6377\n",
      " \n",
      "total Min-Max diff Sum:  7223496.59\n",
      "Min-Max diff Avrg:  66.7945\n"
     ]
    },
    {
     "data": {
      "text/plain": [
       "<matplotlib.axes._subplots.AxesSubplot at 0x1a440a15f8>"
      ]
     },
     "execution_count": 73,
     "metadata": {},
     "output_type": "execute_result"
    },
    {
     "data": {
      "image/png": "[encoded data removed]",
      "text/plain": [
       "<matplotlib.figure.Figure at 0x1a32985cf8>"
      ]
     },
     "metadata": {
      "needs_background": "light"
     },
     "output_type": "display_data"
    }
   ],
   "source": [
    "avgBarList = []\n",
    "\n",
    "cityblock_Dataset = fc.readCSV('./normalized/k3/recover_bert_wc_cityblock.csv', sep='\\t')\n",
    "print(\"cityblock\")\n",
    "cityb1 = getConGroupingValue(cosined_Dataset, cityblock_distance_dict)\n",
    "print(\" \")\n",
    "cityb2 = getConGroupingValue(base_dataset, cityblock_distance_dict)\n",
    "\n",
    "\n",
    "avgBarList.append(['Manhattan', cityb1, 'Original'])\n",
    "avgBarList.append(['Manhattan', cityb2, 'Embedding'])\n",
    "\n",
    "dataSource_pd = pd.DataFrame(avgBarList, columns=['Measurement', 'Grouping Attr.', 'Datatype'])\n",
    "sns.barplot(data=dataSource_pd, x='Measurement', y='Grouping Attr.', hue='Datatype')"
   ]
  },
  {
   "cell_type": "code",
   "execution_count": 74,
   "metadata": {},
   "outputs": [
    {
     "name": "stdout",
     "output_type": "stream",
     "text": [
      "euclidean\n",
      "total Min-Max diff Sum:  285062.81\n",
      "Min-Max diff Avrg:  1.8014\n",
      " \n",
      "total Min-Max diff Sum:  342954.87\n",
      "Min-Max diff Avrg:  3.1713\n"
     ]
    },
    {
     "data": {
      "text/plain": [
       "<matplotlib.axes._subplots.AxesSubplot at 0x1a29d11390>"
      ]
     },
     "execution_count": 74,
     "metadata": {},
     "output_type": "execute_result"
    },
    {
     "data": {
      "image/png": "[encoded data removed]",
      "text/plain": [
       "<matplotlib.figure.Figure at 0x1a32985b38>"
      ]
     },
     "metadata": {
      "needs_background": "light"
     },
     "output_type": "display_data"
    }
   ],
   "source": [
    "avgBarList = []\n",
    "\n",
    "euclidean_Dataset = fc.readCSV('./normalized/k3/recover_bert_wc_euclidean.csv', sep='\\t')\n",
    "print(\"euclidean\")\n",
    "manha1 = getConGroupingValue(cosined_Dataset, euclidean_distance_dict)\n",
    "print(\" \")\n",
    "manha2 = getConGroupingValue(base_dataset, euclidean_distance_dict)\n",
    "\n",
    "avgBarList.append(['Euclidean', manha1, 'Original'])\n",
    "avgBarList.append(['Euclidean', manha2, 'Embedding'])\n",
    "\n",
    "dataSource_pd = pd.DataFrame(avgBarList, columns=['Measurement', 'Grouping Attr.', 'Datatype'])\n",
    "sns.barplot(data=dataSource_pd, x='Measurement', y='Grouping Attr.', hue='Datatype')"
   ]
  },
  {
   "cell_type": "code",
   "execution_count": null,
   "metadata": {},
   "outputs": [],
   "source": []
  },
  {
   "cell_type": "code",
   "execution_count": null,
   "metadata": {},
   "outputs": [],
   "source": []
  }
 ],
 "metadata": {
  "kernelspec": {
   "display_name": "Python 3",
   "language": "python",
   "name": "python3"
  },
  "language_info": {
   "codemirror_mode": {
    "name": "ipython",
    "version": 3
   },
   "file_extension": ".py",
   "mimetype": "text/x-python",
   "name": "python",
   "nbconvert_exporter": "python",
   "pygments_lexer": "ipython3",
   "version": "3.6.7"
  }
 },
 "nbformat": 4,
 "nbformat_minor": 2
}
