{
 "cells": [
  {
   "cell_type": "code",
   "execution_count": 1,
   "metadata": {},
   "outputs": [],
   "source": [
    "import pandas as pd\n",
    "import csv\n",
    "import numpy as np\n",
    "from random import shuffle\n",
    "import funcs as fc\n",
    "import decimal"
   ]
  },
  {
   "cell_type": "code",
   "execution_count": 2,
   "metadata": {},
   "outputs": [],
   "source": [
    "ctx = decimal.Context()\n",
    "ctx.prec = 20\n",
    "\n",
    "def float_to_str(f):\n",
    "    \"\"\"\n",
    "    Convert the given float to a string,\n",
    "    without resorting to scientific notation\n",
    "    \"\"\"\n",
    "    d1 = ctx.create_decimal(repr(f))\n",
    "    return format(d1, 'f')\n",
    "\n",
    "def getTwoNumbersGap(num1, num2):\n",
    "    return abs(num1 - num2) + 1\n",
    "\n",
    "def getRangeGap(data):\n",
    "    maxV = max(data)\n",
    "    minV = min(data)\n",
    "    return getTwoNumbersGap(maxV, minV)\n",
    "\n",
    "def getMinMaxFromMultiD(sourceList):\n",
    "    maxValue = max(sourceList.reshape(-1))\n",
    "    minValue = min(sourceList.reshape(-1))\n",
    "    \n",
    "    return maxValue, minValue\n",
    "\n",
    "def getCategoryDiversityCNT(sourceList):\n",
    "    return len(set([j for sub in sourceList for j in sub]))"
   ]
  },
  {
   "cell_type": "code",
   "execution_count": 3,
   "metadata": {},
   "outputs": [],
   "source": [
    "def getOrgAllColumnDivertyCNT(datapath):\n",
    "    org_moned_dataset = fc.readCSV(datapath, sep='\\t')\n",
    "    print(org_moned_dataset[0])\n",
    "    org_moned_dataset = org_moned_dataset[1:]\n",
    "    \n",
    "    for dataRow in org_moned_dataset:\n",
    "        dataRow[0] = int(dataRow[0])\n",
    "        # 원본데이터 각 컬럼별 데이터 diversity count 추출\n",
    "    \n",
    "    columnsDiversityCNT = dict()\n",
    "    \n",
    "    for i, colName in enumerate(evalColNames):\n",
    "        if colName in categoricalColNames:\n",
    "            colIDX = evalColNames.index(colName)\n",
    "            columnsDiversityCNT[colIDX] = len(set([data[i] for data in org_moned_dataset]))\n",
    "        else:\n",
    "            diversityCNT = getRangeGap([float(data[i]) for data in org_moned_dataset])\n",
    "            columnsDiversityCNT[i] =diversityCNT       \n",
    "        \n",
    "        \n",
    "    return columnsDiversityCNT\n",
    "    \n",
    "\n",
    "def getCatetoryColDiversityCNT(cellData):\n",
    "    cnt = len(cellData.split(','))\n",
    "    return cnt\n",
    "\n",
    "def getNumericColDiversityCNT(cellData):\n",
    "    numericData = [float(data.strip()) for data in cellData.split('-') if data.strip()]\n",
    "    return getRangeGap(numericData)  "
   ]
  },
  {
   "cell_type": "code",
   "execution_count": 4,
   "metadata": {},
   "outputs": [],
   "source": [
    "def getLEScore(normalizedDataSet): \n",
    "        \n",
    "    eachColumnLEScoreList = list()    \n",
    "    normalizedDataSet_cols =normalizedDataSet[0]\n",
    "    print(normalizedDataSet_cols)\n",
    "    totalColNum = len(normalizedDataSet_cols)-1\n",
    "    \n",
    "    for i, colName in enumerate(normalizedDataSet_cols):\n",
    "        if colName not in evalColNames: continue\n",
    "            \n",
    "        colDataSet = [data[i] for data in normalizedDataSet[1:]]\n",
    "        isCategoriCol = colName in categoricalColNames\n",
    "        colDiversityCNT  = evalColDirvertyDIC[evalColNames.index(colName)]   \n",
    "        \n",
    "        colLEScoreList = list()  \n",
    "        for i, cellData in enumerate(colDataSet):\n",
    "            if isCategoriCol:\n",
    "                cellDiversityCNT = getCatetoryColDiversityCNT(cellData)\n",
    "                \n",
    "            else:\n",
    "                try:\n",
    "                    cellDiversityCNT = getNumericColDiversityCNT(cellData)\n",
    "                except:\n",
    "                    print(i, cellData)\n",
    "                    print(colName)\n",
    "                    break\n",
    "                \n",
    "            \n",
    "            \n",
    "            colLEScoreList.append(abs(cellDiversityCNT-1)/abs(colDiversityCNT-1))\n",
    "            \n",
    "        colLEScore = sum(colLEScoreList) / len(colDataSet)\n",
    "        print(colName ,\"sum :\", sum(colLEScoreList))\n",
    "        print(colName ,\"len :\", len(colDataSet))\n",
    "        print(colName ,\"colLEScore :\", colLEScore)\n",
    "        print('')\n",
    "        eachColumnLEScoreList.append(colLEScore)\n",
    "        \n",
    "    leScore = sum(eachColumnLEScoreList)/totalColNum \n",
    "    leScore = round(leScore, 7)\n",
    "    print(\"totla LE SCORE :\", leScore)\n",
    "    \n",
    "    return leScore"
   ]
  },
  {
   "cell_type": "markdown",
   "metadata": {},
   "source": [
    "#### CONST VARs"
   ]
  },
  {
   "cell_type": "code",
   "execution_count": 5,
   "metadata": {},
   "outputs": [],
   "source": [
    "evalColNames = ['AGE', 'RACE', 'ETHNICITY', 'GENDER', 'BIRTHPLACE', 'CONDITION']\n",
    "categoricalColNames = ['RACE',  'ETHNICITY', 'GENDER', 'BIRTHPLACE', 'CONDITION']\n",
    "originalDataSet_Path = './data/finalPatientDataSet_20.csv'"
   ]
  },
  {
   "cell_type": "code",
   "execution_count": 6,
   "metadata": {},
   "outputs": [],
   "source": [
    "origin_dataset = fc.readCSV(originalDataSet_Path, sep='\\t')"
   ]
  },
  {
   "cell_type": "code",
   "execution_count": 7,
   "metadata": {},
   "outputs": [
    {
     "name": "stdout",
     "output_type": "stream",
     "text": [
      "224886\n"
     ]
    }
   ],
   "source": [
    "print(len(origin_dataset))"
   ]
  },
  {
   "cell_type": "code",
   "execution_count": 8,
   "metadata": {},
   "outputs": [
    {
     "data": {
      "text/plain": [
       "134"
      ]
     },
     "execution_count": 8,
     "metadata": {},
     "output_type": "execute_result"
    }
   ],
   "source": [
    "len(set([data[-2] for data in origin_dataset]))"
   ]
  },
  {
   "cell_type": "code",
   "execution_count": 9,
   "metadata": {},
   "outputs": [
    {
     "data": {
      "text/plain": [
       "29740"
      ]
     },
     "execution_count": 9,
     "metadata": {},
     "output_type": "execute_result"
    }
   ],
   "source": [
    "deathData = [data for data in origin_dataset if data[-1] == '1']\n",
    "len(deathData)"
   ]
  },
  {
   "cell_type": "code",
   "execution_count": 10,
   "metadata": {},
   "outputs": [
    {
     "data": {
      "text/plain": [
       "[('Chronic congestive heart failure (disorder)', 4729),\n",
       " ('Myocardial Infarction', 3620),\n",
       " ('Viral sinusitis (disorder)', 3223),\n",
       " ('Stroke', 1900),\n",
       " ('Acute viral pharyngitis (disorder)', 1746),\n",
       " ('Pneumonia', 1658),\n",
       " ('Acute bronchitis (disorder)', 1498),\n",
       " ('Seizure disorder', 958),\n",
       " ('Bullet wound', 896),\n",
       " ('Cardiac Arrest', 891),\n",
       " ('Non-small cell carcinoma of lung  TNM stage 1 (disorder)', 471),\n",
       " ('Concussion injury of brain', 411),\n",
       " ('Neoplasm of prostate', 386),\n",
       " ('Streptococcal sore throat (disorder)', 346),\n",
       " ('Otitis media', 289),\n",
       " ('Drug overdose', 285),\n",
       " ('Sprain of ankle', 266),\n",
       " ('Polyp of colon', 261),\n",
       " (\"Alzheimer's disease (disorder)\", 223),\n",
       " ('Fracture of forearm', 222),\n",
       " ('Fracture of the vertebral column with spinal cord injury', 205),\n",
       " ('Hyperlipidemia', 203),\n",
       " ('Osteoporosis (disorder)', 198),\n",
       " ('Malignant tumor of colon', 197),\n",
       " ('Normal pregnancy', 186),\n",
       " ('Anemia (disorder)', 182),\n",
       " ('Concussion with no loss of consciousness', 176),\n",
       " ('Overlapping malignant neoplasm of colon', 175),\n",
       " ('Burn injury(morphologic abnormality)', 173),\n",
       " ('Chronic sinusitis (disorder)', 158),\n",
       " ('Fracture of ankle', 157),\n",
       " ('Fracture of clavicle', 154),\n",
       " ('Coronary Heart Disease', 154),\n",
       " ('Whiplash injury to neck', 151),\n",
       " ('Atrial Fibrillation', 147),\n",
       " ('Acute bacterial sinusitis (disorder)', 145),\n",
       " ('Metastasis from malignant tumor of prostate (disorder)', 134),\n",
       " ('Fracture subluxation of wrist', 131),\n",
       " ('Sinusitis (disorder)', 121),\n",
       " ('Sprain of wrist', 119),\n",
       " ('Epilepsy', 118),\n",
       " ('Laceration of thigh', 115),\n",
       " ('Laceration of hand', 102),\n",
       " ('Laceration of foot', 100),\n",
       " ('Facial laceration', 99),\n",
       " ('Pulmonary emphysema (disorder)', 99),\n",
       " ('Chronic obstructive bronchitis (disorder)', 92),\n",
       " ('Prediabetes', 91),\n",
       " ('Laceration of forearm', 91),\n",
       " ('Primary small cell malignant neoplasm of lung  TNM stage 1 (disorder)', 82),\n",
       " ('Fracture of rib', 76),\n",
       " ('Body mass index 30+ - obesity (finding)', 72),\n",
       " ('First degree burn', 67),\n",
       " ('Closed fracture of hip', 62),\n",
       " ('Secondary malignant neoplasm of colon', 57),\n",
       " ('Osteoarthritis of knee', 48),\n",
       " ('Escherichia coli urinary tract infection', 47),\n",
       " (\"Familial Alzheimer's disease of early onset (disorder)\", 43),\n",
       " ('Injury of tendon of the rotator cuff of shoulder', 40),\n",
       " ('Cystitis', 39),\n",
       " ('Second degree burn', 39),\n",
       " ('Chronic kidney disease stage 1 (disorder)', 38),\n",
       " ('Concussion with loss of consciousness', 37),\n",
       " ('Chronic intractable migraine without aura', 34),\n",
       " ('Primary malignant neoplasm of colon', 31),\n",
       " ('Recurrent rectal polyp', 29),\n",
       " ('Chronic pain', 28),\n",
       " ('Acute respiratory failure (disorder)', 27),\n",
       " ('Neuropathy due to type 2 diabetes mellitus (disorder)', 24),\n",
       " ('Impacted molars', 23),\n",
       " ('Hyperglycemia (disorder)', 22),\n",
       " ('Injury of anterior cruciate ligament', 20),\n",
       " ('Hypertension', 19),\n",
       " ('Injury of medial collateral ligament of knee', 18),\n",
       " ('Acute allergic reaction', 18),\n",
       " ('Idiopathic atrophic hypothyroidism', 16),\n",
       " ('Acute Cholecystitis', 16),\n",
       " ('Localized  primary osteoarthritis of the hand', 15),\n",
       " ('Diabetic retinopathy associated with type II diabetes mellitus (disorder)',\n",
       "  15),\n",
       " ('Antepartum eclampsia', 12),\n",
       " ('Hypertriglyceridemia (disorder)', 11),\n",
       " ('Appendicitis', 10),\n",
       " ('Tear of meniscus of knee', 9),\n",
       " ('Preeclampsia', 9),\n",
       " ('Osteoarthritis of hip', 9),\n",
       " ('Smokes tobacco daily', 9),\n",
       " ('Nonproliferative diabetic retinopathy due to type 2 diabetes mellitus (disorder)',\n",
       "  8),\n",
       " ('Gout', 8),\n",
       " ('Atopic dermatitis', 7),\n",
       " ('Perennial allergic rhinitis', 7),\n",
       " ('Rupture of patellar tendon', 7),\n",
       " ('Childhood asthma', 6),\n",
       " ('Proliferative diabetic retinopathy due to type II diabetes mellitus (disorder)',\n",
       "  6),\n",
       " ('Chronic kidney disease stage 2 (disorder)', 5),\n",
       " ('Opioid abuse (disorder)', 5),\n",
       " ('Sepsis caused by Staphylococcus aureus', 5),\n",
       " ('Sepsis caused by Pseudomonas (disorder)', 5),\n",
       " ('Alcoholism', 5),\n",
       " ('Diabetes', 4),\n",
       " ('Rheumatoid arthritis', 4),\n",
       " ('Macular edema and retinopathy due to type 2 diabetes mellitus (disorder)',\n",
       "  3),\n",
       " ('Perennial allergic rhinitis with seasonal variation', 3),\n",
       " ('Posttraumatic stress disorder', 3),\n",
       " ('Third degree burn', 3),\n",
       " ('Metabolic syndrome X (disorder)', 3),\n",
       " ('Suicide - suffocation', 3),\n",
       " ('History of amputation of foot (situation)', 2),\n",
       " ('Seasonal allergic rhinitis', 2),\n",
       " ('Child attention deficit disorder', 2),\n",
       " ('Primary fibromyalgia syndrome', 2),\n",
       " ('Fracture of vertebral column without spinal cord injury', 2),\n",
       " ('Rupture of appendix', 1),\n",
       " ('Non-small cell carcinoma of lung  TNM stage 2 (disorder)', 1),\n",
       " ('Miscarriage in first trimester', 1),\n",
       " ('Contact dermatitis', 1),\n",
       " ('Suspected lung cancer (situation)', 1),\n",
       " ('Pyelonephritis', 1),\n",
       " ('Chronic kidney disease stage 3 (disorder)', 1)]"
      ]
     },
     "execution_count": 10,
     "metadata": {},
     "output_type": "execute_result"
    }
   ],
   "source": [
    "freqDict = dict()\n",
    "for data in deathData:\n",
    "    if data[-2] not in freqDict:\n",
    "        freqDict[data[-2]] = 0\n",
    "    freqDict[data[-2]] += 1\n",
    "    \n",
    "sorted(freqDict.items(), key=lambda x:x[1], reverse = True)"
   ]
  },
  {
   "cell_type": "markdown",
   "metadata": {},
   "source": [
    "#### Origin Code Test"
   ]
  },
  {
   "cell_type": "code",
   "execution_count": 11,
   "metadata": {},
   "outputs": [
    {
     "name": "stdout",
     "output_type": "stream",
     "text": [
      "['AGE', 'RACE', 'ETHNICITY', 'GENDER', 'BIRTHPLACE', 'CONDITIOIN', 'DEATH']\n"
     ]
    },
    {
     "data": {
      "text/plain": [
       "{0: 111.0, 1: 6, 2: 24, 3: 2, 4: 27, 5: 133}"
      ]
     },
     "execution_count": 11,
     "metadata": {},
     "output_type": "execute_result"
    }
   ],
   "source": [
    "evalColDirvertyDIC = getOrgAllColumnDivertyCNT(originalDataSet_Path)\n",
    "evalColDirvertyDIC"
   ]
  },
  {
   "cell_type": "code",
   "execution_count": 12,
   "metadata": {},
   "outputs": [
    {
     "name": "stdout",
     "output_type": "stream",
     "text": [
      "206290\n"
     ]
    }
   ],
   "source": [
    "org_moned_dataset = fc.readCSV('./normalized/recover_origin_wc.csv', sep='\\t')\n",
    "print(len(org_moned_dataset))"
   ]
  },
  {
   "cell_type": "code",
   "execution_count": 13,
   "metadata": {},
   "outputs": [
    {
     "data": {
      "text/plain": [
       "['AGE', 'BIRTHPLACE', 'CONDITION', 'DEATH', 'ETHNICITY', 'GENDER', 'RACE']"
      ]
     },
     "execution_count": 13,
     "metadata": {},
     "output_type": "execute_result"
    }
   ],
   "source": [
    "org_moned_dataset[0]"
   ]
  },
  {
   "cell_type": "code",
   "execution_count": 14,
   "metadata": {},
   "outputs": [
    {
     "name": "stdout",
     "output_type": "stream",
     "text": [
      "['AGE', 'BIRTHPLACE', 'CONDITION', 'DEATH', 'ETHNICITY', 'GENDER', 'RACE']\n",
      "AGE sum : 1796.018181816946\n",
      "AGE len : 206289\n",
      "AGE colLEScore : 0.008706320656055078\n",
      "\n",
      "BIRTHPLACE sum : 107.49999999999575\n",
      "BIRTHPLACE len : 206289\n",
      "BIRTHPLACE colLEScore : 0.0005211135833708814\n",
      "\n",
      "CONDITION sum : 1072.9242424234246\n",
      "CONDITION len : 206289\n",
      "CONDITION colLEScore : 0.005201073457253778\n",
      "\n",
      "ETHNICITY sum : 81.99999999999751\n",
      "ETHNICITY len : 206289\n",
      "ETHNICITY colLEScore : 0.00039750059382709455\n",
      "\n",
      "GENDER sum : 0.0\n",
      "GENDER len : 206289\n",
      "GENDER colLEScore : 0.0\n",
      "\n",
      "RACE sum : 8.200000000000003\n",
      "RACE len : 206289\n",
      "RACE colLEScore : 3.975005938271068e-05\n",
      "\n",
      "totla LE SCORE : 0.0024776\n"
     ]
    },
    {
     "data": {
      "text/plain": [
       "'0.0024776'"
      ]
     },
     "execution_count": 14,
     "metadata": {},
     "output_type": "execute_result"
    }
   ],
   "source": [
    "leScore = getLEScore(org_moned_dataset)\n",
    "float_to_str(leScore)"
   ]
  },
  {
   "cell_type": "code",
   "execution_count": 15,
   "metadata": {},
   "outputs": [
    {
     "name": "stdout",
     "output_type": "stream",
     "text": [
      "207383\n"
     ]
    }
   ],
   "source": [
    "berted_dataset_bert = fc.readCSV('./normalized/recover_bert_wc.csv', sep='\\t')\n",
    "print(len(berted_dataset_bert))"
   ]
  },
  {
   "cell_type": "code",
   "execution_count": 16,
   "metadata": {},
   "outputs": [
    {
     "name": "stdout",
     "output_type": "stream",
     "text": [
      "['AGE', 'BIRTHPLACE', 'CONDITION', 'DEATH', 'ETHNICITY', 'GENDER', 'RACE']\n",
      "AGE sum : 0.0\n",
      "AGE len : 207382\n",
      "AGE colLEScore : 0.0\n",
      "\n",
      "BIRTHPLACE sum : 994.423076923261\n",
      "BIRTHPLACE len : 207382\n",
      "BIRTHPLACE colLEScore : 0.004795127238252409\n",
      "\n",
      "CONDITION sum : 3319.9393939481024\n",
      "CONDITION len : 207382\n",
      "CONDITION colLEScore : 0.016008811728829418\n",
      "\n",
      "ETHNICITY sum : 4764.043478263068\n",
      "ETHNICITY len : 207382\n",
      "ETHNICITY colLEScore : 0.022972309449533074\n",
      "\n",
      "GENDER sum : 0.0\n",
      "GENDER len : 207382\n",
      "GENDER colLEScore : 0.0\n",
      "\n",
      "RACE sum : 2245.4000000000924\n",
      "RACE len : 207382\n",
      "RACE colLEScore : 0.010827362066139263\n",
      "\n",
      "totla LE SCORE : 0.0091006\n"
     ]
    },
    {
     "data": {
      "text/plain": [
       "'0.0091006'"
      ]
     },
     "execution_count": 16,
     "metadata": {},
     "output_type": "execute_result"
    }
   ],
   "source": [
    "leScor2 = getLEScore(berted_dataset_bert)\n",
    "float_to_str(leScor2)"
   ]
  },
  {
   "cell_type": "markdown",
   "metadata": {},
   "source": [
    "#### Test Code"
   ]
  },
  {
   "cell_type": "code",
   "execution_count": null,
   "metadata": {},
   "outputs": [],
   "source": []
  },
  {
   "cell_type": "code",
   "execution_count": null,
   "metadata": {},
   "outputs": [],
   "source": []
  }
 ],
 "metadata": {
  "kernelspec": {
   "display_name": "Python 3",
   "language": "python",
   "name": "python3"
  },
  "language_info": {
   "codemirror_mode": {
    "name": "ipython",
    "version": 3
   },
   "file_extension": ".py",
   "mimetype": "text/x-python",
   "name": "python",
   "nbconvert_exporter": "python",
   "pygments_lexer": "ipython3",
   "version": "3.6.7"
  }
 },
 "nbformat": 4,
 "nbformat_minor": 2
}
