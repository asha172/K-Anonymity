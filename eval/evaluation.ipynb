{
 "cells": [
  {
   "cell_type": "code",
   "execution_count": 1,
   "metadata": {},
   "outputs": [],
   "source": [
    "import pandas as pd\n",
    "import csv\n",
    "import numpy as np\n",
    "from random import shuffle\n",
    "import funcs as fc\n",
    "import decimal"
   ]
  },
  {
   "cell_type": "code",
   "execution_count": 2,
   "metadata": {},
   "outputs": [],
   "source": [
    "ctx = decimal.Context()\n",
    "ctx.prec = 20\n",
    "\n",
    "def float_to_str(f):\n",
    "    \"\"\"\n",
    "    Convert the given float to a string,\n",
    "    without resorting to scientific notation\n",
    "    \"\"\"\n",
    "    d1 = ctx.create_decimal(repr(f))\n",
    "    return format(d1, 'f')\n",
    "\n",
    "def getTwoNumbersGap(num1, num2):\n",
    "    return abs(num1 - num2) + 1\n",
    "\n",
    "def getRangeGap(data):\n",
    "    maxV = max(data)\n",
    "    minV = min(data)\n",
    "    return getTwoNumbersGap(maxV, minV)\n",
    "\n",
    "def getMinMaxFromMultiD(sourceList):\n",
    "    maxValue = max(sourceList.reshape(-1))\n",
    "    minValue = min(sourceList.reshape(-1))\n",
    "    \n",
    "    return maxValue, minValue\n",
    "\n",
    "def getCategoryDiversityCNT(sourceList):\n",
    "    return len(set([j for sub in sourceList for j in sub]))"
   ]
  },
  {
   "cell_type": "code",
   "execution_count": 3,
   "metadata": {},
   "outputs": [],
   "source": [
    "def getOrgAllColumnDivertyCNT(datapath):\n",
    "    org_moned_dataset = fc.readCSV(datapath, sep='\\t')\n",
    "    print(org_moned_dataset[0])\n",
    "    org_moned_dataset = org_moned_dataset[1:]\n",
    "    \n",
    "    for dataRow in org_moned_dataset:\n",
    "        dataRow[0] = int(dataRow[0])\n",
    "        # 원본데이터 각 컬럼별 데이터 diversity count 추출\n",
    "    \n",
    "    columnsDiversityCNT = dict()\n",
    "    \n",
    "    for i, colName in enumerate(evalColNames):\n",
    "        if colName in categoricalColNames:\n",
    "            colIDX = evalColNames.index(colName)\n",
    "            columnsDiversityCNT[colIDX] = len(set([data[i] for data in org_moned_dataset]))\n",
    "        else:\n",
    "            diversityCNT = getRangeGap([float(data[i]) for data in org_moned_dataset])\n",
    "            columnsDiversityCNT[i] =diversityCNT       \n",
    "        \n",
    "        \n",
    "    return columnsDiversityCNT\n",
    "    \n",
    "\n",
    "def getCatetoryColDiversityCNT(cellData):\n",
    "    cnt = len(cellData.split(','))\n",
    "    return cnt\n",
    "\n",
    "def getNumericColDiversityCNT(cellData):\n",
    "    numericData = [float(data.strip()) for data in cellData.split('-') if data.strip()]\n",
    "    return getRangeGap(numericData)  "
   ]
  },
  {
   "cell_type": "code",
   "execution_count": 4,
   "metadata": {},
   "outputs": [],
   "source": [
    "def getLEScore(normalizedDataSet): \n",
    "        \n",
    "    eachColumnLEScoreList = list()    \n",
    "    normalizedDataSet_cols =normalizedDataSet[0]\n",
    "    print(normalizedDataSet_cols)\n",
    "    totalColNum = len(normalizedDataSet_cols)\n",
    "    \n",
    "    for i, colName in enumerate(normalizedDataSet_cols):\n",
    "        if colName not in evalColNames: continue\n",
    "            \n",
    "        colDataSet = [data[i] for data in normalizedDataSet[1:]]\n",
    "        isCategoriCol = colName in categoricalColNames\n",
    "        colDiversityCNT  = evalColDirvertyDIC[evalColNames.index(colName)]   \n",
    "        \n",
    "        colLEScoreList = list()  \n",
    "        for i, cellData in enumerate(colDataSet):\n",
    "            if isCategoriCol:\n",
    "                cellDiversityCNT = getCatetoryColDiversityCNT(cellData)\n",
    "                \n",
    "            else:\n",
    "                try:\n",
    "                    cellDiversityCNT = getNumericColDiversityCNT(cellData)\n",
    "                except:\n",
    "                    print(i, cellData)\n",
    "                    print(colName)\n",
    "                    break\n",
    "                \n",
    "            \n",
    "            \n",
    "            colLEScoreList.append(abs(cellDiversityCNT-1)/abs(colDiversityCNT-1))\n",
    "            \n",
    "        colLEScore = sum(colLEScoreList) / len(colDataSet)\n",
    "        print(colName ,\"sum :\", sum(colLEScoreList))\n",
    "        print(colName ,\"len :\", len(colDataSet))\n",
    "        print(colName ,\"colLEScore :\", colLEScore)\n",
    "        print('')\n",
    "        eachColumnLEScoreList.append(colLEScore)\n",
    "        \n",
    "    leScore = sum(eachColumnLEScoreList)/totalColNum \n",
    "    leScore = round(leScore, 7)\n",
    "    print(\"totla LE SCORE :\", leScore)\n",
    "    \n",
    "    return leScore"
   ]
  },
  {
   "cell_type": "markdown",
   "metadata": {},
   "source": [
    "#### CONST VARs"
   ]
  },
  {
   "cell_type": "code",
   "execution_count": 5,
   "metadata": {},
   "outputs": [],
   "source": [
    "evalColNames = ['AGE', 'RACE', 'ETHNICITY', 'GENDER', 'BIRTHPLACE', 'CONDITION']\n",
    "categoricalColNames = ['RACE',  'ETHNICITY', 'GENDER', 'BIRTHPLACE', 'CONDITION']\n",
    "originalDataSet_Path = './data/finalPatientDataSet_20.csv'"
   ]
  },
  {
   "cell_type": "code",
   "execution_count": 6,
   "metadata": {},
   "outputs": [],
   "source": [
    "origin_dataset = fc.readCSV(originalDataSet_Path, sep='\\t')"
   ]
  },
  {
   "cell_type": "code",
   "execution_count": 19,
   "metadata": {},
   "outputs": [
    {
     "name": "stdout",
     "output_type": "stream",
     "text": [
      "224886\n"
     ]
    }
   ],
   "source": [
    "print(len(origin_dataset))"
   ]
  },
  {
   "cell_type": "code",
   "execution_count": 8,
   "metadata": {},
   "outputs": [
    {
     "data": {
      "text/plain": [
       "134"
      ]
     },
     "execution_count": 8,
     "metadata": {},
     "output_type": "execute_result"
    }
   ],
   "source": [
    "len(set([data[-2] for data in origin_dataset]))"
   ]
  },
  {
   "cell_type": "code",
   "execution_count": 9,
   "metadata": {},
   "outputs": [
    {
     "data": {
      "text/plain": [
       "29740"
      ]
     },
     "execution_count": 9,
     "metadata": {},
     "output_type": "execute_result"
    }
   ],
   "source": [
    "deathData = [data for data in origin_dataset if data[-1] == '1']\n",
    "len(deathData)"
   ]
  },
  {
   "cell_type": "code",
   "execution_count": 10,
   "metadata": {},
   "outputs": [],
   "source": [
    "freqDict = dict()\n",
    "for data in deathData:\n",
    "    if data[-2] not in freqDict:\n",
    "        freqDict[data[-2]] = 0\n",
    "    freqDict[data[-2]] += 1\n",
    "    \n",
    "sorted(freqDict.items(), key=lambda x:x[1], reverse = True)"
   ]
  },
  {
   "cell_type": "markdown",
   "metadata": {},
   "source": [
    "#### Origin Code Test"
   ]
  },
  {
   "cell_type": "code",
   "execution_count": 10,
   "metadata": {},
   "outputs": [
    {
     "name": "stdout",
     "output_type": "stream",
     "text": [
      "['AGE', 'RACE', 'ETHNICITY', 'GENDER', 'BIRTHPLACE', 'CONDITIOIN', 'DEATH']\n"
     ]
    },
    {
     "data": {
      "text/plain": [
       "{0: 111.0, 1: 6, 2: 24, 3: 2, 4: 27, 5: 133}"
      ]
     },
     "execution_count": 10,
     "metadata": {},
     "output_type": "execute_result"
    }
   ],
   "source": [
    "evalColDirvertyDIC = getOrgAllColumnDivertyCNT(originalDataSet_Path)\n",
    "evalColDirvertyDIC"
   ]
  },
  {
   "cell_type": "code",
   "execution_count": 15,
   "metadata": {},
   "outputs": [
    {
     "name": "stdout",
     "output_type": "stream",
     "text": [
      "206290\n"
     ]
    }
   ],
   "source": [
    "org_moned_dataset = fc.readCSV('./normalized/recover_origin_wc.csv', sep='\\t')\n",
    "print(len(org_moned_dataset))"
   ]
  },
  {
   "cell_type": "code",
   "execution_count": 12,
   "metadata": {},
   "outputs": [
    {
     "data": {
      "text/plain": [
       "['AGE', 'BIRTHPLACE', 'CONDITION', 'DEATH', 'ETHNICITY', 'GENDER', 'RACE']"
      ]
     },
     "execution_count": 12,
     "metadata": {},
     "output_type": "execute_result"
    }
   ],
   "source": [
    "org_moned_dataset[0]"
   ]
  },
  {
   "cell_type": "code",
   "execution_count": 13,
   "metadata": {},
   "outputs": [
    {
     "name": "stdout",
     "output_type": "stream",
     "text": [
      "['AGE', 'BIRTHPLACE', 'CONDITION', 'DEATH', 'ETHNICITY', 'GENDER', 'RACE']\n",
      "AGE sum : 1796.018181816946\n",
      "AGE len : 206289\n",
      "AGE colLEScore : 0.008706320656055078\n",
      "\n",
      "BIRTHPLACE sum : 107.49999999999575\n",
      "BIRTHPLACE len : 206289\n",
      "BIRTHPLACE colLEScore : 0.0005211135833708814\n",
      "\n",
      "CONDITION sum : 1072.9242424234246\n",
      "CONDITION len : 206289\n",
      "CONDITION colLEScore : 0.005201073457253778\n",
      "\n",
      "ETHNICITY sum : 81.99999999999751\n",
      "ETHNICITY len : 206289\n",
      "ETHNICITY colLEScore : 0.00039750059382709455\n",
      "\n",
      "GENDER sum : 0.0\n",
      "GENDER len : 206289\n",
      "GENDER colLEScore : 0.0\n",
      "\n",
      "RACE sum : 8.200000000000003\n",
      "RACE len : 206289\n",
      "RACE colLEScore : 3.975005938271068e-05\n",
      "\n",
      "totla LE SCORE : 0.0021237\n"
     ]
    },
    {
     "data": {
      "text/plain": [
       "'0.0021237'"
      ]
     },
     "execution_count": 13,
     "metadata": {},
     "output_type": "execute_result"
    }
   ],
   "source": [
    "leScore = getLEScore(org_moned_dataset)\n",
    "float_to_str(leScore)"
   ]
  },
  {
   "cell_type": "code",
   "execution_count": 17,
   "metadata": {},
   "outputs": [
    {
     "name": "stdout",
     "output_type": "stream",
     "text": [
      "208298\n"
     ]
    }
   ],
   "source": [
    "berted_dataset_bert = fc.readCSV('./normalized/recover_bert_wc.csv', sep='\\t')\n",
    "print(len(berted_dataset_bert))"
   ]
  },
  {
   "cell_type": "code",
   "execution_count": 18,
   "metadata": {},
   "outputs": [
    {
     "name": "stdout",
     "output_type": "stream",
     "text": [
      "['AGE', 'BIRTHPLACE', 'CONDITION', 'DEATH', 'ETHNICITY', 'GENDER', 'RACE']\n",
      "AGE sum : 0.0\n",
      "AGE len : 208297\n",
      "AGE colLEScore : 0.0\n",
      "\n",
      "BIRTHPLACE sum : 3375.0384615351322\n",
      "BIRTHPLACE len : 208297\n",
      "BIRTHPLACE colLEScore : 0.01620301042038595\n",
      "\n",
      "CONDITION sum : 5160.257575773075\n",
      "CONDITION len : 208297\n",
      "CONDITION colLEScore : 0.02477355687202924\n",
      "\n",
      "ETHNICITY sum : 7166.39130435911\n",
      "ETHNICITY len : 208297\n",
      "ETHNICITY colLEScore : 0.03440467843684311\n",
      "\n",
      "GENDER sum : 1274.0\n",
      "GENDER len : 208297\n",
      "GENDER colLEScore : 0.0061162666769084524\n",
      "\n",
      "RACE sum : 6351.999999996525\n",
      "RACE len : 208297\n",
      "RACE colLEScore : 0.030494918313737233\n",
      "\n",
      "totla LE SCORE : 0.0159989\n"
     ]
    },
    {
     "data": {
      "text/plain": [
       "'0.0159989'"
      ]
     },
     "execution_count": 18,
     "metadata": {},
     "output_type": "execute_result"
    }
   ],
   "source": [
    "leScor2 = getLEScore(berted_dataset_bert)\n",
    "float_to_str(leScor2)"
   ]
  },
  {
   "cell_type": "markdown",
   "metadata": {},
   "source": [
    "#### Test Code"
   ]
  }
 ],
 "metadata": {
  "kernelspec": {
   "display_name": "Python 3",
   "language": "python",
   "name": "python3"
  },
  "language_info": {
   "codemirror_mode": {
    "name": "ipython",
    "version": 3
   },
   "file_extension": ".py",
   "mimetype": "text/x-python",
   "name": "python",
   "nbconvert_exporter": "python",
   "pygments_lexer": "ipython3",
   "version": "3.7.1"
  }
 },
 "nbformat": 4,
 "nbformat_minor": 2
}
