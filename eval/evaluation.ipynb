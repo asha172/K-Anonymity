{
 "cells": [
  {
   "cell_type": "code",
   "execution_count": 1,
   "metadata": {},
   "outputs": [],
   "source": [
    "import pandas as pd\n",
    "import csv\n",
    "import numpy as np\n",
    "from random import shuffle\n",
    "import funcs as fc\n",
    "import decimal\n",
    "\n"
   ]
  },
  {
   "cell_type": "code",
   "execution_count": 2,
   "metadata": {},
   "outputs": [],
   "source": [
    "ctx = decimal.Context()\n",
    "ctx.prec = 20\n",
    "\n",
    "def float_to_str(f):\n",
    "    \"\"\"\n",
    "    Convert the given float to a string,\n",
    "    without resorting to scientific notation\n",
    "    \"\"\"\n",
    "    d1 = ctx.create_decimal(repr(f))\n",
    "    return format(d1, 'f')\n",
    "\n",
    "def getTwoNumbersGap(num1, num2):\n",
    "    return abs(num1 - num2) + 1\n",
    "\n",
    "def getRangeGap(data):\n",
    "    maxV = max(data)\n",
    "    minV = min(data)\n",
    "    return getTwoNumbersGap(maxV, minV)\n",
    "\n",
    "def getMinMaxFromMultiD(sourceList):\n",
    "    maxValue = max(sourceList.reshape(-1))\n",
    "    minValue = min(sourceList.reshape(-1))\n",
    "    \n",
    "    return maxValue, minValue\n",
    "\n",
    "def getCategoryDiversityCNT(sourceList):\n",
    "    return len(set([j for sub in sourceList for j in sub]))"
   ]
  },
  {
   "cell_type": "code",
   "execution_count": 38,
   "metadata": {},
   "outputs": [],
   "source": [
    "def getOrgAllColumnDivertyCNT(datapath):\n",
    "    org_moned_dataset = fc.readCSV(datapath, sep='\\t')\n",
    "    print(org_moned_dataset[0])\n",
    "    org_moned_dataset = org_moned_dataset[1:]\n",
    "    \n",
    "    for dataRow in org_moned_dataset:\n",
    "        dataRow[0] = int(dataRow[0])\n",
    "        # 원본데이터 각 컬럼별 데이터 diversity count 추출\n",
    "    \n",
    "    columnsDiversityCNT = dict()\n",
    "    \n",
    "    for i, colName in enumerate(evalColNames):\n",
    "        if colName in categoricalColNames:\n",
    "            colIDX = evalColNames.index(colName)\n",
    "            columnsDiversityCNT[colIDX] = len(set([data[i] for data in org_moned_dataset]))\n",
    "        else:\n",
    "            diversityCNT = getRangeGap([float(data[i]) for data in org_moned_dataset])\n",
    "            columnsDiversityCNT[i] =diversityCNT       \n",
    "        \n",
    "        \n",
    "    return columnsDiversityCNT\n",
    "    \n",
    "\n",
    "def getCatetoryColDiversityCNT(cellData):\n",
    "    cnt = len(cellData.split(','))\n",
    "    return cnt\n",
    "\n",
    "def getNumericColDiversityCNT(cellData):\n",
    "    numericData = [float(data.strip()) for data in cellData.split('-') if data.strip()]\n",
    "    return getRangeGap(numericData)  "
   ]
  },
  {
   "cell_type": "code",
   "execution_count": 52,
   "metadata": {},
   "outputs": [],
   "source": [
    "def getLEScore(normalizedDataSet): \n",
    "        \n",
    "    eachColumnLEScoreList = list()    \n",
    "    normalizedDataSet_cols =normalizedDataSet[0]\n",
    "    print(normalizedDataSet_cols)\n",
    "    totalColNum = len(normalizedDataSet_cols)\n",
    "    \n",
    "    for i, colName in enumerate(normalizedDataSet_cols):\n",
    "        if colName not in evalColNames: continue\n",
    "            \n",
    "        colDataSet = [data[i] for data in normalizedDataSet[1:]]\n",
    "        isCategoriCol = colName in categoricalColNames\n",
    "        colDiversityCNT  = evalColDirvertyDIC[evalColNames.index(colName)]   \n",
    "        \n",
    "        colLEScoreList = list()  \n",
    "        for i, cellData in enumerate(colDataSet):\n",
    "            if isCategoriCol:\n",
    "                cellDiversityCNT = getCatetoryColDiversityCNT(cellData)\n",
    "                \n",
    "            else:\n",
    "                try:\n",
    "                    cellDiversityCNT = getNumericColDiversityCNT(cellData)\n",
    "                except:\n",
    "                    print(i, cellData)\n",
    "                    print(colName)\n",
    "                    break\n",
    "                \n",
    "            \n",
    "            \n",
    "            colLEScoreList.append(abs(cellDiversityCNT-1)/abs(colDiversityCNT-1))\n",
    "            \n",
    "        colLEScore = sum(colLEScoreList) / len(colDataSet)\n",
    "        print(colName ,\"sum :\", sum(colLEScoreList))\n",
    "        print(colName ,\"len :\", len(colDataSet))\n",
    "        print(colName ,\"colLEScore :\", colLEScore)\n",
    "        print('')\n",
    "        eachColumnLEScoreList.append(colLEScore)\n",
    "        \n",
    "    leScore = sum(eachColumnLEScoreList)/totalColNum \n",
    "    leScore = round(leScore, 7)\n",
    "    print(\"totla LE SCORE :\", leScore)\n",
    "    \n",
    "    return leScore"
   ]
  },
  {
   "cell_type": "markdown",
   "metadata": {},
   "source": [
    "#### CONST VARs"
   ]
  },
  {
   "cell_type": "code",
   "execution_count": 53,
   "metadata": {},
   "outputs": [],
   "source": [
    "evalColNames = ['AGE', 'RACE', 'ETHNICITY', 'GENDER', 'BIRTHPLACE', 'CONDITION']\n",
    "categoricalColNames = ['RACE',  'ETHNICITY', 'GENDER', 'BIRTHPLACE', 'CONDITION']\n",
    "originalDataSet_Path = './data/finalPatientDataSet.csv'"
   ]
  },
  {
   "cell_type": "markdown",
   "metadata": {},
   "source": [
    "#### Origin Code Test"
   ]
  },
  {
   "cell_type": "code",
   "execution_count": 54,
   "metadata": {},
   "outputs": [
    {
     "name": "stdout",
     "output_type": "stream",
     "text": [
      "['AGE', 'RACE', 'ETHNICITY', 'GENDER', 'BIRTHPLACE', 'CONDITION', 'DEATH']\n"
     ]
    },
    {
     "data": {
      "text/plain": [
       "{0: 111.0, 1: 6, 2: 24, 3: 2, 4: 27, 5: 128}"
      ]
     },
     "execution_count": 54,
     "metadata": {},
     "output_type": "execute_result"
    }
   ],
   "source": [
    "evalColDirvertyDIC = getOrgAllColumnDivertyCNT(originalDataSet_Path)\n",
    "orgColDirvertyDIC"
   ]
  },
  {
   "cell_type": "code",
   "execution_count": 55,
   "metadata": {},
   "outputs": [],
   "source": [
    "org_moned_dataset = fc.readCSV('./normalized/k_anonymity_dataset_org.csv', sep='\\t')"
   ]
  },
  {
   "cell_type": "code",
   "execution_count": 56,
   "metadata": {},
   "outputs": [
    {
     "data": {
      "text/plain": [
       "['AGE', 'BIRTHPLACE', 'CONDITION', 'DEATH', 'ETHNICITY', 'GENDER', 'RACE']"
      ]
     },
     "execution_count": 56,
     "metadata": {},
     "output_type": "execute_result"
    }
   ],
   "source": [
    "org_moned_dataset[0]"
   ]
  },
  {
   "cell_type": "code",
   "execution_count": 57,
   "metadata": {},
   "outputs": [
    {
     "name": "stdout",
     "output_type": "stream",
     "text": [
      "['AGE', 'BIRTHPLACE', 'CONDITION', 'DEATH', 'ETHNICITY', 'GENDER', 'RACE']\n",
      "AGE sum : 1124.4999999993624\n",
      "AGE len : 104107\n",
      "AGE colLEScore : 0.010801387034487233\n",
      "\n",
      "BIRTHPLACE sum : 127.34615384614682\n",
      "BIRTHPLACE len : 104107\n",
      "BIRTHPLACE colLEScore : 0.001223223739480984\n",
      "\n",
      "CONDITION sum : 679.5039370077411\n",
      "CONDITION len : 104107\n",
      "CONDITION colLEScore : 0.006526976447383376\n",
      "\n",
      "ETHNICITY sum : 87.21739130434513\n",
      "ETHNICITY len : 104107\n",
      "ETHNICITY colLEScore : 0.0008377668293615715\n",
      "\n",
      "GENDER sum : 0.0\n",
      "GENDER len : 104107\n",
      "GENDER colLEScore : 0.0\n",
      "\n",
      "RACE sum : 8.8\n",
      "RACE len : 104107\n",
      "RACE colLEScore : 8.452841787776039e-05\n",
      "\n",
      "totla LE SCORE : 0.002782\n"
     ]
    },
    {
     "data": {
      "text/plain": [
       "'0.002782'"
      ]
     },
     "execution_count": 57,
     "metadata": {},
     "output_type": "execute_result"
    }
   ],
   "source": [
    "leScore = getLEScore(org_moned_dataset)\n",
    "float_to_str(leScore)"
   ]
  },
  {
   "cell_type": "code",
   "execution_count": 61,
   "metadata": {},
   "outputs": [
    {
     "name": "stdout",
     "output_type": "stream",
     "text": [
      "['AGE', 'BIRTHPLACE', 'CONDITION', 'DEATH', 'ETHNICITY', 'GENDER', 'RACE']\n",
      "AGE sum : 8173.172727273871\n",
      "AGE len : 105433\n",
      "AGE colLEScore : 0.07752006228859912\n",
      "\n",
      "BIRTHPLACE sum : 1137.615384615306\n",
      "BIRTHPLACE len : 105433\n",
      "BIRTHPLACE colLEScore : 0.010789936591155578\n",
      "\n",
      "CONDITION sum : 1673.6850393697916\n",
      "CONDITION len : 105433\n",
      "CONDITION colLEScore : 0.015874394538425273\n",
      "\n",
      "ETHNICITY sum : 5753.826086960549\n",
      "ETHNICITY len : 105433\n",
      "ETHNICITY colLEScore : 0.05457329381655221\n",
      "\n",
      "GENDER sum : 40362.0\n",
      "GENDER len : 105433\n",
      "GENDER colLEScore : 0.3828213178037237\n",
      "\n",
      "RACE sum : 310.99999999999136\n",
      "RACE len : 105433\n",
      "RACE colLEScore : 0.0029497405935522214\n",
      "\n",
      "totla LE SCORE : 0.0777898\n"
     ]
    },
    {
     "data": {
      "text/plain": [
       "'0.0777898'"
      ]
     },
     "execution_count": 61,
     "metadata": {},
     "output_type": "execute_result"
    }
   ],
   "source": [
    "berted_dataset_bert = fc.readCSV('./normalized/k_anonymity_dataset_bert_2.csv', sep='\\t')\n",
    "leScor2 = getLEScore(berted_dataset_bert)\n",
    "float_to_str(leScor2)"
   ]
  },
  {
   "cell_type": "code",
   "execution_count": null,
   "metadata": {},
   "outputs": [],
   "source": [
    "berted_dataset_bert = fc.readCSV('./normalized/k_anonymity_dataset_bert.csv', sep='\\t')\n",
    "leScor2 = getLEScore(berted_dataset_bert)\n",
    "float_to_str(leScor2)"
   ]
  },
  {
   "cell_type": "markdown",
   "metadata": {},
   "source": [
    "#### Test Code"
   ]
  }
 ],
 "metadata": {
  "kernelspec": {
   "display_name": "Python 3",
   "language": "python",
   "name": "python3"
  },
  "language_info": {
   "codemirror_mode": {
    "name": "ipython",
    "version": 3
   },
   "file_extension": ".py",
   "mimetype": "text/x-python",
   "name": "python",
   "nbconvert_exporter": "python",
   "pygments_lexer": "ipython3",
   "version": "3.6.7"
  }
 },
 "nbformat": 4,
 "nbformat_minor": 2
}
