{
 "cells": [
  {
   "cell_type": "code",
   "execution_count": 324,
   "metadata": {},
   "outputs": [],
   "source": [
    "import pandas as pd\n",
    "import csv\n",
    "import numpy as np\n",
    "from random import shuffle\n",
    "import funcs as fc\n",
    "import decimal\n",
    "from copy import deepcopy\n",
    "import math\n",
    "import seaborn as sns"
   ]
  },
  {
   "cell_type": "code",
   "execution_count": 325,
   "metadata": {},
   "outputs": [],
   "source": [
    "ctx = decimal.Context()\n",
    "ctx.prec = 20\n",
    "\n",
    "def float_to_str(f):\n",
    "    \"\"\"\n",
    "    Convert the given float to a string,\n",
    "    without resorting to scientific notation\n",
    "    \"\"\"\n",
    "    d1 = ctx.create_decimal(repr(f))\n",
    "    return format(d1, 'f')\n",
    "\n",
    "def getTwoNumbersGap(num1, num2):\n",
    "    return abs(num1 - num2) + 1\n",
    "\n",
    "def getRangeGap(data):\n",
    "    maxV = max(data)\n",
    "    minV = min(data)\n",
    "    return getTwoNumbersGap(maxV, minV)\n",
    "\n",
    "def getMinMaxFromMultiD(sourceList):\n",
    "    maxValue = max(sourceList.reshape(-1))\n",
    "    minValue = min(sourceList.reshape(-1))\n",
    "    \n",
    "    return maxValue, minValue\n",
    "\n",
    "def getCategoryDiversityCNT(sourceList):\n",
    "    return len(set([j for sub in sourceList for j in sub]))"
   ]
  },
  {
   "cell_type": "code",
   "execution_count": 326,
   "metadata": {},
   "outputs": [],
   "source": [
    "def getOrgAllColumnDivertyCNT(datapath):\n",
    "    org_moned_dataset = fc.readCSV(datapath, sep='\\t')\n",
    "    print(org_moned_dataset[0])\n",
    "    org_moned_dataset = org_moned_dataset[1:]\n",
    "    \n",
    "    for dataRow in org_moned_dataset:\n",
    "        dataRow[0] = int(dataRow[0])\n",
    "        # 원본데이터 각 컬럼별 데이터 diversity count 추출\n",
    "    \n",
    "    columnsDiversityCNT = dict()\n",
    "    \n",
    "    for i, colName in enumerate(evalColNames):\n",
    "        if colName in categoricalColNames:\n",
    "            colIDX = evalColNames.index(colName)\n",
    "            columnsDiversityCNT[colIDX] = len(set([data[i] for data in org_moned_dataset]))\n",
    "        else:\n",
    "            diversityCNT = getRangeGap([float(data[i]) for data in org_moned_dataset])\n",
    "            columnsDiversityCNT[i] =diversityCNT       \n",
    "        \n",
    "        \n",
    "    return columnsDiversityCNT\n",
    "    \n",
    "\n",
    "def getCatetoryColDiversityCNT(cellData):\n",
    "    cnt = len(cellData.split(','))\n",
    "    return cnt\n",
    "\n",
    "def getNumericColDiversityCNT(cellData):\n",
    "    numericData = [float(data.strip()) for data in cellData.split('-') if data.strip()]\n",
    "    return getRangeGap(numericData)  "
   ]
  },
  {
   "cell_type": "code",
   "execution_count": 327,
   "metadata": {},
   "outputs": [],
   "source": [
    "def getLEScore(normalizedDataSet): \n",
    "        \n",
    "    eachColumnLEScoreList = list()    \n",
    "    normalizedDataSet_cols =normalizedDataSet[0]\n",
    "    print(normalizedDataSet_cols)\n",
    "    totalColNum = len(normalizedDataSet_cols)-1\n",
    "    \n",
    "    for i, colName in enumerate(normalizedDataSet_cols):\n",
    "        if colName not in evalColNames: continue\n",
    "            \n",
    "        colDataSet = [data[i] for data in normalizedDataSet[1:]]  # if len(data) > 1\n",
    "        isCategoriCol = colName in categoricalColNames\n",
    "        colDiversityCNT  = evalColDirvertyDIC[evalColNames.index(colName)]   \n",
    "        \n",
    "        colLEScoreList = list()  \n",
    "        for i, cellData in enumerate(colDataSet):\n",
    "            if isCategoriCol:\n",
    "                cellDiversityCNT = getCatetoryColDiversityCNT(cellData)\n",
    "                \n",
    "            else:\n",
    "#                 try:\n",
    "                cellDiversityCNT = getNumericColDiversityCNT(cellData)\n",
    "#                 except:\n",
    "#                     print(i, cellData)\n",
    "#                     print(colName)\n",
    "#                     break\n",
    "                \n",
    "            \n",
    "            \n",
    "            colLEScoreList.append(abs(cellDiversityCNT-1)/abs(colDiversityCNT-1))\n",
    "            \n",
    "        colLEScore = sum(colLEScoreList) / len(colDataSet)\n",
    "        print(colName ,\"sum :\", sum(colLEScoreList))\n",
    "        print(colName ,\"len :\", len(colDataSet))\n",
    "        print(colName ,\"colLEScore :\", colLEScore)\n",
    "        print('')\n",
    "        eachColumnLEScoreList.append(colLEScore)\n",
    "    \n",
    "    print('totalColNum :', totalColNum)\n",
    "    leScore = sum(eachColumnLEScoreList)/totalColNum \n",
    "    leScore = round(leScore, 7)\n",
    "    print(\"totla LE SCORE :\", leScore)\n",
    "    finalResult =[]  \n",
    "    finalResult.append(['AGE', 'RACE', 'ETHNICITY', 'GENDER', 'BIRTHPLACE', 'CONDITION', 'Total LE SCORE'])\n",
    "    clonedColLe = deepcopy(eachColumnLEScoreList)\n",
    "    clonedColLe.append(leScore)\n",
    "    finalResult.append(clonedColLe)\n",
    "    \n",
    "    return finalResult"
   ]
  },
  {
   "cell_type": "markdown",
   "metadata": {},
   "source": [
    "#### CONST VARs"
   ]
  },
  {
   "cell_type": "code",
   "execution_count": 345,
   "metadata": {},
   "outputs": [],
   "source": [
    "evalColNames = ['AGE', 'RACE', 'ETHNICITY', 'GENDER', 'BIRTHPLACE', 'CONDITION']\n",
    "categoricalColNames = ['RACE',  'ETHNICITY', 'GENDER', 'BIRTHPLACE', 'CONDITION']\n",
    "originalDataSet_Path = './data/finalPatientDataSet_20.csv'\n",
    "\n",
    "recover_bert_cityblock_path = 'recover_bert_cityblock.csv'"
   ]
  },
  {
   "cell_type": "code",
   "execution_count": 346,
   "metadata": {},
   "outputs": [],
   "source": [
    "origin_dataset = fc.readCSV(originalDataSet_Path, sep='\\t')"
   ]
  },
  {
   "cell_type": "code",
   "execution_count": null,
   "metadata": {},
   "outputs": [],
   "source": [
    "freqDict = dict()\n",
    "for data in deathData:\n",
    "    if data[-2] not in freqDict:\n",
    "        freqDict[data[-2]] = 0\n",
    "    freqDict[data[-2]] += 1\n",
    "    \n",
    "sorted(freqDict.items(), key=lambda x:x[1], reverse = True)"
   ]
  },
  {
   "cell_type": "markdown",
   "metadata": {},
   "source": [
    "> Get Data Detalis Min MAX"
   ]
  },
  {
   "cell_type": "code",
   "execution_count": 348,
   "metadata": {},
   "outputs": [],
   "source": [
    "finalPatientDataSet_20_dataset = fc.readCSV('./data/finalPatientDataSet_20.csv', sep='\\t')\n"
   ]
  },
  {
   "cell_type": "code",
   "execution_count": 349,
   "metadata": {},
   "outputs": [
    {
     "name": "stdout",
     "output_type": "stream",
     "text": [
      "AGE 111\n",
      "RACE 6\n",
      "ETHNICITY 24\n",
      "GENDER 2\n",
      "BIRTHPLACE 27\n",
      "CONDITIOIN 133\n",
      "DEATH 2\n"
     ]
    }
   ],
   "source": [
    "finalPatientDataSet_20_dataset[0:10]\n",
    "\n",
    "for i, colName2  in enumerate(finalPatientDataSet_20_dataset[0]):\n",
    "    print(colName2, len(set([data[i] for data in finalPatientDataSet_20_dataset[1:]])))\n",
    "    \n"
   ]
  },
  {
   "cell_type": "code",
   "execution_count": 350,
   "metadata": {},
   "outputs": [],
   "source": [
    "convertFileList = ['convert_cityblock_finalPatientDataSet_20.csv','convert_cosine_finalPatientDataSet_20.csv','convert_euclidean_finalPatientDataSet_20.csv']\n"
   ]
  },
  {
   "cell_type": "code",
   "execution_count": 351,
   "metadata": {},
   "outputs": [],
   "source": [
    "minmaxCols = ['AGE', 'BIRTHPLACE', 'ETHNICITY', 'GENDER', 'RACE', 'CONDITION']"
   ]
  },
  {
   "cell_type": "code",
   "execution_count": 486,
   "metadata": {},
   "outputs": [
    {
     "name": "stdout",
     "output_type": "stream",
     "text": [
      "convert_cityblock_finalPatientDataSet_20.csv\n",
      "0.0 ~ 110.0\n",
      "-256.74 ~ 1.0\n",
      "-269.12 ~ 1.0\n",
      "-79.21 ~ 1.0\n",
      "-269.54 ~ 1.0\n",
      "-301.37 ~ 1.0\n",
      "0.0 ~ 1.0\n",
      "\n",
      "convert_cosine_finalPatientDataSet_20.csv\n",
      "0.0 ~ 110.0\n",
      "0.82 ~ 1.0\n",
      "0.85 ~ 1.0\n",
      "0.98 ~ 1.0\n",
      "0.8 ~ 1.0\n",
      "0.77 ~ 1.0\n",
      "0.0 ~ 1.0\n",
      "\n",
      "convert_euclidean_finalPatientDataSet_20.csv\n",
      "0.0 ~ 110.0\n",
      "-10.84 ~ 1.0\n",
      "-11.89 ~ 1.0\n",
      "-2.6 ~ 1.0\n",
      "-11.56 ~ 1.0\n",
      "-13.79 ~ 1.0\n",
      "0.0 ~ 1.0\n",
      "\n"
     ]
    }
   ],
   "source": [
    "for filePath in convertFileList:\n",
    "    convert_pd =  pd.read_csv('./data/'+ filePath, sep='\\t')\n",
    "    minList = convert_pd.describe().loc['min'].tolist()\n",
    "    maxList = convert_pd.describe().loc['max'].tolist()\n",
    "    meanList = convert_pd.describe().loc['mean'].tolist()\n",
    "    print(filePath)\n",
    "#     print(convert_pd.describe())\n",
    "    for idx in range(len(meanList)):\n",
    "    \n",
    "        colName = convert_pd.columns[idx]\n",
    "        minVal = round(minList[idx], 2)\n",
    "        maxVal = round(maxList[idx], 2)\n",
    "        \n",
    "#         print(colName)\n",
    "        print(str(minVal) +' ~ '+ str(maxVal))\n",
    "\n",
    "#     for colName1 in minmaxCols:\n",
    "#         print(round(min(convert_pd[colName1].values), 2))\n",
    "        \n",
    "    print(\"\")\n",
    "    \n",
    "    "
   ]
  },
  {
   "cell_type": "markdown",
   "metadata": {},
   "source": [
    "#### Origin Code Test"
   ]
  },
  {
   "cell_type": "code",
   "execution_count": 353,
   "metadata": {},
   "outputs": [],
   "source": [
    "org_moned_dataset = fc.readCSV('./normalized/recover_origin_wc.csv', sep='\\t')"
   ]
  },
  {
   "cell_type": "code",
   "execution_count": 354,
   "metadata": {},
   "outputs": [
    {
     "name": "stdout",
     "output_type": "stream",
     "text": [
      "['AGE', 'RACE', 'ETHNICITY', 'GENDER', 'BIRTHPLACE', 'CONDITIOIN', 'DEATH']\n"
     ]
    },
    {
     "data": {
      "text/plain": [
       "{0: 111.0, 1: 6, 2: 24, 3: 2, 4: 27, 5: 133}"
      ]
     },
     "execution_count": 354,
     "metadata": {},
     "output_type": "execute_result"
    }
   ],
   "source": [
    "evalColDirvertyDIC = getOrgAllColumnDivertyCNT(originalDataSet_Path)\n",
    "evalColDirvertyDIC"
   ]
  },
  {
   "cell_type": "markdown",
   "metadata": {},
   "source": [
    "#### Measure LM Score"
   ]
  },
  {
   "cell_type": "code",
   "execution_count": 355,
   "metadata": {},
   "outputs": [],
   "source": [
    "def exeLeScore(path,basePath=''):\n",
    "    print(path, \"LE Score\")\n",
    "    bert_wc_cosine_dataset = fc.readCSV('./normalized/'+basePath+'/'+path+'.csv', sep='\\t')\n",
    "#     bert_wc_cosine_dataset = fc.readCSV('./ss/'+path+'.csv', sep='\\t')\n",
    "    \n",
    "    print(len(bert_wc_cosine_dataset)-1)\n",
    "    result = getLEScore(bert_wc_cosine_dataset)\n",
    "    print(\"=========================================================\")\n",
    "    return result"
   ]
  },
  {
   "cell_type": "code",
   "execution_count": 368,
   "metadata": {},
   "outputs": [],
   "source": [
    "kleDict = {'k2':None, 'k3':None, 'k4':None, 'k10':None}"
   ]
  },
  {
   "cell_type": "code",
   "execution_count": 431,
   "metadata": {},
   "outputs": [],
   "source": []
  },
  {
   "cell_type": "code",
   "execution_count": 452,
   "metadata": {},
   "outputs": [
    {
     "name": "stdout",
     "output_type": "stream",
     "text": [
      "recover_origin_wc LE Score\n",
      "224885\n",
      "['AGE', 'BIRTHPLACE', 'CONDITION', 'DEATH', 'ETHNICITY', 'GENDER', 'RACE']\n",
      "AGE sum : 4872.9818181955825\n",
      "AGE len : 224885\n",
      "AGE colLEScore : 0.021668772119952787\n",
      "\n",
      "BIRTHPLACE sum : 1128.7692307691157\n",
      "BIRTHPLACE len : 224885\n",
      "BIRTHPLACE colLEScore : 0.005019317565729665\n",
      "\n",
      "CONDITION sum : 4251.022727287877\n",
      "CONDITION len : 224885\n",
      "CONDITION colLEScore : 0.018903095925863787\n",
      "\n",
      "ETHNICITY sum : 1162.8695652177075\n",
      "ETHNICITY len : 224885\n",
      "ETHNICITY colLEScore : 0.005170952109823721\n",
      "\n",
      "GENDER sum : 0.0\n",
      "GENDER len : 224885\n",
      "GENDER colLEScore : 0.0\n",
      "\n",
      "RACE sum : 115.8000000000011\n",
      "RACE len : 224885\n",
      "RACE colLEScore : 0.0005149298530360011\n",
      "\n",
      "totalColNum : 6\n",
      "totla LE SCORE : 0.0085462\n",
      "=========================================================\n"
     ]
    }
   ],
   "source": [
    "#### k_A_dataset_org_0613 오리지널 데이터 \n",
    "k_var = 'k10'\n",
    "leDict = dict()\n",
    "result0 = exeLeScore('recover_origin_wc',k_var)\n",
    "leDict['Original']= result0"
   ]
  },
  {
   "cell_type": "code",
   "execution_count": 453,
   "metadata": {},
   "outputs": [
    {
     "name": "stdout",
     "output_type": "stream",
     "text": [
      "recover_bert_wc_cosine LE Score\n",
      "224885\n",
      "['AGE', 'BIRTHPLACE', 'CONDITION', 'DEATH', 'ETHNICITY', 'GENDER', 'RACE']\n",
      "AGE sum : 5200.054545460209\n",
      "AGE len : 224885\n",
      "AGE colLEScore : 0.023123172045535312\n",
      "\n",
      "BIRTHPLACE sum : 2435.1538461528357\n",
      "BIRTHPLACE len : 224885\n",
      "BIRTHPLACE colLEScore : 0.010828440519166845\n",
      "\n",
      "CONDITION sum : 5376.931818193828\n",
      "CONDITION len : 224885\n",
      "CONDITION colLEScore : 0.02390969525843799\n",
      "\n",
      "ETHNICITY sum : 8017.304347840101\n",
      "ETHNICITY len : 224885\n",
      "ETHNICITY colLEScore : 0.03565068522951776\n",
      "\n",
      "GENDER sum : 8638.0\n",
      "GENDER len : 224885\n",
      "GENDER colLEScore : 0.03841074326878182\n",
      "\n",
      "RACE sum : 6473.799999996312\n",
      "RACE len : 224885\n",
      "RACE colLEScore : 0.028787157880678177\n",
      "\n",
      "totalColNum : 6\n",
      "totla LE SCORE : 0.026785\n",
      "=========================================================\n"
     ]
    }
   ],
   "source": [
    "#### recover_bert_wc_cosine 코사인\n",
    "result1 = exeLeScore('recover_bert_wc_cosine', k_var)\n",
    "leDict['Cosine']= result1"
   ]
  },
  {
   "cell_type": "code",
   "execution_count": 454,
   "metadata": {},
   "outputs": [
    {
     "name": "stdout",
     "output_type": "stream",
     "text": [
      "recover_bert_wc_euclidean LE Score\n",
      "224885\n",
      "['AGE', 'BIRTHPLACE', 'CONDITION', 'DEATH', 'ETHNICITY', 'GENDER', 'RACE']\n",
      "AGE sum : 4992.763636369303\n",
      "AGE len : 224885\n",
      "AGE colLEScore : 0.022201407992393014\n",
      "\n",
      "BIRTHPLACE sum : 2729.6538461523915\n",
      "BIRTHPLACE len : 224885\n",
      "BIRTHPLACE colLEScore : 0.012137998737809954\n",
      "\n",
      "CONDITION sum : 4302.636363647571\n",
      "CONDITION len : 224885\n",
      "CONDITION colLEScore : 0.01913260717098771\n",
      "\n",
      "ETHNICITY sum : 8084.391304361095\n",
      "ETHNICITY len : 224885\n",
      "ETHNICITY colLEScore : 0.03594900195371454\n",
      "\n",
      "GENDER sum : 10097.0\n",
      "GENDER len : 224885\n",
      "GENDER colLEScore : 0.044898503679658495\n",
      "\n",
      "RACE sum : 5336.399999997799\n",
      "RACE len : 224885\n",
      "RACE colLEScore : 0.02372946172487182\n",
      "\n",
      "totalColNum : 6\n",
      "totla LE SCORE : 0.0263415\n",
      "=========================================================\n"
     ]
    }
   ],
   "source": [
    "#### recover_bert_wc_cosine 유클리디언\n",
    "result2 = exeLeScore('recover_bert_wc_euclidean', k_var)\n",
    "leDict['Euclidean']= result2"
   ]
  },
  {
   "cell_type": "code",
   "execution_count": 455,
   "metadata": {},
   "outputs": [
    {
     "name": "stdout",
     "output_type": "stream",
     "text": [
      "recover_bert_wc_cityblock LE Score\n",
      "224885\n",
      "['AGE', 'BIRTHPLACE', 'CONDITION', 'DEATH', 'ETHNICITY', 'GENDER', 'RACE']\n",
      "AGE sum : 4774.009090913986\n",
      "AGE len : 224885\n",
      "AGE colLEScore : 0.021228668390128227\n",
      "\n",
      "BIRTHPLACE sum : 2491.8846153832774\n",
      "BIRTHPLACE len : 224885\n",
      "BIRTHPLACE colLEScore : 0.011080706207098194\n",
      "\n",
      "CONDITION sum : 4084.7651515241614\n",
      "CONDITION len : 224885\n",
      "CONDITION colLEScore : 0.01816379550225298\n",
      "\n",
      "ETHNICITY sum : 11245.000000017446\n",
      "ETHNICITY len : 224885\n",
      "ETHNICITY colLEScore : 0.05000333503798584\n",
      "\n",
      "GENDER sum : 8211.0\n",
      "GENDER len : 224885\n",
      "GENDER colLEScore : 0.036511995019676724\n",
      "\n",
      "RACE sum : 5614.999999997571\n",
      "RACE len : 224885\n",
      "RACE colLEScore : 0.02496831713986069\n",
      "\n",
      "totalColNum : 6\n",
      "totla LE SCORE : 0.0269928\n",
      "=========================================================\n"
     ]
    }
   ],
   "source": [
    "#### recover_bert_wc_cosine 맨하탄\n",
    "result3 = exeLeScore('recover_bert_wc_cityblock', k_var)\n",
    "leDict['Cityblock']= result3"
   ]
  },
  {
   "cell_type": "code",
   "execution_count": 456,
   "metadata": {},
   "outputs": [],
   "source": [
    "kleDict[k_var] = leDict"
   ]
  },
  {
   "cell_type": "code",
   "execution_count": 457,
   "metadata": {},
   "outputs": [
    {
     "data": {
      "text/plain": [
       "[['AGE', '0.01173', '0.01157', '0.01086', '0.01057'],\n",
       " ['BIRTHPLACE', '0.00122', '0.0072', '0.0072', '0.00665'],\n",
       " ['ETHNICITY', '0.00103', '0.02847', '0.02697', '0.03861'],\n",
       " ['GENDER', '0.0', '0.03546', '0.04137', '0.03532'],\n",
       " ['RACE', '0.00009', '0.02277', '0.01764', '0.01808'],\n",
       " ['CONDITION', '0.00803', '0.01729', '0.01251', '0.01186'],\n",
       " ['TOTAL LM', '0.00368', '0.02046', '0.01943', '0.02018']]"
      ]
     },
     "execution_count": 457,
     "metadata": {},
     "output_type": "execute_result"
    }
   ],
   "source": [
    "### 막대그래프용 데이터 만들기\n",
    "\n",
    "leDict = kleDict['k4']\n",
    "leColumns = ['AGE', 'BIRTHPLACE', 'CONDITION', 'ETHNICITY', 'GENDER', 'RACE', 'TOTAL LE']\n",
    "\n",
    "leBarChartDataList = []\n",
    "leTableDataList = [['AGE'], ['BIRTHPLACE'], ['CONDITION'], ['ETHNICITY'], ['GENDER'], ['RACE'], ['TOTAL LM']]\n",
    "# leList.append()\n",
    "\n",
    "for key, item in leDict.items():\n",
    "    \n",
    "    \n",
    "    columns = item[0]\n",
    "    \n",
    "    valueRow = None\n",
    "    conRow = valueRow\n",
    "    for i, value in enumerate(item[1]):\n",
    "        \n",
    "        colName = leColumns[i]\n",
    "        roundedVal = float(float_to_str(round(value, 5)))\n",
    "        \n",
    "        valueRow = [colName, roundedVal, key]   \n",
    "        if colName != 'CONDITION':\n",
    "            leBarChartDataList.append(valueRow) \n",
    "        else:\n",
    "            conRow = valueRow\n",
    "            \n",
    "        leTableDataList[i].append(float_to_str(round(value, 5)))\n",
    "            \n",
    "    leBarChartDataList.insert(len(leBarChartDataList)-1,conRow) \n",
    "    \n",
    "            \n",
    "conSeries = leTableDataList.pop(2)\n",
    "leTableDataList.insert(5, conSeries)\n",
    "leTableDataList\n"
   ]
  },
  {
   "cell_type": "code",
   "execution_count": 458,
   "metadata": {},
   "outputs": [
    {
     "data": {
      "text/html": [
       "<div>\n",
       "<style scoped>\n",
       "    .dataframe tbody tr th:only-of-type {\n",
       "        vertical-align: middle;\n",
       "    }\n",
       "\n",
       "    .dataframe tbody tr th {\n",
       "        vertical-align: top;\n",
       "    }\n",
       "\n",
       "    .dataframe thead th {\n",
       "        text-align: right;\n",
       "    }\n",
       "</style>\n",
       "<table border=\"1\" class=\"dataframe\">\n",
       "  <thead>\n",
       "    <tr style=\"text-align: right;\">\n",
       "      <th></th>\n",
       "      <th>Columns</th>\n",
       "      <th>Origianl</th>\n",
       "      <th>Cosine</th>\n",
       "      <th>Euclidean</th>\n",
       "      <th>Manhattan</th>\n",
       "    </tr>\n",
       "  </thead>\n",
       "  <tbody>\n",
       "    <tr>\n",
       "      <th>0</th>\n",
       "      <td>AGE</td>\n",
       "      <td>0.01173</td>\n",
       "      <td>0.01157</td>\n",
       "      <td>0.01086</td>\n",
       "      <td>0.01057</td>\n",
       "    </tr>\n",
       "    <tr>\n",
       "      <th>1</th>\n",
       "      <td>BIRTHPLACE</td>\n",
       "      <td>0.00122</td>\n",
       "      <td>0.0072</td>\n",
       "      <td>0.0072</td>\n",
       "      <td>0.00665</td>\n",
       "    </tr>\n",
       "    <tr>\n",
       "      <th>2</th>\n",
       "      <td>ETHNICITY</td>\n",
       "      <td>0.00103</td>\n",
       "      <td>0.02847</td>\n",
       "      <td>0.02697</td>\n",
       "      <td>0.03861</td>\n",
       "    </tr>\n",
       "    <tr>\n",
       "      <th>3</th>\n",
       "      <td>GENDER</td>\n",
       "      <td>0.0</td>\n",
       "      <td>0.03546</td>\n",
       "      <td>0.04137</td>\n",
       "      <td>0.03532</td>\n",
       "    </tr>\n",
       "    <tr>\n",
       "      <th>4</th>\n",
       "      <td>RACE</td>\n",
       "      <td>0.00009</td>\n",
       "      <td>0.02277</td>\n",
       "      <td>0.01764</td>\n",
       "      <td>0.01808</td>\n",
       "    </tr>\n",
       "    <tr>\n",
       "      <th>5</th>\n",
       "      <td>CONDITION</td>\n",
       "      <td>0.00803</td>\n",
       "      <td>0.01729</td>\n",
       "      <td>0.01251</td>\n",
       "      <td>0.01186</td>\n",
       "    </tr>\n",
       "    <tr>\n",
       "      <th>6</th>\n",
       "      <td>TOTAL LM</td>\n",
       "      <td>0.00368</td>\n",
       "      <td>0.02046</td>\n",
       "      <td>0.01943</td>\n",
       "      <td>0.02018</td>\n",
       "    </tr>\n",
       "  </tbody>\n",
       "</table>\n",
       "</div>"
      ],
      "text/plain": [
       "      Columns Origianl   Cosine Euclidean Manhattan\n",
       "0         AGE  0.01173  0.01157   0.01086   0.01057\n",
       "1  BIRTHPLACE  0.00122   0.0072    0.0072   0.00665\n",
       "2   ETHNICITY  0.00103  0.02847   0.02697   0.03861\n",
       "3      GENDER      0.0  0.03546   0.04137   0.03532\n",
       "4        RACE  0.00009  0.02277   0.01764   0.01808\n",
       "5   CONDITION  0.00803  0.01729   0.01251   0.01186\n",
       "6    TOTAL LM  0.00368  0.02046   0.01943   0.02018"
      ]
     },
     "execution_count": 458,
     "metadata": {},
     "output_type": "execute_result"
    }
   ],
   "source": [
    "talbe_pd = pd.DataFrame(leTableDataList, columns=['Columns', 'Origianl', 'Cosine', 'Euclidean', 'Manhattan'])\n",
    "talbe_pd\n",
    "\n",
    "talbe_pd.to_csv('./output/LEScore_Table_'+k_var+'.csv', encoding='utf-8', index=False)\n",
    "talbe_pd\n"
   ]
  },
  {
   "cell_type": "markdown",
   "metadata": {},
   "source": [
    "#### 컬럼별 LM Score 비교 막대그래프"
   ]
  },
  {
   "cell_type": "code",
   "execution_count": 429,
   "metadata": {},
   "outputs": [
    {
     "data": {
      "text/plain": [
       "<matplotlib.axes._subplots.AxesSubplot at 0x1a34cf27f0>"
      ]
     },
     "execution_count": 429,
     "metadata": {},
     "output_type": "execute_result"
    },
    {
     "data": {
      "image/png": "[encoded data removed]",
      "text/plain": [
       "<matplotlib.figure.Figure at 0x1a34cc7470>"
      ]
     },
     "metadata": {
      "needs_background": "light"
     },
     "output_type": "display_data"
    }
   ],
   "source": [
    "import matplotlib.pyplot as plt\n",
    "plt.figure(figsize=(15, 7))\n",
    "\n",
    "\n",
    "dataSource_pd = pd.DataFrame(leBarChartDataList, columns=['Columns', 'LM Score', 'Data Type'])\n",
    "sns.barplot(data=dataSource_pd, x='Columns', y='LM Score', hue='Data Type')\n",
    "\n"
   ]
  },
  {
   "cell_type": "markdown",
   "metadata": {},
   "source": [
    "#### 데이터 타입별 LM Score 비교 막대그래프"
   ]
  },
  {
   "cell_type": "code",
   "execution_count": 482,
   "metadata": {},
   "outputs": [
    {
     "data": {
      "text/plain": [
       "<matplotlib.axes._subplots.AxesSubplot at 0x1a34c17fd0>"
      ]
     },
     "execution_count": 482,
     "metadata": {},
     "output_type": "execute_result"
    },
    {
     "data": {
      "image/png": "[encoded data removed]",
      "text/plain": [
       "<matplotlib.figure.Figure at 0x1a34c15be0>"
      ]
     },
     "metadata": {
      "needs_background": "light"
     },
     "output_type": "display_data"
    }
   ],
   "source": [
    "totalLMList = []\n",
    "\n",
    "for kCount in kleDict.keys():\n",
    "    \n",
    "    tLMDict= kleDict[kCount]\n",
    "    for key, values in tLMDict.items():\n",
    "        LmValues = values[1]\n",
    "        LmValue = LmValues[-1]\n",
    "        totalLMList.append([kCount, LmValue, key])\n",
    "\n",
    "\n",
    "\n",
    "\n",
    "import matplotlib.pyplot as plt\n",
    "plt.figure(figsize=(15, 7))\n",
    "\n",
    "\n",
    "dataSource_pd = pd.DataFrame(totalLMList, columns=['K', 'Equivalent Class Count', 'Datatype'])\n",
    "sns.barplot(data=dataSource_pd, x='K', y='Equivalent Class Count', hue='Datatype')"
   ]
  },
  {
   "cell_type": "code",
   "execution_count": 487,
   "metadata": {},
   "outputs": [
    {
     "data": {
      "text/html": [
       "<div>\n",
       "<style scoped>\n",
       "    .dataframe tbody tr th:only-of-type {\n",
       "        vertical-align: middle;\n",
       "    }\n",
       "\n",
       "    .dataframe tbody tr th {\n",
       "        vertical-align: top;\n",
       "    }\n",
       "\n",
       "    .dataframe thead th {\n",
       "        text-align: right;\n",
       "    }\n",
       "</style>\n",
       "<table border=\"1\" class=\"dataframe\">\n",
       "  <thead>\n",
       "    <tr style=\"text-align: right;\">\n",
       "      <th></th>\n",
       "      <th>K</th>\n",
       "      <th>Equivalent Class Count</th>\n",
       "      <th>Datatype</th>\n",
       "    </tr>\n",
       "  </thead>\n",
       "  <tbody>\n",
       "    <tr>\n",
       "      <th>0</th>\n",
       "      <td>k2</td>\n",
       "      <td>0.001576</td>\n",
       "      <td>Original</td>\n",
       "    </tr>\n",
       "    <tr>\n",
       "      <th>1</th>\n",
       "      <td>k2</td>\n",
       "      <td>0.017235</td>\n",
       "      <td>Cosine</td>\n",
       "    </tr>\n",
       "    <tr>\n",
       "      <th>2</th>\n",
       "      <td>k2</td>\n",
       "      <td>0.016331</td>\n",
       "      <td>Euclidean</td>\n",
       "    </tr>\n",
       "    <tr>\n",
       "      <th>3</th>\n",
       "      <td>k2</td>\n",
       "      <td>0.017209</td>\n",
       "      <td>Cityblock</td>\n",
       "    </tr>\n",
       "    <tr>\n",
       "      <th>4</th>\n",
       "      <td>k3</td>\n",
       "      <td>0.002654</td>\n",
       "      <td>Original</td>\n",
       "    </tr>\n",
       "    <tr>\n",
       "      <th>5</th>\n",
       "      <td>k3</td>\n",
       "      <td>0.018873</td>\n",
       "      <td>Cosine</td>\n",
       "    </tr>\n",
       "    <tr>\n",
       "      <th>6</th>\n",
       "      <td>k3</td>\n",
       "      <td>0.017939</td>\n",
       "      <td>Euclidean</td>\n",
       "    </tr>\n",
       "    <tr>\n",
       "      <th>7</th>\n",
       "      <td>k3</td>\n",
       "      <td>0.018715</td>\n",
       "      <td>Cityblock</td>\n",
       "    </tr>\n",
       "    <tr>\n",
       "      <th>8</th>\n",
       "      <td>k4</td>\n",
       "      <td>0.003683</td>\n",
       "      <td>Original</td>\n",
       "    </tr>\n",
       "    <tr>\n",
       "      <th>9</th>\n",
       "      <td>k4</td>\n",
       "      <td>0.020459</td>\n",
       "      <td>Cosine</td>\n",
       "    </tr>\n",
       "    <tr>\n",
       "      <th>10</th>\n",
       "      <td>k4</td>\n",
       "      <td>0.019425</td>\n",
       "      <td>Euclidean</td>\n",
       "    </tr>\n",
       "    <tr>\n",
       "      <th>11</th>\n",
       "      <td>k4</td>\n",
       "      <td>0.020181</td>\n",
       "      <td>Cityblock</td>\n",
       "    </tr>\n",
       "    <tr>\n",
       "      <th>12</th>\n",
       "      <td>k10</td>\n",
       "      <td>0.008546</td>\n",
       "      <td>Original</td>\n",
       "    </tr>\n",
       "    <tr>\n",
       "      <th>13</th>\n",
       "      <td>k10</td>\n",
       "      <td>0.026785</td>\n",
       "      <td>Cosine</td>\n",
       "    </tr>\n",
       "    <tr>\n",
       "      <th>14</th>\n",
       "      <td>k10</td>\n",
       "      <td>0.026342</td>\n",
       "      <td>Euclidean</td>\n",
       "    </tr>\n",
       "    <tr>\n",
       "      <th>15</th>\n",
       "      <td>k10</td>\n",
       "      <td>0.026993</td>\n",
       "      <td>Cityblock</td>\n",
       "    </tr>\n",
       "  </tbody>\n",
       "</table>\n",
       "</div>"
      ],
      "text/plain": [
       "      K  Equivalent Class Count   Datatype\n",
       "0    k2                0.001576   Original\n",
       "1    k2                0.017235     Cosine\n",
       "2    k2                0.016331  Euclidean\n",
       "3    k2                0.017209  Cityblock\n",
       "4    k3                0.002654   Original\n",
       "5    k3                0.018873     Cosine\n",
       "6    k3                0.017939  Euclidean\n",
       "7    k3                0.018715  Cityblock\n",
       "8    k4                0.003683   Original\n",
       "9    k4                0.020459     Cosine\n",
       "10   k4                0.019425  Euclidean\n",
       "11   k4                0.020181  Cityblock\n",
       "12  k10                0.008546   Original\n",
       "13  k10                0.026785     Cosine\n",
       "14  k10                0.026342  Euclidean\n",
       "15  k10                0.026993  Cityblock"
      ]
     },
     "execution_count": 487,
     "metadata": {},
     "output_type": "execute_result"
    }
   ],
   "source": [
    "dataSource_pd"
   ]
  },
  {
   "cell_type": "markdown",
   "metadata": {},
   "source": [
    "동질클래스 종류 및 타입 비교"
   ]
  },
  {
   "cell_type": "code",
   "execution_count": 277,
   "metadata": {},
   "outputs": [
    {
     "name": "stdout",
     "output_type": "stream",
     "text": [
      "original_moned_DataSet 44739\n",
      "recover_bert_cosine 27560\n",
      "recover_bert_euclidean 28728\n",
      "recover_bert_cityblock 28277\n"
     ]
    }
   ],
   "source": [
    "norPaths = ['original_moned_DataSet', 'recover_bert_cosine','recover_bert_euclidean', 'recover_bert_cityblock']\n",
    "\n",
    "for norpath in norPaths:\n",
    "    sameClassCNTDICT = dict()\n",
    "    normaled_dataset = fc.readCSV('./normalized/'+norpath+'.csv', sep='\\t')\n",
    "    for datarow in normaled_dataset[1:]:\n",
    "        cnt = int(datarow[len(datarow)-1])\n",
    "        key = ' '.join(datarow[:-1])\n",
    "        if key not in sameClassCNTDICT:\n",
    "            sameClassCNTDICT[key] = []\n",
    "        \n",
    "        sameClassCNTDICT[key].append(datarow)           \n",
    "    \n",
    "    print(norpath, len(sameClassCNTDICT.keys()))\n",
    "    \n",
    "\n",
    "\n",
    "\n",
    "\n"
   ]
  },
  {
   "cell_type": "code",
   "execution_count": 307,
   "metadata": {},
   "outputs": [],
   "source": [
    "k_var='k10'\n"
   ]
  },
  {
   "cell_type": "code",
   "execution_count": 481,
   "metadata": {},
   "outputs": [
    {
     "data": {
      "text/plain": [
       "<matplotlib.axes._subplots.AxesSubplot at 0x1a34c47cc0>"
      ]
     },
     "execution_count": 481,
     "metadata": {},
     "output_type": "execute_result"
    },
    {
     "data": {
      "image/png": "[encoded data removed]",
      "text/plain": [
       "<matplotlib.figure.Figure at 0x1a34c4b048>"
      ]
     },
     "metadata": {
      "needs_background": "light"
     },
     "output_type": "display_data"
    }
   ],
   "source": [
    "norPaths = ['recover_origin', 'recover_bert_cosine','recover_bert_euclidean', 'recover_bert_cityblock']\n",
    "dataTeyeList = ['Origin', 'Cosine','Euclidean', 'Cityblock']\n",
    "kList = ['k2', 'k3', 'k4', 'k10']\n",
    "sameClassBarList = []\n",
    "for kcount in kList:\n",
    "    \n",
    "    for i, norpath in enumerate(norPaths):\n",
    "        sameClassCNTDICT = dict()\n",
    "        normaled_dataset = fc.readCSV('./normalized/'+kcount+'/'+norpath+'.csv', sep='\\t')\n",
    "        dataName = dataTeyeList[i]\n",
    "\n",
    "        for datarow in normaled_dataset[1:]:\n",
    "            cnt = int(datarow[len(datarow)-1])\n",
    "            key = ' '.join(datarow[:3]+datarow[5:-1])\n",
    "            if key not in sameClassCNTDICT:\n",
    "                sameClassCNTDICT[key] = []\n",
    "\n",
    "            sameClassCNTDICT[key].append(datarow)           \n",
    "\n",
    "        sameClassBarList.append([kcount, len(sameClassCNTDICT.keys()), dataName])\n",
    "    #     print(norpath, len(sameClassCNTDICT.keys()))\n",
    "    \n",
    "    \n",
    "    \n",
    "\n",
    "\n",
    "import matplotlib.pyplot as plt\n",
    "plt.figure(figsize=(15, 7))\n",
    "\n",
    "\n",
    "dataSource_pd = pd.DataFrame(sameClassBarList, columns=['K', 'Equivalent Classes Count', 'Datatype'])\n",
    "sns.barplot(data=dataSource_pd, x='K', y='Equivalent Classes Count', hue='Datatype')\n",
    "\n",
    "\n"
   ]
  },
  {
   "cell_type": "code",
   "execution_count": 316,
   "metadata": {},
   "outputs": [
    {
     "data": {
      "text/plain": [
       "[['k2', 41136, 'Origin'],\n",
       " ['k2', 33492, 'Cosine'],\n",
       " ['k2', 34493, 'Euclidean'],\n",
       " ['k2', 34039, 'Cityblock'],\n",
       " ['k3', 31130, 'Origin'],\n",
       " ['k3', 25797, 'Cosine'],\n",
       " ['k3', 26551, 'Euclidean'],\n",
       " ['k3', 26095, 'Cityblock'],\n",
       " ['k4', 25081, 'Origin'],\n",
       " ['k4', 20993, 'Cosine'],\n",
       " ['k4', 21764, 'Euclidean'],\n",
       " ['k4', 21413, 'Cityblock'],\n",
       " ['k10', 12243, 'Origin'],\n",
       " ['k10', 10614, 'Cosine'],\n",
       " ['k10', 11043, 'Euclidean'],\n",
       " ['k10', 10807, 'Cityblock']]"
      ]
     },
     "execution_count": 316,
     "metadata": {},
     "output_type": "execute_result"
    }
   ],
   "source": [
    "sameClassBarList\n",
    "\n",
    "\n",
    "\n",
    "41136, 'Origin’], \n",
    "33492, 'Cosine’], \n",
    "34493, 'Euclidean’], \n",
    "34039, 'Cityblock'], \n",
    "\n",
    "31130, 'Origin'], \n",
    "25797, 'Cosine'], \n",
    "26551, 'Euclidean'], \n",
    "26095, 'Cityblock'], \n",
    "\n",
    "25081, 'Origin'], \n",
    "20993, 'Cosine'], \n",
    "21764, 'Euclidean'], \n",
    "21413, 'Cityblock'], \n",
    "\n",
    "12243, 'Origin'], \n",
    "10614, 'Cosine'], \n",
    "11043, 'Euclidean'], \n",
    "10807, 'Cityblock']\n"
   ]
  },
  {
   "cell_type": "markdown",
   "metadata": {},
   "source": [
    "k=2\n",
    "recover_bert_cosine 33492\n",
    "recover_bert_euclidean 34493\n",
    "recover_bert_cityblock 34039\n",
    "\n",
    "k=3\n",
    "recover_origin 31130\n",
    "recover_bert_cosine 25797\n",
    "recover_bert_euclidean 26551\n",
    "recover_bert_cityblock 26095\n",
    "\n",
    "k=4\n",
    "recover_origin 25081\n",
    "recover_bert_cosine 20993\n",
    "recover_bert_euclidean 21764\n",
    "recover_bert_cityblock 21413\n",
    "\n",
    "k=10\n",
    "recover_origin 12243\n",
    "recover_bert_cosine 10614\n",
    "recover_bert_euclidean 11043\n",
    "recover_bert_cityblock 10807\n"
   ]
  },
  {
   "cell_type": "code",
   "execution_count": 251,
   "metadata": {},
   "outputs": [],
   "source": [
    "normaled_dataset = fc.readCSV('./normalized/recover_bert_euclidean.csv', sep='\\t')\n"
   ]
  },
  {
   "cell_type": "code",
   "execution_count": 260,
   "metadata": {},
   "outputs": [
    {
     "data": {
      "text/plain": [
       "['16-32',\n",
       " 'FR',\n",
       " 'Normal pregnancy,Antepartum eclampsia',\n",
       " '0',\n",
       " 'french',\n",
       " 'FEMALE',\n",
       " 'white']"
      ]
     },
     "execution_count": 260,
     "metadata": {},
     "output_type": "execute_result"
    }
   ],
   "source": [
    "normaled_dataset[1][:-1]\n"
   ]
  },
  {
   "cell_type": "code",
   "execution_count": 259,
   "metadata": {},
   "outputs": [
    {
     "data": {
      "text/plain": [
       "['16-32', 'FR', 'Normal pregnancy,Antepartum eclampsia', 'FEMALE', 'white']"
      ]
     },
     "execution_count": 259,
     "metadata": {},
     "output_type": "execute_result"
    }
   ],
   "source": [
    "normaled_dataset[1][:3]+normaled_dataset[1][5:-1]"
   ]
  },
  {
   "cell_type": "code",
   "execution_count": 242,
   "metadata": {},
   "outputs": [
    {
     "data": {
      "image/png": "[encoded data removed]",
      "text/plain": [
       "<matplotlib.figure.Figure at 0x1a44524d30>"
      ]
     },
     "metadata": {
      "needs_background": "light"
     },
     "output_type": "display_data"
    }
   ],
   "source": [
    "import math\n",
    "from matplotlib import pyplot as plt\n",
    "import numpy as np\n",
    "import pandas as pd\n",
    "import matplotlib.pyplot as plt \n",
    "from scipy import stats\n",
    "\n",
    "def normalFunS(x, mu,sd):\n",
    "    a=1/(sd*np.sqrt(2*np.pi))\n",
    "    b=np.exp(-(x-mu)**2/(2*sd**2))\n",
    "    return(a*b)\n",
    "\n",
    "normaled_dataset = fc.readCSV('./data/convert_cosine_finalPatientDataSet_20.csv', sep='\\t')\n",
    "cosineValues = [float(data[5]) for data in normaled_dataset[1:]]\n",
    "\n",
    "\n",
    "x=cosineValues\n",
    "n, bins, ig=plt.hist(x, bins=50, normed=True)\n",
    "mu=np.mean(x)\n",
    "sd=np.std(x)\n",
    "plt.plot(bins, normalFunS(bins, mu, sd), linewidth=2, color=\"r\")\n",
    "plt.show()\n"
   ]
  },
  {
   "cell_type": "code",
   "execution_count": 243,
   "metadata": {},
   "outputs": [
    {
     "data": {
      "image/png": "[encoded data removed]",
      "text/plain": [
       "<matplotlib.figure.Figure at 0x1a43654fd0>"
      ]
     },
     "metadata": {
      "needs_background": "light"
     },
     "output_type": "display_data"
    }
   ],
   "source": [
    "normaled_dataset = fc.readCSV('./data/convert_euclidean_finalPatientDataSet_20.csv', sep='\\t')\n",
    "cosineValues = [float(data[5]) for data in normaled_dataset[1:]]\n",
    "\n",
    "x=cosineValues\n",
    "n, bins, ig=plt.hist(x, bins=50, normed=True)\n",
    "mu=np.mean(x)\n",
    "sd=np.std(x)\n",
    "plt.plot(bins, normalFunS(bins, mu, sd), linewidth=2, color=\"r\")\n",
    "plt.show()\n"
   ]
  },
  {
   "cell_type": "code",
   "execution_count": 244,
   "metadata": {},
   "outputs": [
    {
     "data": {
      "image/png": "[encoded data removed]",
      "text/plain": [
       "<matplotlib.figure.Figure at 0x1a37728d30>"
      ]
     },
     "metadata": {
      "needs_background": "light"
     },
     "output_type": "display_data"
    }
   ],
   "source": [
    "normaled_dataset = fc.readCSV('./data/convert_cityblock_finalPatientDataSet_20.csv', sep='\\t')\n",
    "cosineValues = [float(data[5]) for data in normaled_dataset[1:]]\n",
    "\n",
    "x=cosineValues\n",
    "n, bins, ig=plt.hist(x, bins=50, normed=True)\n",
    "mu=np.mean(x)\n",
    "sd=np.std(x)\n",
    "plt.plot(bins, normalFunS(bins, mu, sd), linewidth=2, color=\"r\")\n",
    "plt.show()"
   ]
  },
  {
   "cell_type": "code",
   "execution_count": 249,
   "metadata": {},
   "outputs": [
    {
     "data": {
      "image/png": "[encoded data removed]",
      "text/plain": [
       "<matplotlib.figure.Figure at 0x1a4e76fc50>"
      ]
     },
     "metadata": {
      "needs_background": "light"
     },
     "output_type": "display_data"
    }
   ],
   "source": [
    "nor_dataset = fc.readCSV('./data/finalPatientDataSet_20.csv', sep='\\t')\n",
    "colValues = [data[5] for data in nor_dataset]\n",
    "\n",
    "conIndexMasterDict = dict()\n",
    "for i, conNm in enumerate(set(colValues)):\n",
    "    conIndexMasterDict[conNm] = i\n",
    "\n",
    "colValuesIndexList = []\n",
    "\n",
    "for conNm in colValues:\n",
    "    colValuesIndexList.append(conIndexMasterDict[conNm])\n",
    "\n",
    "\n",
    "\n",
    "x=colValuesIndexList\n",
    "n, bins, ig=plt.hist(x, bins=50, normed=True)\n",
    "mu=np.mean(x)\n",
    "sd=np.std(x)\n",
    "plt.plot(bins, normalFunS(bins, mu, sd), linewidth=2, color=\"r\")\n",
    "plt.show()"
   ]
  },
  {
   "cell_type": "code",
   "execution_count": 248,
   "metadata": {},
   "outputs": [
    {
     "data": {
      "text/plain": [
       "134"
      ]
     },
     "execution_count": 248,
     "metadata": {},
     "output_type": "execute_result"
    }
   ],
   "source": [
    "len(resultList)"
   ]
  }
 ],
 "metadata": {
  "kernelspec": {
   "display_name": "Python 3",
   "language": "python",
   "name": "python3"
  },
  "language_info": {
   "codemirror_mode": {
    "name": "ipython",
    "version": 3
   },
   "file_extension": ".py",
   "mimetype": "text/x-python",
   "name": "python",
   "nbconvert_exporter": "python",
   "pygments_lexer": "ipython3",
   "version": "3.6.7"
  }
 },
 "nbformat": 4,
 "nbformat_minor": 2
}
