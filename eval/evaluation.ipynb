{
 "cells": [
  {
   "cell_type": "code",
   "execution_count": 6,
   "metadata": {},
   "outputs": [],
   "source": [
    "import pandas as pd\n",
    "import csv\n",
    "import numpy as np\n",
    "from random import shuffle\n",
    "import funcs as fc\n",
    "import decimal"
   ]
  },
  {
   "cell_type": "code",
   "execution_count": 7,
   "metadata": {},
   "outputs": [],
   "source": [
    "ctx = decimal.Context()\n",
    "ctx.prec = 20\n",
    "\n",
    "def float_to_str(f):\n",
    "    \"\"\"\n",
    "    Convert the given float to a string,\n",
    "    without resorting to scientific notation\n",
    "    \"\"\"\n",
    "    d1 = ctx.create_decimal(repr(f))\n",
    "    return format(d1, 'f')\n",
    "\n",
    "def getTwoNumbersGap(num1, num2):\n",
    "    return abs(num1 - num2) + 1\n",
    "\n",
    "def getRangeGap(data):\n",
    "    maxV = max(data)\n",
    "    minV = min(data)\n",
    "    return getTwoNumbersGap(maxV, minV)\n",
    "\n",
    "def getMinMaxFromMultiD(sourceList):\n",
    "    maxValue = max(sourceList.reshape(-1))\n",
    "    minValue = min(sourceList.reshape(-1))\n",
    "    \n",
    "    return maxValue, minValue\n",
    "\n",
    "def getCategoryDiversityCNT(sourceList):\n",
    "    return len(set([j for sub in sourceList for j in sub]))"
   ]
  },
  {
   "cell_type": "code",
   "execution_count": 8,
   "metadata": {},
   "outputs": [],
   "source": [
    "def getOrgAllColumnDivertyCNT(datapath):\n",
    "    org_moned_dataset = fc.readCSV(datapath, sep='\\t')\n",
    "    print(org_moned_dataset[0])\n",
    "    org_moned_dataset = org_moned_dataset[1:]\n",
    "    \n",
    "    for dataRow in org_moned_dataset:\n",
    "        dataRow[0] = int(dataRow[0])\n",
    "        # 원본데이터 각 컬럼별 데이터 diversity count 추출\n",
    "    \n",
    "    columnsDiversityCNT = dict()\n",
    "    \n",
    "    for i, colName in enumerate(evalColNames):\n",
    "        if colName in categoricalColNames:\n",
    "            colIDX = evalColNames.index(colName)\n",
    "            columnsDiversityCNT[colIDX] = len(set([data[i] for data in org_moned_dataset]))\n",
    "        else:\n",
    "            diversityCNT = getRangeGap([float(data[i]) for data in org_moned_dataset])\n",
    "            columnsDiversityCNT[i] =diversityCNT       \n",
    "        \n",
    "        \n",
    "    return columnsDiversityCNT\n",
    "    \n",
    "\n",
    "def getCatetoryColDiversityCNT(cellData):\n",
    "    cnt = len(cellData.split(','))\n",
    "    return cnt\n",
    "\n",
    "def getNumericColDiversityCNT(cellData):\n",
    "    numericData = [float(data.strip()) for data in cellData.split('-') if data.strip()]\n",
    "    return getRangeGap(numericData)  "
   ]
  },
  {
   "cell_type": "code",
   "execution_count": 37,
   "metadata": {},
   "outputs": [],
   "source": [
    "def getLEScore(normalizedDataSet): \n",
    "        \n",
    "    eachColumnLEScoreList = list()    \n",
    "    normalizedDataSet_cols =normalizedDataSet[0]\n",
    "    print(normalizedDataSet_cols)\n",
    "    totalColNum = len(normalizedDataSet_cols)-1\n",
    "    \n",
    "    for i, colName in enumerate(normalizedDataSet_cols):\n",
    "        if colName not in evalColNames: continue\n",
    "            \n",
    "        colDataSet = [data[i] for data in normalizedDataSet[1:] if len(data) > 1 ]\n",
    "        isCategoriCol = colName in categoricalColNames\n",
    "        colDiversityCNT  = evalColDirvertyDIC[evalColNames.index(colName)]   \n",
    "        \n",
    "        colLEScoreList = list()  \n",
    "        for i, cellData in enumerate(colDataSet):\n",
    "            if isCategoriCol:\n",
    "                cellDiversityCNT = getCatetoryColDiversityCNT(cellData)\n",
    "                \n",
    "            else:\n",
    "                try:\n",
    "                    cellDiversityCNT = getNumericColDiversityCNT(cellData)\n",
    "                except:\n",
    "                    print(i, cellData)\n",
    "                    print(colName)\n",
    "                    break\n",
    "                \n",
    "            \n",
    "            \n",
    "            colLEScoreList.append(abs(cellDiversityCNT-1)/abs(colDiversityCNT-1))\n",
    "            \n",
    "        colLEScore = sum(colLEScoreList) / len(colDataSet)\n",
    "        print(colName ,\"sum :\", sum(colLEScoreList))\n",
    "        print(colName ,\"len :\", len(colDataSet))\n",
    "        print(colName ,\"colLEScore :\", colLEScore)\n",
    "        print('')\n",
    "        eachColumnLEScoreList.append(colLEScore)\n",
    "        \n",
    "    leScore = sum(eachColumnLEScoreList)/totalColNum \n",
    "    leScore = round(leScore, 7)\n",
    "    print(\"totla LE SCORE :\", leScore)\n",
    "    \n",
    "    return leScore"
   ]
  },
  {
   "cell_type": "markdown",
   "metadata": {},
   "source": [
    "#### CONST VARs"
   ]
  },
  {
   "cell_type": "code",
   "execution_count": 34,
   "metadata": {},
   "outputs": [],
   "source": [
    "evalColNames = ['AGE', 'RACE', 'ETHNICITY', 'GENDER', 'BIRTHPLACE', 'CONDITION']\n",
    "categoricalColNames = ['RACE',  'ETHNICITY', 'GENDER', 'BIRTHPLACE', 'CONDITION']\n",
    "originalDataSet_Path = './data/finalPatientDataSet_20.csv'\n",
    "\n",
    "recover_bert_cityblock_path = 'recover_bert_cityblock.csv'"
   ]
  },
  {
   "cell_type": "code",
   "execution_count": 23,
   "metadata": {},
   "outputs": [],
   "source": [
    "origin_dataset = fc.readCSV(originalDataSet_Path, sep='\\t')"
   ]
  },
  {
   "cell_type": "code",
   "execution_count": 7,
   "metadata": {},
   "outputs": [
    {
     "name": "stdout",
     "output_type": "stream",
     "text": [
      "224886\n"
     ]
    }
   ],
   "source": [
    "print(len(origin_dataset))"
   ]
  },
  {
   "cell_type": "code",
   "execution_count": 8,
   "metadata": {},
   "outputs": [
    {
     "data": {
      "text/plain": [
       "134"
      ]
     },
     "execution_count": 8,
     "metadata": {},
     "output_type": "execute_result"
    }
   ],
   "source": [
    "len(set([data[-2] for data in origin_dataset]))"
   ]
  },
  {
   "cell_type": "code",
   "execution_count": 9,
   "metadata": {},
   "outputs": [
    {
     "data": {
      "text/plain": [
       "29740"
      ]
     },
     "execution_count": 9,
     "metadata": {},
     "output_type": "execute_result"
    }
   ],
   "source": [
    "deathData = [data for data in origin_dataset if data[-1] == '1']\n",
    "len(deathData)"
   ]
  },
  {
   "cell_type": "code",
   "execution_count": null,
   "metadata": {},
   "outputs": [],
   "source": [
    "freqDict = dict()\n",
    "for data in deathData:\n",
    "    if data[-2] not in freqDict:\n",
    "        freqDict[data[-2]] = 0\n",
    "    freqDict[data[-2]] += 1\n",
    "    \n",
    "sorted(freqDict.items(), key=lambda x:x[1], reverse = True)"
   ]
  },
  {
   "cell_type": "markdown",
   "metadata": {},
   "source": [
    "> Datasets"
   ]
  },
  {
   "cell_type": "markdown",
   "metadata": {},
   "source": [
    "#### Origin Code Test"
   ]
  },
  {
   "cell_type": "code",
   "execution_count": 11,
   "metadata": {},
   "outputs": [],
   "source": [
    "org_moned_dataset = fc.readCSV('./normalized/recover_origin_wc.csv', sep='\\t')"
   ]
  },
  {
   "cell_type": "code",
   "execution_count": 12,
   "metadata": {},
   "outputs": [
    {
     "name": "stdout",
     "output_type": "stream",
     "text": [
      "['AGE', 'RACE', 'ETHNICITY', 'GENDER', 'BIRTHPLACE', 'CONDITIOIN', 'DEATH']\n"
     ]
    },
    {
     "data": {
      "text/plain": [
       "{0: 111.0, 1: 6, 2: 24, 3: 2, 4: 27, 5: 133}"
      ]
     },
     "execution_count": 12,
     "metadata": {},
     "output_type": "execute_result"
    }
   ],
   "source": [
    "evalColDirvertyDIC = getOrgAllColumnDivertyCNT(originalDataSet_Path)\n",
    "evalColDirvertyDIC"
   ]
  },
  {
   "cell_type": "markdown",
   "metadata": {},
   "source": [
    "#### Measure recover_bert_wc_cosine LM Score"
   ]
  },
  {
   "cell_type": "code",
   "execution_count": 48,
   "metadata": {},
   "outputs": [
    {
     "data": {
      "text/plain": [
       "155376"
      ]
     },
     "execution_count": 48,
     "metadata": {},
     "output_type": "execute_result"
    }
   ],
   "source": [
    "aaaaaa = fc.readCSV('f:/ez_git/Studies/ssinzo/K-Anonymity/data_build/build_bert_cosine_.csv', sep='\\t')\n",
    "sum([int(data[-1]) for data in aaaaaa[1:] if len(data) > 1])"
   ]
  },
  {
   "cell_type": "code",
   "execution_count": 45,
   "metadata": {},
   "outputs": [
    {
     "data": {
      "text/plain": [
       "[['AGE',\n",
       "  'BIRTHPLACE',\n",
       "  'CONDITION',\n",
       "  'DEATH',\n",
       "  'ETHNICITY',\n",
       "  'GENDER',\n",
       "  'RACE',\n",
       "  'count'],\n",
       " ['17-40',\n",
       "  'IT,GR,CA',\n",
       "  'Diabetes,Bullet wound,Gout',\n",
       "  '1',\n",
       "  'italian,greek,french_canadian',\n",
       "  'FEMALE,MALE',\n",
       "  'white',\n",
       "  '2'],\n",
       " ['1-16',\n",
       "  'FR',\n",
       "  'Otitis media,Sprain of ankle',\n",
       "  '0',\n",
       "  'french',\n",
       "  'FEMALE',\n",
       "  'white',\n",
       "  '4'],\n",
       " ['3-6',\n",
       "  'FR',\n",
       "  'Acute bronchitis (disorder),Streptococcal sore throat (disorder),Acute viral pharyngitis (disorder)',\n",
       "  '0',\n",
       "  'french',\n",
       "  'FEMALE',\n",
       "  'white',\n",
       "  '4'],\n",
       " ['14-16',\n",
       "  'FR',\n",
       "  'Acute viral pharyngitis (disorder),Viral sinusitis (disorder),Streptococcal sore throat (disorder)',\n",
       "  '0',\n",
       "  'french',\n",
       "  'FEMALE',\n",
       "  'white',\n",
       "  '4']]"
      ]
     },
     "execution_count": 45,
     "metadata": {},
     "output_type": "execute_result"
    }
   ],
   "source": [
    "aaaaaa[0:5]"
   ]
  },
  {
   "cell_type": "code",
   "execution_count": 35,
   "metadata": {},
   "outputs": [],
   "source": [
    "def exeLeScore(path):\n",
    "    print(path, \"LE Score\")\n",
    "    bert_wc_cosine_dataset = fc.readCSV('./normalized/'+path+'.csv', sep='\\t')\n",
    "    print(len(bert_wc_cosine_dataset)-1)\n",
    "    leScore = getLEScore(bert_wc_cosine_dataset)\n",
    "    print(\"=========================================================\")"
   ]
  },
  {
   "cell_type": "code",
   "execution_count": 39,
   "metadata": {},
   "outputs": [
    {
     "name": "stdout",
     "output_type": "stream",
     "text": [
      "recover_bert_wc_cosine LE Score\n",
      "310753\n",
      "['AGE', 'BIRTHPLACE', 'CONDITION', 'DEATH', 'ETHNICITY', 'GENDER', 'RACE']\n",
      "AGE sum : 1446.1818181809251\n",
      "AGE len : 155376\n",
      "AGE colLEScore : 0.009307626777500548\n",
      "\n",
      "BIRTHPLACE sum : 1033.5000000001444\n",
      "BIRTHPLACE len : 155376\n",
      "BIRTHPLACE colLEScore : 0.0066516064257037405\n",
      "\n",
      "CONDITION sum : 1758.621212119927\n",
      "CONDITION len : 155376\n",
      "CONDITION colLEScore : 0.011318486845587008\n",
      "\n",
      "ETHNICITY sum : 3634.8695652154415\n",
      "ETHNICITY len : 155376\n",
      "ETHNICITY colLEScore : 0.02339402201894399\n",
      "\n",
      "GENDER sum : 6170.0\n",
      "GENDER len : 155376\n",
      "GENDER colLEScore : 0.039710122541447845\n",
      "\n",
      "RACE sum : 3214.799999999267\n",
      "RACE len : 155376\n",
      "RACE colLEScore : 0.020690454124184347\n",
      "\n",
      "totla LE SCORE : 0.0185121\n",
      "=========================================================\n"
     ]
    }
   ],
   "source": [
    "exeLeScore('recover_bert_wc_cosine')\n"
   ]
  },
  {
   "cell_type": "code",
   "execution_count": 50,
   "metadata": {},
   "outputs": [
    {
     "name": "stdout",
     "output_type": "stream",
     "text": [
      "recover_bert_wc_euclidean LE Score\n",
      "325469\n",
      "['AGE', 'BIRTHPLACE', 'CONDITION', 'DEATH', 'ETHNICITY', 'GENDER', 'RACE']\n",
      "AGE sum : 1414.9636363627617\n",
      "AGE len : 162734\n",
      "AGE colLEScore : 0.008694947806621613\n",
      "\n",
      "BIRTHPLACE sum : 1054.8076923078165\n",
      "BIRTHPLACE len : 162734\n",
      "BIRTHPLACE colLEScore : 0.006481790482061625\n",
      "\n",
      "CONDITION sum : 1511.0909090898413\n",
      "CONDITION len : 162734\n",
      "CONDITION colLEScore : 0.009285649643527728\n",
      "\n",
      "ETHNICITY sum : 3666.6521739108107\n",
      "ETHNICITY len : 162734\n",
      "ETHNICITY colLEScore : 0.022531567920107725\n",
      "\n",
      "GENDER sum : 7228.0\n",
      "GENDER len : 162734\n",
      "GENDER colLEScore : 0.04441604090110241\n",
      "\n",
      "RACE sum : 2685.999999999778\n",
      "RACE len : 162734\n",
      "RACE colLEScore : 0.01650546290264959\n",
      "\n",
      "totla LE SCORE : 0.0179859\n",
      "=========================================================\n"
     ]
    }
   ],
   "source": [
    "exeLeScore('recover_bert_wc_euclidean')\n"
   ]
  },
  {
   "cell_type": "code",
   "execution_count": 51,
   "metadata": {},
   "outputs": [
    {
     "name": "stdout",
     "output_type": "stream",
     "text": [
      "recover_bert_wc_cityblock LE Score\n",
      "315903\n",
      "['AGE', 'BIRTHPLACE', 'CONDITION', 'DEATH', 'ETHNICITY', 'GENDER', 'RACE']\n",
      "AGE sum : 1341.0727272718987\n",
      "AGE len : 157951\n",
      "AGE colLEScore : 0.008490435180985866\n",
      "\n",
      "BIRTHPLACE sum : 957.3076923078572\n",
      "BIRTHPLACE len : 157951\n",
      "BIRTHPLACE colLEScore : 0.006060789056782529\n",
      "\n",
      "CONDITION sum : 1305.6060606051826\n",
      "CONDITION len : 157951\n",
      "CONDITION colLEScore : 0.00826589297063762\n",
      "\n",
      "ETHNICITY sum : 4828.000000000549\n",
      "ETHNICITY len : 157951\n",
      "ETHNICITY colLEScore : 0.03056644149135206\n",
      "\n",
      "GENDER sum : 3833.0\n",
      "GENDER len : 157951\n",
      "GENDER colLEScore : 0.024267019518711498\n",
      "\n",
      "RACE sum : 2621.199999999841\n",
      "RACE len : 157951\n",
      "RACE colLEScore : 0.016595019974548063\n",
      "\n",
      "totla LE SCORE : 0.0157076\n",
      "=========================================================\n"
     ]
    }
   ],
   "source": [
    "exeLeScore('recover_bert_wc_cityblock')"
   ]
  },
  {
   "cell_type": "code",
   "execution_count": 54,
   "metadata": {},
   "outputs": [
    {
     "name": "stdout",
     "output_type": "stream",
     "text": [
      "recover_origin_k3 LE Score\n",
      "44834\n",
      "['AGE', 'BIRTHPLACE', 'CONDITION', 'DEATH', 'ETHNICITY', 'GENDER', 'RACE', 'count']\n",
      "AGE sum : 553.0181818180026\n",
      "AGE len : 44834\n",
      "AGE colLEScore : 0.012334794616094987\n",
      "\n",
      "BIRTHPLACE sum : 40.07692307692404\n",
      "BIRTHPLACE len : 44834\n",
      "BIRTHPLACE colLEScore : 0.0008938957727823535\n",
      "\n",
      "CONDITION sum : 371.46212121191866\n",
      "CONDITION len : 44834\n",
      "CONDITION colLEScore : 0.008285277271979271\n",
      "\n",
      "ETHNICITY sum : 29.39130434782632\n",
      "ETHNICITY len : 44834\n",
      "ETHNICITY colLEScore : 0.000655558378637336\n",
      "\n",
      "GENDER sum : 0.0\n",
      "GENDER len : 44834\n",
      "GENDER colLEScore : 0.0\n",
      "\n",
      "RACE sum : 3.600000000000001\n",
      "RACE len : 44834\n",
      "RACE colLEScore : 8.02962037739216e-05\n",
      "\n",
      "totla LE SCORE : 0.0031785\n",
      "=========================================================\n"
     ]
    }
   ],
   "source": [
    "exeLeScore('recover_origin_k3')"
   ]
  },
  {
   "cell_type": "code",
   "execution_count": 15,
   "metadata": {},
   "outputs": [
    {
     "name": "stdout",
     "output_type": "stream",
     "text": [
      "207383\n"
     ]
    }
   ],
   "source": [
    "berted_dataset_bert = fc.readCSV('./normalized/recover_bert_wc.csv', sep='\\t')\n",
    "print(len(berted_dataset_bert))"
   ]
  },
  {
   "cell_type": "code",
   "execution_count": 16,
   "metadata": {},
   "outputs": [
    {
     "name": "stdout",
     "output_type": "stream",
     "text": [
      "['AGE', 'BIRTHPLACE', 'CONDITION', 'DEATH', 'ETHNICITY', 'GENDER', 'RACE']\n",
      "AGE sum : 0.0\n",
      "AGE len : 207382\n",
      "AGE colLEScore : 0.0\n",
      "\n",
      "BIRTHPLACE sum : 994.423076923261\n",
      "BIRTHPLACE len : 207382\n",
      "BIRTHPLACE colLEScore : 0.004795127238252409\n",
      "\n",
      "CONDITION sum : 3319.9393939481024\n",
      "CONDITION len : 207382\n",
      "CONDITION colLEScore : 0.016008811728829418\n",
      "\n",
      "ETHNICITY sum : 4764.043478263068\n",
      "ETHNICITY len : 207382\n",
      "ETHNICITY colLEScore : 0.022972309449533074\n",
      "\n",
      "GENDER sum : 0.0\n",
      "GENDER len : 207382\n",
      "GENDER colLEScore : 0.0\n",
      "\n",
      "RACE sum : 2245.4000000000924\n",
      "RACE len : 207382\n",
      "RACE colLEScore : 0.010827362066139263\n",
      "\n",
      "totla LE SCORE : 0.0091006\n"
     ]
    },
    {
     "data": {
      "text/plain": [
       "'0.0091006'"
      ]
     },
     "execution_count": 16,
     "metadata": {},
     "output_type": "execute_result"
    }
   ],
   "source": [
    "leScor2 = getLEScore(berted_dataset_bert)\n",
    "float_to_str(leScor2)"
   ]
  },
  {
   "cell_type": "markdown",
   "metadata": {},
   "source": [
    "#### Test Code"
   ]
  },
  {
   "cell_type": "code",
   "execution_count": null,
   "metadata": {},
   "outputs": [],
   "source": []
  },
  {
   "cell_type": "code",
   "execution_count": null,
   "metadata": {},
   "outputs": [],
   "source": []
  }
 ],
 "metadata": {
  "kernelspec": {
   "display_name": "Python 3",
   "language": "python",
   "name": "python3"
  },
  "language_info": {
   "codemirror_mode": {
    "name": "ipython",
    "version": 3
   },
   "file_extension": ".py",
   "mimetype": "text/x-python",
   "name": "python",
   "nbconvert_exporter": "python",
   "pygments_lexer": "ipython3",
   "version": "3.7.1"
  }
 },
 "nbformat": 4,
 "nbformat_minor": 2
}
