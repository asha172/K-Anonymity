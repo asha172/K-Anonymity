{
 "cells": [
  {
   "cell_type": "code",
   "execution_count": 116,
   "metadata": {},
   "outputs": [],
   "source": [
    "import pandas as pd\n",
    "import csv\n",
    "import numpy as np\n",
    "from random import shuffle\n",
    "import funcs as fc\n",
    "import decimal\n",
    "from copy import deepcopy\n",
    "import math\n",
    "import seaborn as sns"
   ]
  },
  {
   "cell_type": "code",
   "execution_count": 117,
   "metadata": {},
   "outputs": [],
   "source": [
    "ctx = decimal.Context()\n",
    "ctx.prec = 20\n",
    "\n",
    "def float_to_str(f):\n",
    "    \"\"\"\n",
    "    Convert the given float to a string,\n",
    "    without resorting to scientific notation\n",
    "    \"\"\"\n",
    "    d1 = ctx.create_decimal(repr(f))\n",
    "    return format(d1, 'f')\n",
    "\n",
    "def getTwoNumbersGap(num1, num2):\n",
    "    return abs(num1 - num2) + 1\n",
    "\n",
    "def getRangeGap(data):\n",
    "    maxV = max(data)\n",
    "    minV = min(data)\n",
    "    return getTwoNumbersGap(maxV, minV)\n",
    "\n",
    "def getMinMaxFromMultiD(sourceList):\n",
    "    maxValue = max(sourceList.reshape(-1))\n",
    "    minValue = min(sourceList.reshape(-1))\n",
    "    \n",
    "    return maxValue, minValue\n",
    "\n",
    "def getCategoryDiversityCNT(sourceList):\n",
    "    return len(set([j for sub in sourceList for j in sub]))"
   ]
  },
  {
   "cell_type": "code",
   "execution_count": 118,
   "metadata": {},
   "outputs": [],
   "source": [
    "def getOrgAllColumnDivertyCNT(datapath):\n",
    "    org_moned_dataset = fc.readCSV(datapath, sep='\\t')\n",
    "    print(org_moned_dataset[0])\n",
    "    org_moned_dataset = org_moned_dataset[1:]\n",
    "    \n",
    "    for dataRow in org_moned_dataset:\n",
    "        dataRow[0] = int(dataRow[0])\n",
    "        # 원본데이터 각 컬럼별 데이터 diversity count 추출\n",
    "    \n",
    "    columnsDiversityCNT = dict()\n",
    "    \n",
    "    for i, colName in enumerate(evalColNames):\n",
    "        if colName in categoricalColNames:\n",
    "            colIDX = evalColNames.index(colName)\n",
    "            columnsDiversityCNT[colIDX] = len(set([data[i] for data in org_moned_dataset]))\n",
    "        else:\n",
    "            diversityCNT = getRangeGap([float(data[i]) for data in org_moned_dataset])\n",
    "            columnsDiversityCNT[i] =diversityCNT       \n",
    "        \n",
    "        \n",
    "    return columnsDiversityCNT\n",
    "    \n",
    "\n",
    "def getCatetoryColDiversityCNT(cellData):\n",
    "    cnt = len(cellData.split(','))\n",
    "    return cnt\n",
    "\n",
    "def getNumericColDiversityCNT(cellData):\n",
    "    numericData = [float(data.strip()) for data in cellData.split('-') if data.strip()]\n",
    "    return getRangeGap(numericData)  "
   ]
  },
  {
   "cell_type": "code",
   "execution_count": 119,
   "metadata": {},
   "outputs": [],
   "source": [
    "def getLEScore(normalizedDataSet): \n",
    "        \n",
    "    eachColumnLEScoreList = list()    \n",
    "    normalizedDataSet_cols =normalizedDataSet[0]\n",
    "    print(normalizedDataSet_cols)\n",
    "    totalColNum = len(normalizedDataSet_cols)-1\n",
    "    \n",
    "    for i, colName in enumerate(normalizedDataSet_cols):\n",
    "        if colName not in evalColNames: continue\n",
    "            \n",
    "        colDataSet = [data[i] for data in normalizedDataSet[1:] if len(data) > 1 ]\n",
    "        isCategoriCol = colName in categoricalColNames\n",
    "        colDiversityCNT  = evalColDirvertyDIC[evalColNames.index(colName)]   \n",
    "        \n",
    "        colLEScoreList = list()  \n",
    "        for i, cellData in enumerate(colDataSet):\n",
    "            if isCategoriCol:\n",
    "                cellDiversityCNT = getCatetoryColDiversityCNT(cellData)\n",
    "                \n",
    "            else:\n",
    "                try:\n",
    "                    cellDiversityCNT = getNumericColDiversityCNT(cellData)\n",
    "                except:\n",
    "                    print(i, cellData)\n",
    "                    print(colName)\n",
    "                    break\n",
    "                \n",
    "            \n",
    "            \n",
    "            colLEScoreList.append(abs(cellDiversityCNT-1)/abs(colDiversityCNT-1))\n",
    "            \n",
    "        colLEScore = sum(colLEScoreList) / len(colDataSet)\n",
    "        print(colName ,\"sum :\", sum(colLEScoreList))\n",
    "        print(colName ,\"len :\", len(colDataSet))\n",
    "        print(colName ,\"colLEScore :\", colLEScore)\n",
    "        print('')\n",
    "        eachColumnLEScoreList.append(colLEScore)\n",
    "    \n",
    "    leScore = sum(eachColumnLEScoreList)/totalColNum \n",
    "    leScore = round(leScore, 7)\n",
    "    print(\"totla LE SCORE :\", leScore)\n",
    "    finalResult =[]  \n",
    "    finalResult.append(['AGE', 'RACE', 'ETHNICITY', 'GENDER', 'BIRTHPLACE', 'CONDITION', 'Total LE SCORE'])\n",
    "    clonedColLe = deepcopy(eachColumnLEScoreList)\n",
    "    clonedColLe.append(leScore)\n",
    "    finalResult.append(clonedColLe)\n",
    "    \n",
    "    return finalResult"
   ]
  },
  {
   "cell_type": "markdown",
   "metadata": {},
   "source": [
    "#### CONST VARs"
   ]
  },
  {
   "cell_type": "code",
   "execution_count": 120,
   "metadata": {},
   "outputs": [],
   "source": [
    "evalColNames = ['AGE', 'RACE', 'ETHNICITY', 'GENDER', 'BIRTHPLACE', 'CONDITION']\n",
    "categoricalColNames = ['RACE',  'ETHNICITY', 'GENDER', 'BIRTHPLACE', 'CONDITION']\n",
    "originalDataSet_Path = './data/finalPatientDataSet_20.csv'\n",
    "\n",
    "recover_bert_cityblock_path = 'recover_bert_cityblock.csv'"
   ]
  },
  {
   "cell_type": "code",
   "execution_count": 121,
   "metadata": {},
   "outputs": [],
   "source": [
    "origin_dataset = fc.readCSV(originalDataSet_Path, sep='\\t')"
   ]
  },
  {
   "cell_type": "code",
   "execution_count": 122,
   "metadata": {},
   "outputs": [
    {
     "name": "stdout",
     "output_type": "stream",
     "text": [
      "224886\n"
     ]
    }
   ],
   "source": [
    "print(len(origin_dataset))"
   ]
  },
  {
   "cell_type": "code",
   "execution_count": 123,
   "metadata": {},
   "outputs": [
    {
     "data": {
      "text/plain": [
       "134"
      ]
     },
     "execution_count": 123,
     "metadata": {},
     "output_type": "execute_result"
    }
   ],
   "source": [
    "len(set([data[-2] for data in origin_dataset]))"
   ]
  },
  {
   "cell_type": "code",
   "execution_count": 124,
   "metadata": {},
   "outputs": [
    {
     "data": {
      "text/plain": [
       "29740"
      ]
     },
     "execution_count": 124,
     "metadata": {},
     "output_type": "execute_result"
    }
   ],
   "source": [
    "deathData = [data for data in origin_dataset if data[-1] == '1']\n",
    "len(deathData)"
   ]
  },
  {
   "cell_type": "code",
   "execution_count": 125,
   "metadata": {},
   "outputs": [
    {
     "data": {
      "text/plain": [
       "[('Chronic congestive heart failure (disorder)', 4729),\n",
       " ('Myocardial Infarction', 3620),\n",
       " ('Viral sinusitis (disorder)', 3223),\n",
       " ('Stroke', 1900),\n",
       " ('Acute viral pharyngitis (disorder)', 1746),\n",
       " ('Pneumonia', 1658),\n",
       " ('Acute bronchitis (disorder)', 1498),\n",
       " ('Seizure disorder', 958),\n",
       " ('Bullet wound', 896),\n",
       " ('Cardiac Arrest', 891),\n",
       " ('Non-small cell carcinoma of lung  TNM stage 1 (disorder)', 471),\n",
       " ('Concussion injury of brain', 411),\n",
       " ('Neoplasm of prostate', 386),\n",
       " ('Streptococcal sore throat (disorder)', 346),\n",
       " ('Otitis media', 289),\n",
       " ('Drug overdose', 285),\n",
       " ('Sprain of ankle', 266),\n",
       " ('Polyp of colon', 261),\n",
       " (\"Alzheimer's disease (disorder)\", 223),\n",
       " ('Fracture of forearm', 222),\n",
       " ('Fracture of the vertebral column with spinal cord injury', 205),\n",
       " ('Hyperlipidemia', 203),\n",
       " ('Osteoporosis (disorder)', 198),\n",
       " ('Malignant tumor of colon', 197),\n",
       " ('Normal pregnancy', 186),\n",
       " ('Anemia (disorder)', 182),\n",
       " ('Concussion with no loss of consciousness', 176),\n",
       " ('Overlapping malignant neoplasm of colon', 175),\n",
       " ('Burn injury(morphologic abnormality)', 173),\n",
       " ('Chronic sinusitis (disorder)', 158),\n",
       " ('Fracture of ankle', 157),\n",
       " ('Fracture of clavicle', 154),\n",
       " ('Coronary Heart Disease', 154),\n",
       " ('Whiplash injury to neck', 151),\n",
       " ('Atrial Fibrillation', 147),\n",
       " ('Acute bacterial sinusitis (disorder)', 145),\n",
       " ('Metastasis from malignant tumor of prostate (disorder)', 134),\n",
       " ('Fracture subluxation of wrist', 131),\n",
       " ('Sinusitis (disorder)', 121),\n",
       " ('Sprain of wrist', 119),\n",
       " ('Epilepsy', 118),\n",
       " ('Laceration of thigh', 115),\n",
       " ('Laceration of hand', 102),\n",
       " ('Laceration of foot', 100),\n",
       " ('Facial laceration', 99),\n",
       " ('Pulmonary emphysema (disorder)', 99),\n",
       " ('Chronic obstructive bronchitis (disorder)', 92),\n",
       " ('Prediabetes', 91),\n",
       " ('Laceration of forearm', 91),\n",
       " ('Primary small cell malignant neoplasm of lung  TNM stage 1 (disorder)', 82),\n",
       " ('Fracture of rib', 76),\n",
       " ('Body mass index 30+ - obesity (finding)', 72),\n",
       " ('First degree burn', 67),\n",
       " ('Closed fracture of hip', 62),\n",
       " ('Secondary malignant neoplasm of colon', 57),\n",
       " ('Osteoarthritis of knee', 48),\n",
       " ('Escherichia coli urinary tract infection', 47),\n",
       " (\"Familial Alzheimer's disease of early onset (disorder)\", 43),\n",
       " ('Injury of tendon of the rotator cuff of shoulder', 40),\n",
       " ('Cystitis', 39),\n",
       " ('Second degree burn', 39),\n",
       " ('Chronic kidney disease stage 1 (disorder)', 38),\n",
       " ('Concussion with loss of consciousness', 37),\n",
       " ('Chronic intractable migraine without aura', 34),\n",
       " ('Primary malignant neoplasm of colon', 31),\n",
       " ('Recurrent rectal polyp', 29),\n",
       " ('Chronic pain', 28),\n",
       " ('Acute respiratory failure (disorder)', 27),\n",
       " ('Neuropathy due to type 2 diabetes mellitus (disorder)', 24),\n",
       " ('Impacted molars', 23),\n",
       " ('Hyperglycemia (disorder)', 22),\n",
       " ('Injury of anterior cruciate ligament', 20),\n",
       " ('Hypertension', 19),\n",
       " ('Injury of medial collateral ligament of knee', 18),\n",
       " ('Acute allergic reaction', 18),\n",
       " ('Idiopathic atrophic hypothyroidism', 16),\n",
       " ('Acute Cholecystitis', 16),\n",
       " ('Localized  primary osteoarthritis of the hand', 15),\n",
       " ('Diabetic retinopathy associated with type II diabetes mellitus (disorder)',\n",
       "  15),\n",
       " ('Antepartum eclampsia', 12),\n",
       " ('Hypertriglyceridemia (disorder)', 11),\n",
       " ('Appendicitis', 10),\n",
       " ('Tear of meniscus of knee', 9),\n",
       " ('Preeclampsia', 9),\n",
       " ('Osteoarthritis of hip', 9),\n",
       " ('Smokes tobacco daily', 9),\n",
       " ('Nonproliferative diabetic retinopathy due to type 2 diabetes mellitus (disorder)',\n",
       "  8),\n",
       " ('Gout', 8),\n",
       " ('Atopic dermatitis', 7),\n",
       " ('Perennial allergic rhinitis', 7),\n",
       " ('Rupture of patellar tendon', 7),\n",
       " ('Childhood asthma', 6),\n",
       " ('Proliferative diabetic retinopathy due to type II diabetes mellitus (disorder)',\n",
       "  6),\n",
       " ('Chronic kidney disease stage 2 (disorder)', 5),\n",
       " ('Opioid abuse (disorder)', 5),\n",
       " ('Sepsis caused by Staphylococcus aureus', 5),\n",
       " ('Sepsis caused by Pseudomonas (disorder)', 5),\n",
       " ('Alcoholism', 5),\n",
       " ('Diabetes', 4),\n",
       " ('Rheumatoid arthritis', 4),\n",
       " ('Macular edema and retinopathy due to type 2 diabetes mellitus (disorder)',\n",
       "  3),\n",
       " ('Perennial allergic rhinitis with seasonal variation', 3),\n",
       " ('Posttraumatic stress disorder', 3),\n",
       " ('Third degree burn', 3),\n",
       " ('Metabolic syndrome X (disorder)', 3),\n",
       " ('Suicide - suffocation', 3),\n",
       " ('History of amputation of foot (situation)', 2),\n",
       " ('Seasonal allergic rhinitis', 2),\n",
       " ('Child attention deficit disorder', 2),\n",
       " ('Primary fibromyalgia syndrome', 2),\n",
       " ('Fracture of vertebral column without spinal cord injury', 2),\n",
       " ('Rupture of appendix', 1),\n",
       " ('Non-small cell carcinoma of lung  TNM stage 2 (disorder)', 1),\n",
       " ('Miscarriage in first trimester', 1),\n",
       " ('Contact dermatitis', 1),\n",
       " ('Suspected lung cancer (situation)', 1),\n",
       " ('Pyelonephritis', 1),\n",
       " ('Chronic kidney disease stage 3 (disorder)', 1)]"
      ]
     },
     "execution_count": 125,
     "metadata": {},
     "output_type": "execute_result"
    }
   ],
   "source": [
    "freqDict = dict()\n",
    "for data in deathData:\n",
    "    if data[-2] not in freqDict:\n",
    "        freqDict[data[-2]] = 0\n",
    "    freqDict[data[-2]] += 1\n",
    "    \n",
    "sorted(freqDict.items(), key=lambda x:x[1], reverse = True)"
   ]
  },
  {
   "cell_type": "markdown",
   "metadata": {},
   "source": [
    "> Get Data Detalis"
   ]
  },
  {
   "cell_type": "code",
   "execution_count": 162,
   "metadata": {},
   "outputs": [],
   "source": [
    "convertFileList = ['convert_cityblock_finalPatientDataSet_20.csv','convert_cosine_finalPatientDataSet_20.csv','convert_euclidean_finalPatientDataSet_20.csv']"
   ]
  },
  {
   "cell_type": "code",
   "execution_count": 174,
   "metadata": {},
   "outputs": [
    {
     "name": "stdout",
     "output_type": "stream",
     "text": [
      "convert_cityblock_finalPatientDataSet_20.csv\n",
      "                 AGE           RACE      ETHNICITY         GENDER  \\\n",
      "count  224885.000000  224885.000000  224885.000000  224885.000000   \n",
      "mean       43.378349    -108.391105    -191.808204     -38.211414   \n",
      "std        26.369902     121.157679      87.559517      40.095900   \n",
      "min         0.000000    -256.738524    -269.124552     -79.211568   \n",
      "25%        22.000000    -256.738524    -248.287498     -79.211568   \n",
      "50%        41.000000       1.000000    -221.118718       1.000000   \n",
      "75%        61.000000       1.000000    -204.384017       1.000000   \n",
      "max       110.000000       1.000000       1.000000       1.000000   \n",
      "\n",
      "          BIRTHPLACE      CONDITION          DEATH  \n",
      "count  224885.000000  224885.000000  224885.000000  \n",
      "mean      -74.365918    -164.947876       0.132245  \n",
      "std       112.615301      46.477501       0.338758  \n",
      "min      -269.536517    -301.369577       0.000000  \n",
      "25%      -225.976409    -204.842931       0.000000  \n",
      "50%         1.000000    -139.851490       0.000000  \n",
      "75%         1.000000    -139.507842       0.000000  \n",
      "max         1.000000       1.000000       1.000000  \n",
      "AGE 110.0 ~ 0.0\n",
      "RACE 1.0 ~ -256.74\n",
      "ETHNICITY 1.0 ~ -269.12\n",
      "GENDER 1.0 ~ -79.21\n",
      "BIRTHPLACE 1.0 ~ -269.54\n",
      "CONDITION 1.0 ~ -301.37\n",
      "DEATH 1.0 ~ 0.0\n",
      "\n",
      "convert_cosine_finalPatientDataSet_20.csv\n",
      "                 AGE           RACE      ETHNICITY         GENDER  \\\n",
      "count  224885.000000  224885.000000  224885.000000  224885.000000   \n",
      "mean       43.378349       0.929556       0.912074       0.990899   \n",
      "std        26.369902       0.080939       0.046190       0.009306   \n",
      "min         0.000000       0.822805       0.845314       0.981383   \n",
      "25%        22.000000       0.822805       0.871722       0.981383   \n",
      "50%        41.000000       1.000000       0.911478       1.000000   \n",
      "75%        61.000000       1.000000       0.924761       1.000000   \n",
      "max       110.000000       1.000000       1.000000       1.000000   \n",
      "\n",
      "          BIRTHPLACE      CONDITION          DEATH  \n",
      "count  224885.000000  224885.000000  224885.000000  \n",
      "mean        0.954070       0.941047       0.132245  \n",
      "std         0.070527       0.036550       0.338758  \n",
      "min         0.800522       0.770919       0.000000  \n",
      "25%         0.878214       0.913737       0.000000  \n",
      "50%         1.000000       0.963063       0.000000  \n",
      "75%         1.000000       0.963733       0.000000  \n",
      "max         1.000000       1.000000       1.000000  \n",
      "AGE 110.0 ~ 0.0\n",
      "RACE 1.0 ~ 0.82\n",
      "ETHNICITY 1.0 ~ 0.85\n",
      "GENDER 1.0 ~ 0.98\n",
      "BIRTHPLACE 1.0 ~ 0.8\n",
      "CONDITION 1.0 ~ 0.77\n",
      "DEATH 1.0 ~ 0.0\n",
      "\n",
      "convert_euclidean_finalPatientDataSet_20.csv\n",
      "                 AGE           RACE      ETHNICITY         GENDER  \\\n",
      "count  224885.000000  224885.000000  224885.000000  224885.000000   \n",
      "mean       43.378349      -4.022771      -7.947525      -0.762088   \n",
      "std        26.369902       5.567184       4.123952       1.801835   \n",
      "min         0.000000     -10.836158     -11.887685      -2.604558   \n",
      "25%        22.000000     -10.836158     -10.826634      -2.604558   \n",
      "50%        41.000000       1.000000      -8.969900       1.000000   \n",
      "75%        61.000000       1.000000      -8.241715       1.000000   \n",
      "max       110.000000       1.000000       1.000000       1.000000   \n",
      "\n",
      "          BIRTHPLACE      CONDITION          DEATH  \n",
      "count  224885.000000  224885.000000  224885.000000  \n",
      "mean       -2.446281      -6.632875       0.132245  \n",
      "std         5.152975       2.215860       0.338758  \n",
      "min       -11.561072     -13.787779       0.000000  \n",
      "25%        -9.424712      -8.493697       0.000000  \n",
      "50%         1.000000      -5.507932       0.000000  \n",
      "75%         1.000000      -5.336436       0.000000  \n",
      "max         1.000000       1.000000       1.000000  \n",
      "AGE 110.0 ~ 0.0\n",
      "RACE 1.0 ~ -10.84\n",
      "ETHNICITY 1.0 ~ -11.89\n",
      "GENDER 1.0 ~ -2.6\n",
      "BIRTHPLACE 1.0 ~ -11.56\n",
      "CONDITION 1.0 ~ -13.79\n",
      "DEATH 1.0 ~ 0.0\n",
      "\n"
     ]
    }
   ],
   "source": [
    "for filePath in convertFileList:\n",
    "    convert_pd =  pd.read_csv('./data/'+ filePath, sep='\\t')\n",
    "    minList = convert_pd.describe().loc['min'].tolist()\n",
    "    maxList = convert_pd.describe().loc['max'].tolist()\n",
    "    meanList = convert_pd.describe().loc['mean'].tolist()\n",
    "    print(filePath)\n",
    "    print(convert_pd.describe())\n",
    "    for idx in range(len(meanList)):\n",
    "        colName = convert_pd.columns[idx]\n",
    "        minVal = round(minList[idx], 2)\n",
    "        maxVal = round(maxList[idx], 2)\n",
    "        \n",
    "        print(colName, str(maxVal) +' ~ '+ str(minVal))\n",
    "        \n",
    "    print(\"\")\n",
    "    \n",
    "    "
   ]
  },
  {
   "cell_type": "code",
   "execution_count": 158,
   "metadata": {},
   "outputs": [],
   "source": [
    "convert_finalPatientDataSet_20 = pd.read_csv('./data/convert_cityblock_finalPatientDataSet_20.csv', sep='\\t')"
   ]
  },
  {
   "cell_type": "code",
   "execution_count": null,
   "metadata": {},
   "outputs": [],
   "source": []
  },
  {
   "cell_type": "code",
   "execution_count": 160,
   "metadata": {},
   "outputs": [
    {
     "name": "stdout",
     "output_type": "stream",
     "text": [
      "AGE            43.378349\n",
      "RACE         -108.391105\n",
      "ETHNICITY    -191.808204\n",
      "GENDER        -38.211414\n",
      "BIRTHPLACE    -74.365918\n",
      "CONDITION    -164.947876\n",
      "DEATH           0.132245\n",
      "Name: mean, dtype: float64\n",
      "AGE           110.0\n",
      "RACE            1.0\n",
      "ETHNICITY       1.0\n",
      "GENDER          1.0\n",
      "BIRTHPLACE      1.0\n",
      "CONDITION       1.0\n",
      "DEATH           1.0\n",
      "Name: max, dtype: float64\n",
      "AGE             0.000000\n",
      "RACE         -256.738524\n",
      "ETHNICITY    -269.124552\n",
      "GENDER        -79.211568\n",
      "BIRTHPLACE   -269.536517\n",
      "CONDITION    -301.369577\n",
      "DEATH           0.000000\n",
      "Name: min, dtype: float64\n"
     ]
    }
   ],
   "source": [
    "print(convert_finalPatientDataSet_20.describe().loc['mean'])\n",
    "print(convert_finalPatientDataSet_20.describe().loc['max'])\n",
    "print(convert_finalPatientDataSet_20.describe().loc['min'])"
   ]
  },
  {
   "cell_type": "markdown",
   "metadata": {},
   "source": [
    "#### Origin Code Test"
   ]
  },
  {
   "cell_type": "code",
   "execution_count": 127,
   "metadata": {},
   "outputs": [],
   "source": [
    "org_moned_dataset = fc.readCSV('./normalized/recover_origin_wc.csv', sep='\\t')"
   ]
  },
  {
   "cell_type": "code",
   "execution_count": 128,
   "metadata": {},
   "outputs": [
    {
     "name": "stdout",
     "output_type": "stream",
     "text": [
      "['AGE', 'RACE', 'ETHNICITY', 'GENDER', 'BIRTHPLACE', 'CONDITIOIN', 'DEATH']\n"
     ]
    },
    {
     "data": {
      "text/plain": [
       "{0: 111.0, 1: 6, 2: 24, 3: 2, 4: 27, 5: 133}"
      ]
     },
     "execution_count": 128,
     "metadata": {},
     "output_type": "execute_result"
    }
   ],
   "source": [
    "evalColDirvertyDIC = getOrgAllColumnDivertyCNT(originalDataSet_Path)\n",
    "evalColDirvertyDIC"
   ]
  },
  {
   "cell_type": "markdown",
   "metadata": {},
   "source": [
    "#### Measure LM Score"
   ]
  },
  {
   "cell_type": "code",
   "execution_count": 129,
   "metadata": {},
   "outputs": [],
   "source": [
    "def exeLeScore(path):\n",
    "    print(path, \"LE Score\")\n",
    "    bert_wc_cosine_dataset = fc.readCSV('./normalized/'+path+'.csv', sep='\\t')\n",
    "    print(len(bert_wc_cosine_dataset)-1)\n",
    "    result = getLEScore(bert_wc_cosine_dataset)\n",
    "    print(\"=========================================================\")\n",
    "    return result"
   ]
  },
  {
   "cell_type": "code",
   "execution_count": 130,
   "metadata": {},
   "outputs": [],
   "source": [
    "leDict = dict()"
   ]
  },
  {
   "cell_type": "code",
   "execution_count": 131,
   "metadata": {},
   "outputs": [
    {
     "name": "stdout",
     "output_type": "stream",
     "text": [
      "k_A_dataset_org_0613 LE Score\n",
      "224885\n",
      "['AGE', 'BIRTHPLACE', 'CONDITION', 'DEATH', 'ETHNICITY', 'GENDER', 'RACE']\n",
      "AGE sum : 2068.899999998535\n",
      "AGE len : 224885\n",
      "AGE colLEScore : 0.009199813237870622\n",
      "\n",
      "BIRTHPLACE sum : 139.8076923076881\n",
      "BIRTHPLACE len : 224885\n",
      "BIRTHPLACE colLEScore : 0.0006216852716174404\n",
      "\n",
      "CONDITION sum : 1254.2878787868992\n",
      "CONDITION len : 224885\n",
      "CONDITION colLEScore : 0.005577463498174174\n",
      "\n",
      "ETHNICITY sum : 107.39130434782224\n",
      "ETHNICITY len : 224885\n",
      "ETHNICITY colLEScore : 0.000477538761357237\n",
      "\n",
      "GENDER sum : 0.0\n",
      "GENDER len : 224885\n",
      "GENDER colLEScore : 0.0\n",
      "\n",
      "RACE sum : 9.999999999999996\n",
      "RACE len : 224885\n",
      "RACE colLEScore : 4.446717211018964e-05\n",
      "\n",
      "totla LE SCORE : 0.0026535\n",
      "=========================================================\n"
     ]
    }
   ],
   "source": [
    "#### k_A_dataset_org_0613 오리지널 데이터 \n",
    "result0 = exeLeScore('k_A_dataset_org_0613')\n",
    "leDict['Original']= result0"
   ]
  },
  {
   "cell_type": "code",
   "execution_count": 132,
   "metadata": {},
   "outputs": [
    {
     "name": "stdout",
     "output_type": "stream",
     "text": [
      "recover_bert_wc_cosine LE Score\n",
      "224885\n",
      "['AGE', 'BIRTHPLACE', 'CONDITION', 'DEATH', 'ETHNICITY', 'GENDER', 'RACE']\n",
      "AGE sum : 2037.309090907671\n",
      "AGE len : 224885\n",
      "AGE colLEScore : 0.009059337398704542\n",
      "\n",
      "BIRTHPLACE sum : 1459.076923076421\n",
      "BIRTHPLACE len : 224885\n",
      "BIRTHPLACE colLEScore : 0.006488102466044516\n",
      "\n",
      "CONDITION sum : 3578.2045454646263\n",
      "CONDITION len : 224885\n",
      "CONDITION colLEScore : 0.015911263736863846\n",
      "\n",
      "ETHNICITY sum : 5997.652173923258\n",
      "ETHNICITY len : 224885\n",
      "ETHNICITY colLEScore : 0.026669863147489863\n",
      "\n",
      "GENDER sum : 7634.0\n",
      "GENDER len : 224885\n",
      "GENDER colLEScore : 0.03394623918891878\n",
      "\n",
      "RACE sum : 4759.399999997862\n",
      "RACE len : 224885\n",
      "RACE colLEScore : 0.02116370589411416\n",
      "\n",
      "totla LE SCORE : 0.0188731\n",
      "=========================================================\n"
     ]
    }
   ],
   "source": [
    "#### recover_bert_wc_cosine 코사인\n",
    "result1 = exeLeScore('recover_bert_wc_cosine')\n",
    "leDict['Cosine']= result1"
   ]
  },
  {
   "cell_type": "code",
   "execution_count": 133,
   "metadata": {},
   "outputs": [
    {
     "name": "stdout",
     "output_type": "stream",
     "text": [
      "recover_bert_wc_euclidean LE Score\n",
      "224885\n",
      "['AGE', 'BIRTHPLACE', 'CONDITION', 'DEATH', 'ETHNICITY', 'GENDER', 'RACE']\n",
      "AGE sum : 1937.4636363623094\n",
      "AGE len : 224885\n",
      "AGE colLEScore : 0.00861535289753567\n",
      "\n",
      "BIRTHPLACE sum : 1367.538461538053\n",
      "BIRTHPLACE len : 224885\n",
      "BIRTHPLACE colLEScore : 0.006081056813651658\n",
      "\n",
      "CONDITION sum : 2521.1893939436322\n",
      "CONDITION len : 224885\n",
      "CONDITION colLEScore : 0.011211016270287623\n",
      "\n",
      "ETHNICITY sum : 5613.000000007703\n",
      "ETHNICITY len : 224885\n",
      "ETHNICITY colLEScore : 0.024959423705483708\n",
      "\n",
      "GENDER sum : 9080.0\n",
      "GENDER len : 224885\n",
      "GENDER colLEScore : 0.04037619227605221\n",
      "\n",
      "RACE sum : 3686.3999999990197\n",
      "RACE len : 224885\n",
      "RACE colLEScore : 0.016392378326695954\n",
      "\n",
      "totla LE SCORE : 0.0179392\n",
      "=========================================================\n"
     ]
    }
   ],
   "source": [
    "#### recover_bert_wc_cosine 유클리디언\n",
    "result2 = exeLeScore('recover_bert_wc_euclidean')\n",
    "leDict['Euclidean']= result2"
   ]
  },
  {
   "cell_type": "code",
   "execution_count": 134,
   "metadata": {},
   "outputs": [
    {
     "name": "stdout",
     "output_type": "stream",
     "text": [
      "recover_bert_wc_cityblock LE Score\n",
      "224885\n",
      "['AGE', 'BIRTHPLACE', 'CONDITION', 'DEATH', 'ETHNICITY', 'GENDER', 'RACE']\n",
      "AGE sum : 1889.6545454532445\n",
      "AGE len : 224885\n",
      "AGE colLEScore : 0.008402759390147162\n",
      "\n",
      "BIRTHPLACE sum : 1272.3076923074534\n",
      "BIRTHPLACE len : 224885\n",
      "BIRTHPLACE colLEScore : 0.005657592513095375\n",
      "\n",
      "CONDITION sum : 2390.371212124275\n",
      "CONDITION len : 224885\n",
      "CONDITION colLEScore : 0.010629304809677281\n",
      "\n",
      "ETHNICITY sum : 8114.782608707288\n",
      "ETHNICITY len : 224885\n",
      "ETHNICITY colLEScore : 0.036084143489816076\n",
      "\n",
      "GENDER sum : 7848.0\n",
      "GENDER len : 224885\n",
      "GENDER colLEScore : 0.03489783667207684\n",
      "\n",
      "RACE sum : 3736.9999999989486\n",
      "RACE len : 224885\n",
      "RACE colLEScore : 0.0166173822175732\n",
      "\n",
      "totla LE SCORE : 0.0187148\n",
      "=========================================================\n"
     ]
    }
   ],
   "source": [
    "#### recover_bert_wc_cosine 맨하탄\n",
    "result3 = exeLeScore('recover_bert_wc_cityblock')\n",
    "leDict['Cityblock']= result3"
   ]
  },
  {
   "cell_type": "code",
   "execution_count": 135,
   "metadata": {},
   "outputs": [
    {
     "data": {
      "text/plain": [
       "['AGE',\n",
       " 'RACE',\n",
       " 'ETHNICITY',\n",
       " 'GENDER',\n",
       " 'BIRTHPLACE',\n",
       " 'CONDITION',\n",
       " 'Total LE SCORE']"
      ]
     },
     "execution_count": 135,
     "metadata": {},
     "output_type": "execute_result"
    }
   ],
   "source": [
    "columns"
   ]
  },
  {
   "cell_type": "code",
   "execution_count": 136,
   "metadata": {},
   "outputs": [],
   "source": [
    "### 막대그래프용 데이터 만들기\n",
    "leColumns = ['AGE', 'BIRTHPLACE', 'CONDITION', 'ETHNICITY', 'GENDER', 'RACE', 'TOTAL LE SCORE']\n",
    "\n",
    "leBarChartDataList = []\n",
    "leTableDataList = [['AGE'], ['BIRTHPLACE'], ['CONDITION'], ['ETHNICITY'], ['GENDER'], ['RACE'], ['TOTAL LE SCORE']]\n",
    "# leList.append()\n",
    "\n",
    "for key, item in leDict.items():\n",
    "    \n",
    "    \n",
    "    columns = item[0]\n",
    "    \n",
    "    valueRow = None\n",
    "    for i, value in enumerate(item[1]):\n",
    "        \n",
    "        colName = leColumns[i]\n",
    "        roundedVal = float(float_to_str(round(value, 7)))\n",
    "        \n",
    "        valueRow = [colName, roundedVal, key]                \n",
    "        leBarChartDataList.append(valueRow) \n",
    "        leTableDataList[i].append(float_to_str(round(value, 7)))\n",
    "        \n",
    "        \n"
   ]
  },
  {
   "cell_type": "code",
   "execution_count": 137,
   "metadata": {},
   "outputs": [],
   "source": [
    "talbe_pd = pd.DataFrame(leTableDataList, columns=['Column', 'Cosine', 'Euclindean', 'Manhattan', 'Origianl'])\n",
    "talbe_pd.to_csv('./output/LEScore_Table.csv', encoding='utf-8', index=False)"
   ]
  },
  {
   "cell_type": "markdown",
   "metadata": {},
   "source": [
    "#### LE Score 비교 막대그래프"
   ]
  },
  {
   "cell_type": "code",
   "execution_count": 138,
   "metadata": {},
   "outputs": [
    {
     "data": {
      "text/plain": [
       "<matplotlib.axes._subplots.AxesSubplot at 0x2b15bb67c50>"
      ]
     },
     "execution_count": 138,
     "metadata": {},
     "output_type": "execute_result"
    },
    {
     "data": {
      "image/png": "[encoded data removed]",
      "text/plain": [
       "<Figure size 1080x504 with 1 Axes>"
      ]
     },
     "metadata": {
      "needs_background": "light"
     },
     "output_type": "display_data"
    }
   ],
   "source": [
    "import matplotlib.pyplot as plt\n",
    "plt.figure(figsize=(15, 7))\n",
    "\n",
    "\n",
    "dataSource_pd = pd.DataFrame(leBarChartDataList, columns=['Column', 'LE Score', 'Data Type'])\n",
    "sns.barplot(data=dataSource_pd, x='Column', y='LE Score', hue='Data Type')"
   ]
  },
  {
   "cell_type": "code",
   "execution_count": 139,
   "metadata": {},
   "outputs": [
    {
     "data": {
      "text/html": [
       "<div>\n",
       "<style scoped>\n",
       "    .dataframe tbody tr th:only-of-type {\n",
       "        vertical-align: middle;\n",
       "    }\n",
       "\n",
       "    .dataframe tbody tr th {\n",
       "        vertical-align: top;\n",
       "    }\n",
       "\n",
       "    .dataframe thead th {\n",
       "        text-align: right;\n",
       "    }\n",
       "</style>\n",
       "<table border=\"1\" class=\"dataframe\">\n",
       "  <thead>\n",
       "    <tr style=\"text-align: right;\">\n",
       "      <th></th>\n",
       "      <th>Column</th>\n",
       "      <th>LE Score</th>\n",
       "      <th>Data Type</th>\n",
       "    </tr>\n",
       "  </thead>\n",
       "  <tbody>\n",
       "    <tr>\n",
       "      <th>0</th>\n",
       "      <td>AGE</td>\n",
       "      <td>0.009200</td>\n",
       "      <td>Original</td>\n",
       "    </tr>\n",
       "    <tr>\n",
       "      <th>1</th>\n",
       "      <td>BIRTHPLACE</td>\n",
       "      <td>0.000622</td>\n",
       "      <td>Original</td>\n",
       "    </tr>\n",
       "    <tr>\n",
       "      <th>2</th>\n",
       "      <td>CONDITION</td>\n",
       "      <td>0.005577</td>\n",
       "      <td>Original</td>\n",
       "    </tr>\n",
       "    <tr>\n",
       "      <th>3</th>\n",
       "      <td>ETHNICITY</td>\n",
       "      <td>0.000478</td>\n",
       "      <td>Original</td>\n",
       "    </tr>\n",
       "    <tr>\n",
       "      <th>4</th>\n",
       "      <td>GENDER</td>\n",
       "      <td>0.000000</td>\n",
       "      <td>Original</td>\n",
       "    </tr>\n",
       "    <tr>\n",
       "      <th>5</th>\n",
       "      <td>RACE</td>\n",
       "      <td>0.000044</td>\n",
       "      <td>Original</td>\n",
       "    </tr>\n",
       "    <tr>\n",
       "      <th>6</th>\n",
       "      <td>TOTAL LE SCORE</td>\n",
       "      <td>0.002654</td>\n",
       "      <td>Original</td>\n",
       "    </tr>\n",
       "    <tr>\n",
       "      <th>7</th>\n",
       "      <td>AGE</td>\n",
       "      <td>0.009059</td>\n",
       "      <td>Cosine</td>\n",
       "    </tr>\n",
       "    <tr>\n",
       "      <th>8</th>\n",
       "      <td>BIRTHPLACE</td>\n",
       "      <td>0.006488</td>\n",
       "      <td>Cosine</td>\n",
       "    </tr>\n",
       "    <tr>\n",
       "      <th>9</th>\n",
       "      <td>CONDITION</td>\n",
       "      <td>0.015911</td>\n",
       "      <td>Cosine</td>\n",
       "    </tr>\n",
       "    <tr>\n",
       "      <th>10</th>\n",
       "      <td>ETHNICITY</td>\n",
       "      <td>0.026670</td>\n",
       "      <td>Cosine</td>\n",
       "    </tr>\n",
       "    <tr>\n",
       "      <th>11</th>\n",
       "      <td>GENDER</td>\n",
       "      <td>0.033946</td>\n",
       "      <td>Cosine</td>\n",
       "    </tr>\n",
       "    <tr>\n",
       "      <th>12</th>\n",
       "      <td>RACE</td>\n",
       "      <td>0.021164</td>\n",
       "      <td>Cosine</td>\n",
       "    </tr>\n",
       "    <tr>\n",
       "      <th>13</th>\n",
       "      <td>TOTAL LE SCORE</td>\n",
       "      <td>0.018873</td>\n",
       "      <td>Cosine</td>\n",
       "    </tr>\n",
       "    <tr>\n",
       "      <th>14</th>\n",
       "      <td>AGE</td>\n",
       "      <td>0.008615</td>\n",
       "      <td>Euclidean</td>\n",
       "    </tr>\n",
       "    <tr>\n",
       "      <th>15</th>\n",
       "      <td>BIRTHPLACE</td>\n",
       "      <td>0.006081</td>\n",
       "      <td>Euclidean</td>\n",
       "    </tr>\n",
       "    <tr>\n",
       "      <th>16</th>\n",
       "      <td>CONDITION</td>\n",
       "      <td>0.011211</td>\n",
       "      <td>Euclidean</td>\n",
       "    </tr>\n",
       "    <tr>\n",
       "      <th>17</th>\n",
       "      <td>ETHNICITY</td>\n",
       "      <td>0.024959</td>\n",
       "      <td>Euclidean</td>\n",
       "    </tr>\n",
       "    <tr>\n",
       "      <th>18</th>\n",
       "      <td>GENDER</td>\n",
       "      <td>0.040376</td>\n",
       "      <td>Euclidean</td>\n",
       "    </tr>\n",
       "    <tr>\n",
       "      <th>19</th>\n",
       "      <td>RACE</td>\n",
       "      <td>0.016392</td>\n",
       "      <td>Euclidean</td>\n",
       "    </tr>\n",
       "    <tr>\n",
       "      <th>20</th>\n",
       "      <td>TOTAL LE SCORE</td>\n",
       "      <td>0.017939</td>\n",
       "      <td>Euclidean</td>\n",
       "    </tr>\n",
       "    <tr>\n",
       "      <th>21</th>\n",
       "      <td>AGE</td>\n",
       "      <td>0.008403</td>\n",
       "      <td>Cityblock</td>\n",
       "    </tr>\n",
       "    <tr>\n",
       "      <th>22</th>\n",
       "      <td>BIRTHPLACE</td>\n",
       "      <td>0.005658</td>\n",
       "      <td>Cityblock</td>\n",
       "    </tr>\n",
       "    <tr>\n",
       "      <th>23</th>\n",
       "      <td>CONDITION</td>\n",
       "      <td>0.010629</td>\n",
       "      <td>Cityblock</td>\n",
       "    </tr>\n",
       "    <tr>\n",
       "      <th>24</th>\n",
       "      <td>ETHNICITY</td>\n",
       "      <td>0.036084</td>\n",
       "      <td>Cityblock</td>\n",
       "    </tr>\n",
       "    <tr>\n",
       "      <th>25</th>\n",
       "      <td>GENDER</td>\n",
       "      <td>0.034898</td>\n",
       "      <td>Cityblock</td>\n",
       "    </tr>\n",
       "    <tr>\n",
       "      <th>26</th>\n",
       "      <td>RACE</td>\n",
       "      <td>0.016617</td>\n",
       "      <td>Cityblock</td>\n",
       "    </tr>\n",
       "    <tr>\n",
       "      <th>27</th>\n",
       "      <td>TOTAL LE SCORE</td>\n",
       "      <td>0.018715</td>\n",
       "      <td>Cityblock</td>\n",
       "    </tr>\n",
       "  </tbody>\n",
       "</table>\n",
       "</div>"
      ],
      "text/plain": [
       "            Column  LE Score  Data Type\n",
       "0              AGE  0.009200   Original\n",
       "1       BIRTHPLACE  0.000622   Original\n",
       "2        CONDITION  0.005577   Original\n",
       "3        ETHNICITY  0.000478   Original\n",
       "4           GENDER  0.000000   Original\n",
       "5             RACE  0.000044   Original\n",
       "6   TOTAL LE SCORE  0.002654   Original\n",
       "7              AGE  0.009059     Cosine\n",
       "8       BIRTHPLACE  0.006488     Cosine\n",
       "9        CONDITION  0.015911     Cosine\n",
       "10       ETHNICITY  0.026670     Cosine\n",
       "11          GENDER  0.033946     Cosine\n",
       "12            RACE  0.021164     Cosine\n",
       "13  TOTAL LE SCORE  0.018873     Cosine\n",
       "14             AGE  0.008615  Euclidean\n",
       "15      BIRTHPLACE  0.006081  Euclidean\n",
       "16       CONDITION  0.011211  Euclidean\n",
       "17       ETHNICITY  0.024959  Euclidean\n",
       "18          GENDER  0.040376  Euclidean\n",
       "19            RACE  0.016392  Euclidean\n",
       "20  TOTAL LE SCORE  0.017939  Euclidean\n",
       "21             AGE  0.008403  Cityblock\n",
       "22      BIRTHPLACE  0.005658  Cityblock\n",
       "23       CONDITION  0.010629  Cityblock\n",
       "24       ETHNICITY  0.036084  Cityblock\n",
       "25          GENDER  0.034898  Cityblock\n",
       "26            RACE  0.016617  Cityblock\n",
       "27  TOTAL LE SCORE  0.018715  Cityblock"
      ]
     },
     "execution_count": 139,
     "metadata": {},
     "output_type": "execute_result"
    }
   ],
   "source": [
    "dataSource_pd"
   ]
  },
  {
   "cell_type": "code",
   "execution_count": null,
   "metadata": {},
   "outputs": [],
   "source": [
    "['컬럼', '값', '데이터 셋 종류']"
   ]
  }
 ],
 "metadata": {
  "kernelspec": {
   "display_name": "Python 3",
   "language": "python",
   "name": "python3"
  },
  "language_info": {
   "codemirror_mode": {
    "name": "ipython",
    "version": 3
   },
   "file_extension": ".py",
   "mimetype": "text/x-python",
   "name": "python",
   "nbconvert_exporter": "python",
   "pygments_lexer": "ipython3",
   "version": "3.7.1"
  }
 },
 "nbformat": 4,
 "nbformat_minor": 2
}
