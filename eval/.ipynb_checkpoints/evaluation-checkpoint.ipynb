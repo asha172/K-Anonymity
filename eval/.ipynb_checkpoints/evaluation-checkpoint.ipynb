{
 "cells": [
  {
   "cell_type": "code",
   "execution_count": 1,
   "metadata": {},
   "outputs": [],
   "source": [
    "import pandas as pd\n",
    "import csv\n",
    "import numpy as np\n",
    "from random import shuffle\n",
    "import funcs as fc\n",
    "import decimal"
   ]
  },
  {
   "cell_type": "code",
   "execution_count": 2,
   "metadata": {},
   "outputs": [],
   "source": [
    "ctx = decimal.Context()\n",
    "ctx.prec = 20\n",
    "\n",
    "def float_to_str(f):\n",
    "    \"\"\"\n",
    "    Convert the given float to a string,\n",
    "    without resorting to scientific notation\n",
    "    \"\"\"\n",
    "    d1 = ctx.create_decimal(repr(f))\n",
    "    return format(d1, 'f')\n",
    "\n",
    "def getTwoNumbersGap(num1, num2):\n",
    "    return abs(num1 - num2) + 1\n",
    "\n",
    "def getRangeGap(data):\n",
    "    maxV = max(data)\n",
    "    minV = min(data)\n",
    "    return getTwoNumbersGap(maxV, minV)\n",
    "\n",
    "def getMinMaxFromMultiD(sourceList):\n",
    "    maxValue = max(sourceList.reshape(-1))\n",
    "    minValue = min(sourceList.reshape(-1))\n",
    "    \n",
    "    return maxValue, minValue\n",
    "\n",
    "def getCategoryDiversityCNT(sourceList):\n",
    "    return len(set([j for sub in sourceList for j in sub]))"
   ]
  },
  {
   "cell_type": "code",
   "execution_count": 3,
   "metadata": {},
   "outputs": [],
   "source": [
    "def getOrgAllColumnDivertyCNT(datapath):\n",
    "    org_moned_dataset = fc.readCSV(datapath, sep='\\t')\n",
    "    print(org_moned_dataset[0])\n",
    "    org_moned_dataset = org_moned_dataset[1:]\n",
    "    \n",
    "    for dataRow in org_moned_dataset:\n",
    "        dataRow[0] = int(dataRow[0])\n",
    "        # 원본데이터 각 컬럼별 데이터 diversity count 추출\n",
    "    \n",
    "    columnsDiversityCNT = dict()\n",
    "    \n",
    "    for i, colName in enumerate(evalColNames):\n",
    "        if colName in categoricalColNames:\n",
    "            colIDX = evalColNames.index(colName)\n",
    "            columnsDiversityCNT[colIDX] = len(set([data[i] for data in org_moned_dataset]))\n",
    "        else:\n",
    "            diversityCNT = getRangeGap([float(data[i]) for data in org_moned_dataset])\n",
    "            columnsDiversityCNT[i] =diversityCNT       \n",
    "        \n",
    "        \n",
    "    return columnsDiversityCNT\n",
    "    \n",
    "\n",
    "def getCatetoryColDiversityCNT(cellData):\n",
    "    cnt = len(cellData.split(','))\n",
    "    return cnt\n",
    "\n",
    "def getNumericColDiversityCNT(cellData):\n",
    "    numericData = [float(data.strip()) for data in cellData.split('-') if data.strip()]\n",
    "    return getRangeGap(numericData)  "
   ]
  },
  {
   "cell_type": "code",
   "execution_count": 4,
   "metadata": {},
   "outputs": [],
   "source": [
    "def getLEScore(normalizedDataSet): \n",
    "        \n",
    "    eachColumnLEScoreList = list()    \n",
    "    normalizedDataSet_cols =normalizedDataSet[0]\n",
    "    print(normalizedDataSet_cols)\n",
    "    totalColNum = len(normalizedDataSet_cols)-1\n",
    "    \n",
    "    for i, colName in enumerate(normalizedDataSet_cols):\n",
    "        if colName not in evalColNames: continue\n",
    "            \n",
    "        colDataSet = [data[i] for data in normalizedDataSet[1:]]\n",
    "        isCategoriCol = colName in categoricalColNames\n",
    "        colDiversityCNT  = evalColDirvertyDIC[evalColNames.index(colName)]   \n",
    "        \n",
    "        colLEScoreList = list()  \n",
    "        for i, cellData in enumerate(colDataSet):\n",
    "            if isCategoriCol:\n",
    "                cellDiversityCNT = getCatetoryColDiversityCNT(cellData)\n",
    "                \n",
    "            else:\n",
    "                try:\n",
    "                    cellDiversityCNT = getNumericColDiversityCNT(cellData)\n",
    "                except:\n",
    "                    print(i, cellData)\n",
    "                    print(colName)\n",
    "                    break\n",
    "                \n",
    "            \n",
    "            \n",
    "            colLEScoreList.append(abs(cellDiversityCNT-1)/abs(colDiversityCNT-1))\n",
    "            \n",
    "        colLEScore = sum(colLEScoreList) / len(colDataSet)\n",
    "        print(colName ,\"sum :\", sum(colLEScoreList))\n",
    "        print(colName ,\"len :\", len(colDataSet))\n",
    "        print(colName ,\"colLEScore :\", colLEScore)\n",
    "        print('')\n",
    "        eachColumnLEScoreList.append(colLEScore)\n",
    "        \n",
    "    leScore = sum(eachColumnLEScoreList)/totalColNum \n",
    "    leScore = round(leScore, 7)\n",
    "    print(\"totla LE SCORE :\", leScore)\n",
    "    \n",
    "    return leScore"
   ]
  },
  {
   "cell_type": "markdown",
   "metadata": {},
   "source": [
    "#### CONST VARs"
   ]
  },
  {
   "cell_type": "code",
   "execution_count": 5,
   "metadata": {},
   "outputs": [],
   "source": [
    "evalColNames = ['AGE', 'RACE', 'ETHNICITY', 'GENDER', 'BIRTHPLACE', 'CONDITION']\n",
    "categoricalColNames = ['RACE',  'ETHNICITY', 'GENDER', 'BIRTHPLACE', 'CONDITION']\n",
    "originalDataSet_Path = './data/finalPatientDataSet_20.csv'\n",
    "\n",
    "recover_bert_cityblock_path = 'recover_bert_cityblock.csv'"
   ]
  },
  {
   "cell_type": "code",
   "execution_count": 6,
   "metadata": {},
   "outputs": [],
   "source": [
    "origin_dataset = fc.readCSV(originalDataSet_Path, sep='\\t')"
   ]
  },
  {
   "cell_type": "code",
   "execution_count": 7,
   "metadata": {},
   "outputs": [
    {
     "name": "stdout",
     "output_type": "stream",
     "text": [
      "224886\n"
     ]
    }
   ],
   "source": [
    "print(len(origin_dataset))"
   ]
  },
  {
   "cell_type": "code",
   "execution_count": 8,
   "metadata": {},
   "outputs": [
    {
     "data": {
      "text/plain": [
       "134"
      ]
     },
     "execution_count": 8,
     "metadata": {},
     "output_type": "execute_result"
    }
   ],
   "source": [
    "len(set([data[-2] for data in origin_dataset]))"
   ]
  },
  {
   "cell_type": "code",
   "execution_count": 9,
   "metadata": {},
   "outputs": [
    {
     "data": {
      "text/plain": [
       "29740"
      ]
     },
     "execution_count": 9,
     "metadata": {},
     "output_type": "execute_result"
    }
   ],
   "source": [
    "deathData = [data for data in origin_dataset if data[-1] == '1']\n",
    "len(deathData)"
   ]
  },
  {
   "cell_type": "code",
   "execution_count": null,
   "metadata": {},
   "outputs": [],
   "source": [
    "freqDict = dict()\n",
    "for data in deathData:\n",
    "    if data[-2] not in freqDict:\n",
    "        freqDict[data[-2]] = 0\n",
    "    freqDict[data[-2]] += 1\n",
    "    \n",
    "sorted(freqDict.items(), key=lambda x:x[1], reverse = True)"
   ]
  },
  {
   "cell_type": "markdown",
   "metadata": {},
   "source": [
    "> Datasets"
   ]
  },
  {
   "cell_type": "markdown",
   "metadata": {},
   "source": [
    "#### Origin Code Test"
   ]
  },
  {
   "cell_type": "code",
   "execution_count": 23,
   "metadata": {},
   "outputs": [],
   "source": [
    "org_moned_dataset = fc.readCSV('./normalized/recover_origin_wc.csv', sep='\\t')"
   ]
  },
  {
   "cell_type": "code",
   "execution_count": 11,
   "metadata": {},
   "outputs": [
    {
     "name": "stdout",
     "output_type": "stream",
     "text": [
      "['AGE', 'RACE', 'ETHNICITY', 'GENDER', 'BIRTHPLACE', 'CONDITIOIN', 'DEATH']\n"
     ]
    },
    {
     "data": {
      "text/plain": [
       "{0: 111.0, 1: 6, 2: 24, 3: 2, 4: 27, 5: 133}"
      ]
     },
     "execution_count": 11,
     "metadata": {},
     "output_type": "execute_result"
    }
   ],
   "source": [
    "evalColDirvertyDIC = getOrgAllColumnDivertyCNT(originalDataSet_Path)\n",
    "evalColDirvertyDIC"
   ]
  },
  {
   "cell_type": "markdown",
   "metadata": {},
   "source": [
    "#### Measure recover_bert_wc_cosine LM Score"
   ]
  },
  {
   "cell_type": "code",
   "execution_count": 24,
   "metadata": {},
   "outputs": [
    {
     "name": "stdout",
     "output_type": "stream",
     "text": [
      "146470\n",
      "[['AGE', 'BIRTHPLACE', 'CONDITION', 'DEATH', 'ETHNICITY', 'GENDER', 'RACE'], ['1-16', 'FR', 'Otitis media,Sprain of ankle', '0', 'french', 'FEMALE', 'white'], ['1-16', 'FR', 'Otitis media,Sprain of ankle', '0', 'french', 'FEMALE', 'white'], ['1-16', 'FR', 'Otitis media,Sprain of ankle', '0', 'french', 'FEMALE', 'white'], ['1-16', 'FR', 'Otitis media,Sprain of ankle', '0', 'french', 'FEMALE', 'white'], ['3-6', 'FR', 'Acute bronchitis (disorder),Streptococcal sore throat (disorder),Acute viral pharyngitis (disorder)', '0', 'french', 'FEMALE', 'white'], ['3-6', 'FR', 'Acute bronchitis (disorder),Streptococcal sore throat (disorder),Acute viral pharyngitis (disorder)', '0', 'french', 'FEMALE', 'white'], ['3-6', 'FR', 'Acute bronchitis (disorder),Streptococcal sore throat (disorder),Acute viral pharyngitis (disorder)', '0', 'french', 'FEMALE', 'white'], ['3-6', 'FR', 'Acute bronchitis (disorder),Streptococcal sore throat (disorder),Acute viral pharyngitis (disorder)', '0', 'french', 'FEMALE', 'white'], ['14-16', 'FR', 'Acute viral pharyngitis (disorder),Viral sinusitis (disorder),Streptococcal sore throat (disorder)', '0', 'french', 'FEMALE', 'white']]\n"
     ]
    }
   ],
   "source": [
    "bert_wc_cosine_dataset = fc.readCSV('./normalized/recover_bert_wc_cosine.csv', sep='\\t')\n",
    "print(len(bert_wc_cosine_dataset))\n",
    "print(bert_wc_cosine_dataset[0:10])"
   ]
  },
  {
   "cell_type": "code",
   "execution_count": 25,
   "metadata": {},
   "outputs": [
    {
     "name": "stdout",
     "output_type": "stream",
     "text": [
      "['AGE', 'BIRTHPLACE', 'CONDITION', 'DEATH', 'ETHNICITY', 'GENDER', 'RACE']\n",
      "AGE sum : 1311.190909090122\n",
      "AGE len : 146469\n",
      "AGE colLEScore : 0.008952002874943653\n",
      "\n",
      "BIRTHPLACE sum : 988.0769230770715\n",
      "BIRTHPLACE len : 146469\n",
      "BIRTHPLACE colLEScore : 0.00674597985291817\n",
      "\n",
      "CONDITION sum : 1659.9772727260759\n",
      "CONDITION len : 146469\n",
      "CONDITION colLEScore : 0.011333301058422436\n",
      "\n",
      "ETHNICITY sum : 3487.782608693867\n",
      "ETHNICITY len : 146469\n",
      "ETHNICITY colLEScore : 0.023812428627858914\n",
      "\n",
      "GENDER sum : 6108.0\n",
      "GENDER len : 146469\n",
      "GENDER colLEScore : 0.041701657005919344\n",
      "\n",
      "RACE sum : 3076.399999999393\n",
      "RACE len : 146469\n",
      "RACE colLEScore : 0.021003761888176972\n",
      "\n",
      "totla LE SCORE : 0.0189249\n"
     ]
    }
   ],
   "source": [
    "leScore = getLEScore(bert_wc_cosine_dataset)\n"
   ]
  },
  {
   "cell_type": "code",
   "execution_count": 15,
   "metadata": {},
   "outputs": [
    {
     "name": "stdout",
     "output_type": "stream",
     "text": [
      "207383\n"
     ]
    }
   ],
   "source": [
    "berted_dataset_bert = fc.readCSV('./normalized/recover_bert_wc.csv', sep='\\t')\n",
    "print(len(berted_dataset_bert))"
   ]
  },
  {
   "cell_type": "code",
   "execution_count": 16,
   "metadata": {},
   "outputs": [
    {
     "name": "stdout",
     "output_type": "stream",
     "text": [
      "['AGE', 'BIRTHPLACE', 'CONDITION', 'DEATH', 'ETHNICITY', 'GENDER', 'RACE']\n",
      "AGE sum : 0.0\n",
      "AGE len : 207382\n",
      "AGE colLEScore : 0.0\n",
      "\n",
      "BIRTHPLACE sum : 994.423076923261\n",
      "BIRTHPLACE len : 207382\n",
      "BIRTHPLACE colLEScore : 0.004795127238252409\n",
      "\n",
      "CONDITION sum : 3319.9393939481024\n",
      "CONDITION len : 207382\n",
      "CONDITION colLEScore : 0.016008811728829418\n",
      "\n",
      "ETHNICITY sum : 4764.043478263068\n",
      "ETHNICITY len : 207382\n",
      "ETHNICITY colLEScore : 0.022972309449533074\n",
      "\n",
      "GENDER sum : 0.0\n",
      "GENDER len : 207382\n",
      "GENDER colLEScore : 0.0\n",
      "\n",
      "RACE sum : 2245.4000000000924\n",
      "RACE len : 207382\n",
      "RACE colLEScore : 0.010827362066139263\n",
      "\n",
      "totla LE SCORE : 0.0091006\n"
     ]
    },
    {
     "data": {
      "text/plain": [
       "'0.0091006'"
      ]
     },
     "execution_count": 16,
     "metadata": {},
     "output_type": "execute_result"
    }
   ],
   "source": [
    "leScor2 = getLEScore(berted_dataset_bert)\n",
    "float_to_str(leScor2)"
   ]
  },
  {
   "cell_type": "markdown",
   "metadata": {},
   "source": [
    "#### Test Code"
   ]
  },
  {
   "cell_type": "code",
   "execution_count": null,
   "metadata": {},
   "outputs": [],
   "source": []
  },
  {
   "cell_type": "code",
   "execution_count": null,
   "metadata": {},
   "outputs": [],
   "source": []
  }
 ],
 "metadata": {
  "kernelspec": {
   "display_name": "Python 3",
   "language": "python",
   "name": "python3"
  },
  "language_info": {
   "codemirror_mode": {
    "name": "ipython",
    "version": 3
   },
   "file_extension": ".py",
   "mimetype": "text/x-python",
   "name": "python",
   "nbconvert_exporter": "python",
   "pygments_lexer": "ipython3",
   "version": "3.6.7"
  }
 },
 "nbformat": 4,
 "nbformat_minor": 2
}
