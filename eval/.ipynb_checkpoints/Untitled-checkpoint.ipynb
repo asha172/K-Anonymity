{
 "cells": [
  {
   "cell_type": "code",
   "execution_count": 21,
   "metadata": {},
   "outputs": [],
   "source": [
    "import sys\n",
    "import pandas as pd\n",
    "from math import*\n",
    "from decimal import Decimal\n",
    "import numpy as np\n",
    "import csv\n",
    "import similarityfuns as sim\n",
    "from similarityfuns import Similarities"
   ]
  },
  {
   "cell_type": "code",
   "execution_count": 22,
   "metadata": {},
   "outputs": [],
   "source": [
    "originalSourcePath = \"finalConditionInfo.csv\"\n",
    "bertedConditions = \"bert_condition.csv\""
   ]
  },
  {
   "cell_type": "code",
   "execution_count": 23,
   "metadata": {},
   "outputs": [],
   "source": [
    "def readcsv(sourcePath, seperator=','):\n",
    "    result = list()\n",
    "    with open(sourcePath) as csv_file:\n",
    "        csv_reader = csv.reader(csv_file, delimiter=',')\n",
    "        line_count = 0\n",
    "        for row in csv_reader:\n",
    "            result.append(row)\n",
    "            \n",
    "    return result"
   ]
  },
  {
   "cell_type": "markdown",
   "metadata": {},
   "source": [
    "### read origianl csv"
   ]
  },
  {
   "cell_type": "code",
   "execution_count": 24,
   "metadata": {},
   "outputs": [
    {
     "data": {
      "text/plain": [
       "[['1',\n",
       "  '1923-05-01',\n",
       "  'MALE',\n",
       "  'White',\n",
       "  'Not Hispanic or Latino',\n",
       "  'Subchronic catatonic schizophrenia',\n",
       "  '0'],\n",
       " ['2',\n",
       "  '1943-01-01',\n",
       "  'MALE',\n",
       "  'White',\n",
       "  'Not Hispanic or Latino',\n",
       "  'End-stage renal disease',\n",
       "  '0'],\n",
       " ['3',\n",
       "  '1936-09-01',\n",
       "  'FEMALE',\n",
       "  'White',\n",
       "  'Not Hispanic or Latino',\n",
       "  'Pure hypercholesterolemia',\n",
       "  '0']]"
      ]
     },
     "execution_count": 24,
     "metadata": {},
     "output_type": "execute_result"
    }
   ],
   "source": [
    "origSourceList = readcsv(originalSourcePath)[1:]\n",
    "origSourceList[0:3]"
   ]
  },
  {
   "cell_type": "markdown",
   "metadata": {},
   "source": [
    "### read berted condtion List"
   ]
  },
  {
   "cell_type": "code",
   "execution_count": 25,
   "metadata": {},
   "outputs": [],
   "source": [
    "bertedConditionList = readcsv(bertedConditions)\n",
    "bertedConditionDict = {data[0]:[float(data) for data in data[1:]] for data in bertedConditionList[1:] }"
   ]
  },
  {
   "cell_type": "code",
   "execution_count": 26,
   "metadata": {},
   "outputs": [],
   "source": [
    "# for data in bertedConditionList[:]:\n",
    "#     float(data[1])"
   ]
  },
  {
   "cell_type": "markdown",
   "metadata": {},
   "source": [
    "#### 진단명 빈도수  추출"
   ]
  },
  {
   "cell_type": "code",
   "execution_count": 27,
   "metadata": {},
   "outputs": [
    {
     "data": {
      "text/plain": [
       "[('Type 2 diabetes mellitus', 2059),\n",
       " ('Pure hypercholesterolemia', 1471),\n",
       " ('Chest pain', 1432),\n",
       " ('Atrial fibrillation', 1141),\n",
       " ('Malaise and fatigue', 779),\n",
       " ('Hypothyroidism', 733),\n",
       " ('Conduction disorder of the heart', 633),\n",
       " ('Precordial pain', 603),\n",
       " ('Anemia', 581),\n",
       " ('Dyspnea', 561),\n",
       " ('Coronary arteriosclerosis in native artery', 545),\n",
       " ('Coronary arteriosclerosis', 544),\n",
       " ('Secondary diabetes mellitus', 524),\n",
       " ('Premature beats', 515),\n",
       " ('Localized osteoarthrosis uncertain if primary OR secondary', 491),\n",
       " ('Congestive heart failure', 486),\n",
       " ('Urinary tract infectious disease', 449),\n",
       " ('No matching concept', 418),\n",
       " ('Osteoporosis', 406),\n",
       " ('Arthropathy', 405)]"
      ]
     },
     "execution_count": 27,
     "metadata": {},
     "output_type": "execute_result"
    }
   ],
   "source": [
    "cond_freqDict = dict()\n",
    "\n",
    "for con in [data[5] for data in origSourceList]:\n",
    "    if con not in cond_freqDict:\n",
    "        cond_freqDict[con] = 0    \n",
    "    cond_freqDict[con] += 1\n",
    "    \n",
    "cond_freqDict = {key:value for key,value in sorted(cond_freqDict.items(), key=lambda x:x[1], reverse=True) }\n",
    "list(cond_freqDict.items())[:20]"
   ]
  },
  {
   "cell_type": "markdown",
   "metadata": {},
   "source": [
    "#### 사망기준 진단명 빈도수 추출"
   ]
  },
  {
   "cell_type": "code",
   "execution_count": 28,
   "metadata": {},
   "outputs": [
    {
     "data": {
      "text/plain": [
       "[('Type 2 diabetes mellitus', 96),\n",
       " ('Chest pain', 70),\n",
       " ('Pure hypercholesterolemia', 65),\n",
       " ('Malaise and fatigue', 43),\n",
       " ('Atrial fibrillation', 40),\n",
       " ('Precordial pain', 32),\n",
       " ('Coronary arteriosclerosis', 28),\n",
       " ('Hypothyroidism', 25),\n",
       " ('Coronary arteriosclerosis in native artery', 24),\n",
       " ('Urinary tract infectious disease', 21),\n",
       " ('Dyspnea', 21),\n",
       " ('Conduction disorder of the heart', 21),\n",
       " ('Anemia', 20),\n",
       " ('Localized osteoarthrosis uncertain if primary OR secondary', 20),\n",
       " ('Pain in limb', 20),\n",
       " ('Secondary diabetes mellitus', 19),\n",
       " ('Arthropathy', 18),\n",
       " ('Chronic ischemic heart disease', 18),\n",
       " ('Abdominal pain', 17),\n",
       " ('Type 1 diabetes mellitus', 17)]"
      ]
     },
     "execution_count": 28,
     "metadata": {},
     "output_type": "execute_result"
    }
   ],
   "source": [
    "deathCond_freq_dict = dict()\n",
    "\n",
    "for con in [data[5] for data in origSourceList if data[6] == '1']:\n",
    "    if con not in deathCond_freq_dict:\n",
    "        deathCond_freq_dict[con] = 0    \n",
    "    deathCond_freq_dict[con] += 1\n",
    "    \n",
    "deathCond_freq_dict = {key:value for key,value in sorted(deathCond_freq_dict.items(), key=lambda x:x[1], reverse=True) }\n",
    "list(deathCond_freq_dict.items())[:20]"
   ]
  },
  {
   "cell_type": "code",
   "execution_count": 29,
   "metadata": {},
   "outputs": [
    {
     "name": "stdout",
     "output_type": "stream",
     "text": [
      "평균값 :  17.95515041020966\n",
      "표준편차 :  59.00406327957949\n",
      "중위 :  5.0\n",
      "1사분위 :  2.0\n",
      "3사분위 :  16.0\n"
     ]
    }
   ],
   "source": [
    "conditionfreqCountList = list(cond_freqDict.values())\n",
    "print(\"평균값 : \", np.mean(conditionfreqCountList))\n",
    "print(\"표준편차 : \", np.std(conditionfreqCountList))\n",
    "print(\"중위 : \", np.median(conditionfreqCountList))\n",
    "print(\"1사분위 : \", np.percentile(conditionfreqCountList,25))\n",
    "print(\"3사분위 : \", np.percentile(conditionfreqCountList,75))"
   ]
  },
  {
   "cell_type": "code",
   "execution_count": 19,
   "metadata": {},
   "outputs": [
    {
     "ename": "SyntaxError",
     "evalue": "invalid syntax (<ipython-input-19-d7cde8473fa5>, line 1)",
     "output_type": "error",
     "traceback": [
      "\u001b[0;36m  File \u001b[0;32m\"<ipython-input-19-d7cde8473fa5>\"\u001b[0;36m, line \u001b[0;32m1\u001b[0m\n\u001b[0;31m    freqCountBasedDeath =\u001b[0m\n\u001b[0m                          ^\u001b[0m\n\u001b[0;31mSyntaxError\u001b[0m\u001b[0;31m:\u001b[0m invalid syntax\n"
     ]
    }
   ],
   "source": [
    "freqCountBasedDeath = "
   ]
  },
  {
   "cell_type": "code",
   "execution_count": 20,
   "metadata": {},
   "outputs": [
    {
     "ename": "NameError",
     "evalue": "name 'freqCountDict' is not defined",
     "output_type": "error",
     "traceback": [
      "\u001b[0;31m---------------------------------------------------------------------------\u001b[0m",
      "\u001b[0;31mNameError\u001b[0m                                 Traceback (most recent call last)",
      "\u001b[0;32m<ipython-input-20-c662af15e9f5>\u001b[0m in \u001b[0;36m<module>\u001b[0;34m()\u001b[0m\n\u001b[0;32m----> 1\u001b[0;31m \u001b[0;34m[\u001b[0m\u001b[0mdata\u001b[0m \u001b[0;32mfor\u001b[0m \u001b[0mdata\u001b[0m \u001b[0;32min\u001b[0m \u001b[0mlist\u001b[0m\u001b[0;34m(\u001b[0m\u001b[0mfreqCountDict\u001b[0m\u001b[0;34m.\u001b[0m\u001b[0mitems\u001b[0m\u001b[0;34m(\u001b[0m\u001b[0;34m)\u001b[0m\u001b[0;34m)\u001b[0m \u001b[0;32mif\u001b[0m \u001b[0mdata\u001b[0m\u001b[0;34m[\u001b[0m\u001b[0;36m1\u001b[0m\u001b[0;34m]\u001b[0m \u001b[0;34m==\u001b[0m \u001b[0;36m59\u001b[0m\u001b[0;34m]\u001b[0m\u001b[0;34m\u001b[0m\u001b[0;34m\u001b[0m\u001b[0m\n\u001b[0m",
      "\u001b[0;31mNameError\u001b[0m: name 'freqCountDict' is not defined"
     ]
    }
   ],
   "source": [
    "[data for data in list(freqCountDict.items()) if data[1] == 59]"
   ]
  },
  {
   "cell_type": "markdown",
   "metadata": {},
   "source": [
    "## *유사도 계산"
   ]
  },
  {
   "cell_type": "markdown",
   "metadata": {},
   "source": [
    "> cosine similarity"
   ]
  },
  {
   "cell_type": "code",
   "execution_count": 31,
   "metadata": {},
   "outputs": [
    {
     "name": "stdout",
     "output_type": "stream",
     "text": [
      "source condition : Type 2 diabetes mellitus \n",
      "\n",
      "==== cosine_similarity(close to 1) ====\n"
     ]
    },
    {
     "ename": "KeyError",
     "evalue": "'end-stage renal disease'",
     "output_type": "error",
     "traceback": [
      "\u001b[0;31m---------------------------------------------------------------------------\u001b[0m",
      "\u001b[0;31mKeyError\u001b[0m                                  Traceback (most recent call last)",
      "\u001b[0;32m<ipython-input-31-2418077499a6>\u001b[0m in \u001b[0;36m<module>\u001b[0;34m()\u001b[0m\n\u001b[1;32m     57\u001b[0m \u001b[0mconditionName\u001b[0m \u001b[0;34m=\u001b[0m \u001b[0;34m'Type 2 diabetes mellitus'\u001b[0m\u001b[0;34m\u001b[0m\u001b[0;34m\u001b[0m\u001b[0m\n\u001b[1;32m     58\u001b[0m \u001b[0mprint\u001b[0m\u001b[0;34m(\u001b[0m\u001b[0;34m\"source condition :\"\u001b[0m\u001b[0;34m,\u001b[0m \u001b[0mconditionName\u001b[0m\u001b[0;34m,\u001b[0m \u001b[0;34m'\\n'\u001b[0m\u001b[0;34m)\u001b[0m\u001b[0;34m\u001b[0m\u001b[0;34m\u001b[0m\u001b[0m\n\u001b[0;32m---> 59\u001b[0;31m \u001b[0mgetSimilarity\u001b[0m\u001b[0;34m(\u001b[0m\u001b[0mconditionName\u001b[0m\u001b[0;34m,\u001b[0m \u001b[0mSimilarities\u001b[0m\u001b[0;34m.\u001b[0m\u001b[0mCosine\u001b[0m\u001b[0;34m)\u001b[0m\u001b[0;34m\u001b[0m\u001b[0;34m\u001b[0m\u001b[0m\n\u001b[0m\u001b[1;32m     60\u001b[0m \u001b[0mprint\u001b[0m\u001b[0;34m(\u001b[0m\u001b[0;34m\"\"\u001b[0m\u001b[0;34m)\u001b[0m\u001b[0;34m\u001b[0m\u001b[0;34m\u001b[0m\u001b[0m\n\u001b[1;32m     61\u001b[0m \u001b[0mgetSimilarity\u001b[0m\u001b[0;34m(\u001b[0m\u001b[0mconditionName\u001b[0m\u001b[0;34m,\u001b[0m \u001b[0mSimilarities\u001b[0m\u001b[0;34m.\u001b[0m\u001b[0mManhattan\u001b[0m\u001b[0;34m)\u001b[0m\u001b[0;34m\u001b[0m\u001b[0;34m\u001b[0m\u001b[0m\n",
      "\u001b[0;32m<ipython-input-31-2418077499a6>\u001b[0m in \u001b[0;36mgetSimilarity\u001b[0;34m(conditionName, method)\u001b[0m\n\u001b[1;32m     40\u001b[0m     \u001b[0mresultTuple\u001b[0m \u001b[0;34m=\u001b[0m \u001b[0mlist\u001b[0m\u001b[0;34m(\u001b[0m\u001b[0;34m)\u001b[0m\u001b[0;34m\u001b[0m\u001b[0;34m\u001b[0m\u001b[0m\n\u001b[1;32m     41\u001b[0m     \u001b[0;32mfor\u001b[0m \u001b[0mdestCon\u001b[0m\u001b[0;34m,\u001b[0m \u001b[0m_\u001b[0m \u001b[0;32min\u001b[0m \u001b[0mlist\u001b[0m\u001b[0;34m(\u001b[0m\u001b[0mcond_freqDict\u001b[0m\u001b[0;34m.\u001b[0m\u001b[0mitems\u001b[0m\u001b[0;34m(\u001b[0m\u001b[0;34m)\u001b[0m\u001b[0;34m)\u001b[0m\u001b[0;34m[\u001b[0m\u001b[0;36m1\u001b[0m\u001b[0;34m:\u001b[0m\u001b[0;36m1000\u001b[0m\u001b[0;34m]\u001b[0m\u001b[0;34m:\u001b[0m\u001b[0;34m\u001b[0m\u001b[0;34m\u001b[0m\u001b[0m\n\u001b[0;32m---> 42\u001b[0;31m         \u001b[0mdestVector\u001b[0m \u001b[0;34m=\u001b[0m \u001b[0mbertedConditionDict\u001b[0m\u001b[0;34m[\u001b[0m\u001b[0mdestCon\u001b[0m\u001b[0;34m.\u001b[0m\u001b[0mlower\u001b[0m\u001b[0;34m(\u001b[0m\u001b[0;34m)\u001b[0m\u001b[0;34m]\u001b[0m\u001b[0;34m\u001b[0m\u001b[0;34m\u001b[0m\u001b[0m\n\u001b[0m\u001b[1;32m     43\u001b[0m         \u001b[0;32mif\u001b[0m \u001b[0mmethod\u001b[0m \u001b[0;34m==\u001b[0m \u001b[0mSimilarities\u001b[0m\u001b[0;34m.\u001b[0m\u001b[0mMinkowski\u001b[0m\u001b[0;34m:\u001b[0m\u001b[0;34m\u001b[0m\u001b[0;34m\u001b[0m\u001b[0m\n\u001b[1;32m     44\u001b[0m             \u001b[0msimValue\u001b[0m \u001b[0;34m=\u001b[0m \u001b[0mdelgmethod\u001b[0m\u001b[0;34m(\u001b[0m\u001b[0msourceVector\u001b[0m\u001b[0;34m,\u001b[0m \u001b[0mdestVector\u001b[0m\u001b[0;34m,\u001b[0m \u001b[0;36m2\u001b[0m\u001b[0;34m)\u001b[0m\u001b[0;34m\u001b[0m\u001b[0;34m\u001b[0m\u001b[0m\n",
      "\u001b[0;31mKeyError\u001b[0m: 'end-stage renal disease'"
     ]
    }
   ],
   "source": [
    "# for sourceCon, _ in list(freqCountDict.items())[0:1]:\n",
    "### method : man->manhattan_distance, 'min' -> minkowski_distance, cos -> cosine_similarity\n",
    "\n",
    "def getSimilarityOperation(method:sim.Similarities):\n",
    "    delgmethod = None\n",
    "    sortReverse = True\n",
    "    \n",
    "    if method == Similarities.Cosine:\n",
    "        delgmethod = sim.cosine_similarity        \n",
    "        sortReverse = True\n",
    "        print(\"==== cosine_similarity(close to 1) ====\")\n",
    "        \n",
    "    elif method == Similarities.Manhattan:\n",
    "        delgmethod = sim.manhattan_distance        \n",
    "        sortReverse = False\n",
    "        print(\"==== manhattan_distance(close to 0) ====\")\n",
    "        \n",
    "    elif method == Similarities.Minkowski:\n",
    "        delgmethod = sim.minkowski_distance        \n",
    "        sortReverse = False\n",
    "        print(\"==== minkowski_distance(close to 0) ====\")\n",
    "        \n",
    "    else:        \n",
    "        delgmethod = sim.cosine_similarity\n",
    "        sortReverse = False\n",
    "        print(\"==== cosine_similarity(close to 1) ====\")\n",
    "        \n",
    "    return delgmethod, sortReverse\n",
    "\n",
    "def getSimilarity(conditionName, method):   \n",
    "\n",
    "    delgmethod, sortReverse = getSimilarityOperation(method)\n",
    "    \n",
    "    if conditionName.lower() not in bertedConditionDict: \n",
    "        print('error')\n",
    "        return\n",
    "    \n",
    "    sourceVector = bertedConditionDict[conditionName.lower()]\n",
    "\n",
    "    resultTuple = list()\n",
    "    for destCon, _ in list(cond_freqDict.items())[1:1000]:\n",
    "        destVector = bertedConditionDict[destCon.lower()]\n",
    "        if method == Similarities.Minkowski:\n",
    "            simValue = delgmethod(sourceVector, destVector, 2)\n",
    "        else:\n",
    "            simValue = delgmethod(sourceVector, destVector)\n",
    "        \n",
    "        resultTuple.append([destCon, simValue])\n",
    "        \n",
    "    resultTuple = sorted(resultTuple, key=lambda x:x[1], reverse=sortReverse)\n",
    "    \n",
    "    for data in resultTuple:\n",
    "        print(data[0],\":\",data[1])\n",
    "        \n",
    "#     return resultTuple\n",
    "\n",
    "conditionName = 'Type 2 diabetes mellitus'\n",
    "print(\"source condition :\", conditionName, '\\n')\n",
    "getSimilarity(conditionName, Similarities.Cosine)  \n",
    "print(\"\")\n",
    "getSimilarity(conditionName, Similarities.Manhattan)  \n",
    "print(\"\")\n",
    "getSimilarity(conditionName, Similarities.Minkowski)  "
   ]
  },
  {
   "cell_type": "markdown",
   "metadata": {},
   "source": [
    "> Manhattan Distance"
   ]
  },
  {
   "cell_type": "code",
   "execution_count": 12,
   "metadata": {},
   "outputs": [],
   "source": [
    "def square_rooted(x): \n",
    "    return round(sqrt(sum([a*a for a in x])),3)\n",
    "\n",
    "def cosine_similarity(x,y): \n",
    "    numerator = sum(a*b for a,b in zip(x,y))\n",
    "    denominator = square_rooted(x)*square_rooted(y)\n",
    "    return round(numerator/float(denominator),3)\n",
    "# x = [12,1,3]\n",
    "# y = [9,2,4]\n",
    "# numerator = sum(a*b for a,b in zip(x,y))\n",
    "# denominator = square_rooted(x)*square_rooted(y)\n",
    "# return round(numerator/float(denominator),3)"
   ]
  },
  {
   "cell_type": "markdown",
   "metadata": {},
   "source": [
    "> Minkowski Distance"
   ]
  },
  {
   "cell_type": "code",
   "execution_count": 13,
   "metadata": {},
   "outputs": [],
   "source": [
    "from scipy.spatial import distance"
   ]
  },
  {
   "cell_type": "code",
   "execution_count": 14,
   "metadata": {},
   "outputs": [
    {
     "ename": "SyntaxError",
     "evalue": "invalid syntax (<ipython-input-14-77210be14109>, line 1)",
     "output_type": "error",
     "traceback": [
      "\u001b[0;36m  File \u001b[0;32m\"<ipython-input-14-77210be14109>\"\u001b[0;36m, line \u001b[0;32m1\u001b[0m\n\u001b[0;31m    distance.\u001b[0m\n\u001b[0m             ^\u001b[0m\n\u001b[0;31mSyntaxError\u001b[0m\u001b[0;31m:\u001b[0m invalid syntax\n"
     ]
    }
   ],
   "source": [
    "distance."
   ]
  },
  {
   "cell_type": "code",
   "execution_count": 15,
   "metadata": {},
   "outputs": [
    {
     "ename": "TypeError",
     "evalue": "zip argument #1 must support iteration",
     "output_type": "error",
     "traceback": [
      "\u001b[0;31m---------------------------------------------------------------------------\u001b[0m",
      "\u001b[0;31mTypeError\u001b[0m                                 Traceback (most recent call last)",
      "\u001b[0;32m<ipython-input-15-9f7979ce4079>\u001b[0m in \u001b[0;36m<module>\u001b[0;34m()\u001b[0m\n\u001b[0;32m----> 1\u001b[0;31m \u001b[0msim\u001b[0m\u001b[0;34m.\u001b[0m\u001b[0mcosine_similarity\u001b[0m\u001b[0;34m(\u001b[0m\u001b[0;36m3\u001b[0m\u001b[0;34m,\u001b[0m \u001b[0;36m2\u001b[0m\u001b[0;34m)\u001b[0m\u001b[0;34m\u001b[0m\u001b[0;34m\u001b[0m\u001b[0m\n\u001b[0m",
      "\u001b[0;32m~/Work/kanonymity/similarityfuns.py\u001b[0m in \u001b[0;36mcosine_similarity\u001b[0;34m(x, y)\u001b[0m\n\u001b[1;32m     31\u001b[0m \u001b[0;31m### Cosine Similarity\u001b[0m\u001b[0;34m\u001b[0m\u001b[0;34m\u001b[0m\u001b[0;34m\u001b[0m\u001b[0m\n\u001b[1;32m     32\u001b[0m \u001b[0;32mdef\u001b[0m \u001b[0mcosine_similarity\u001b[0m\u001b[0;34m(\u001b[0m\u001b[0mx\u001b[0m\u001b[0;34m,\u001b[0m\u001b[0my\u001b[0m\u001b[0;34m)\u001b[0m\u001b[0;34m:\u001b[0m\u001b[0;34m\u001b[0m\u001b[0;34m\u001b[0m\u001b[0m\n\u001b[0;32m---> 33\u001b[0;31m     \u001b[0mnumerator\u001b[0m \u001b[0;34m=\u001b[0m \u001b[0msum\u001b[0m\u001b[0;34m(\u001b[0m\u001b[0ma\u001b[0m\u001b[0;34m*\u001b[0m\u001b[0mb\u001b[0m \u001b[0;32mfor\u001b[0m \u001b[0ma\u001b[0m\u001b[0;34m,\u001b[0m\u001b[0mb\u001b[0m \u001b[0;32min\u001b[0m \u001b[0mzip\u001b[0m\u001b[0;34m(\u001b[0m\u001b[0mx\u001b[0m\u001b[0;34m,\u001b[0m\u001b[0my\u001b[0m\u001b[0;34m)\u001b[0m\u001b[0;34m)\u001b[0m\u001b[0;34m\u001b[0m\u001b[0;34m\u001b[0m\u001b[0m\n\u001b[0m\u001b[1;32m     34\u001b[0m     \u001b[0mdenominator\u001b[0m \u001b[0;34m=\u001b[0m \u001b[0msquare_rooted\u001b[0m\u001b[0;34m(\u001b[0m\u001b[0mx\u001b[0m\u001b[0;34m)\u001b[0m\u001b[0;34m*\u001b[0m\u001b[0msquare_rooted\u001b[0m\u001b[0;34m(\u001b[0m\u001b[0my\u001b[0m\u001b[0;34m)\u001b[0m\u001b[0;34m\u001b[0m\u001b[0;34m\u001b[0m\u001b[0m\n\u001b[1;32m     35\u001b[0m     \u001b[0;32mreturn\u001b[0m \u001b[0mround\u001b[0m\u001b[0;34m(\u001b[0m\u001b[0mnumerator\u001b[0m\u001b[0;34m/\u001b[0m\u001b[0mfloat\u001b[0m\u001b[0;34m(\u001b[0m\u001b[0mdenominator\u001b[0m\u001b[0;34m)\u001b[0m\u001b[0;34m,\u001b[0m\u001b[0;36m3\u001b[0m\u001b[0;34m)\u001b[0m\u001b[0;34m\u001b[0m\u001b[0;34m\u001b[0m\u001b[0m\n",
      "\u001b[0;31mTypeError\u001b[0m: zip argument #1 must support iteration"
     ]
    }
   ],
   "source": [
    "sim.cosine_similarity(3, 2)"
   ]
  },
  {
   "cell_type": "code",
   "execution_count": 16,
   "metadata": {},
   "outputs": [
    {
     "name": "stdout",
     "output_type": "stream",
     "text": [
      "1.0\n",
      "99.000\n",
      "0\n"
     ]
    }
   ],
   "source": [
    "# print(minkowski_distance([1,1,1,1],[1,1,1,1],4))\n",
    "print(sim.cosine_similarity([1,1,1], [1,1,1]))\n",
    "print(sim.minkowski_distance([1,100,1], [1,1,0.5],4))\n",
    "print(sim.manhattan_distance([1,1,1], [1,1,1]))"
   ]
  },
  {
   "cell_type": "code",
   "execution_count": null,
   "metadata": {},
   "outputs": [],
   "source": []
  }
 ],
 "metadata": {
  "kernelspec": {
   "display_name": "Python 3",
   "language": "python",
   "name": "python3"
  },
  "language_info": {
   "codemirror_mode": {
    "name": "ipython",
    "version": 3
   },
   "file_extension": ".py",
   "mimetype": "text/x-python",
   "name": "python",
   "nbconvert_exporter": "python",
   "pygments_lexer": "ipython3",
   "version": "3.6.7"
  }
 },
 "nbformat": 4,
 "nbformat_minor": 2
}
