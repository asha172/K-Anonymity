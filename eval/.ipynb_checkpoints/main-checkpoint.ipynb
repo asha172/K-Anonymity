{
 "cells": [
  {
   "cell_type": "code",
   "execution_count": 133,
   "metadata": {},
   "outputs": [],
   "source": [
    "import os\n",
    "import csv\n",
    "from copy import deepcopy\n",
    "from datetime import datetime, date\n",
    "import pandas as pd\n",
    "from random import shuffle\n",
    "\n",
    "import pandas as pd\n",
    "import matplotlib.pyplot as plt\n",
    "import seaborn as sns"
   ]
  },
  {
   "cell_type": "markdown",
   "metadata": {},
   "source": [
    "#### Vars"
   ]
  },
  {
   "cell_type": "code",
   "execution_count": 134,
   "metadata": {},
   "outputs": [],
   "source": [
    "orgDataPath = './originData'\n",
    "outputDataPath = './output'\n",
    "\n",
    "immunPath = \"immunizations.csv\"\n",
    "mediPath = \"medications.csv\"\n",
    "obsPath = \"observations.csv\"\n",
    "# orgPath = \"organizations.csv\"\n",
    "patPath = \"patients.csv\"\n",
    "procPath = \"procedures.csv\"\n",
    "# provPath = \"providers.csv\"\n",
    "allgPath = \"allergies.csv\"\n",
    "# carePPath = \"careplans.csv\"\n",
    "condPath = \"conditions.csv\"\n",
    "encPath = \"encounters.csv\"\n",
    "# imgPath = \"imaging_studies.csv\"\n"
   ]
  },
  {
   "cell_type": "code",
   "execution_count": 135,
   "metadata": {},
   "outputs": [],
   "source": [
    "def readCSV(csv_path, skip_firstRow=False, separator=',', encoding='utf-8'):\n",
    "    data = []\n",
    "    with open(csv_path, 'rt', encoding=encoding) as csvfile:\n",
    "        csvreader = csv.reader(csvfile, delimiter=separator)\n",
    "#         csvreader = csv.reader((x.replace('\\0', '').lower() for x in csvfile), delimiter=separator)\n",
    "        for row in csvreader:\n",
    "            if not skip_firstRow:\n",
    "                data.append(row)\n",
    "            skip_firstRow = False\n",
    "    return data\n",
    "\n",
    "def calculate_age(stringDate):\n",
    "    birthdate = datetime.strptime(stringDate, '%Y-%m-%d')\n",
    "    today = birthdate.today()\n",
    "    return today.year - birthdate.year - ((today.month, today.day) < (birthdate.month, birthdate.day))"
   ]
  },
  {
   "cell_type": "code",
   "execution_count": 136,
   "metadata": {},
   "outputs": [],
   "source": [
    "def completePath(path2):            \n",
    "    return os.path.join(orgDataPath, path2)\n",
    "\n",
    "def readCSV(path, sep=',', isFirstSkip=False):\n",
    "    csvList = list()\n",
    "    with open(path, 'r', encoding='utf-8') as lines:\n",
    "        for line in lines:\n",
    "            if isFirstSkip:\n",
    "                isFirstSkip = False\n",
    "                continue\n",
    "                \n",
    "            cells = line.split(sep)\n",
    "            csvList.append(cells)\n",
    "            \n",
    "    return csvList\n",
    "\n",
    "def getDataInfoPackage(path):\n",
    "    dataSet = readCSV(completePath(path))\n",
    "    dataSetCols = {data:i for i, data in enumerate(dataSet[0])}\n",
    "    dataSet = dataSet[1:]\n",
    "    \n",
    "    return dataSet, dataSetCols\n",
    "    "
   ]
  },
  {
   "cell_type": "code",
   "execution_count": 137,
   "metadata": {},
   "outputs": [],
   "source": [
    "patientList, patientCols = getDataInfoPackage(patPath)\n",
    "conditionList, conditionCols = getDataInfoPackage(condPath)\n",
    "# patientInfoList, patientInfoCols = getDataInfoPackage(patPath)\n",
    "# patientInfoList, patientInfoCols = getDataInfoPackage(patPath)\n",
    "\n",
    "conditionDictbyPat = dict()\n",
    "\n",
    "for data in conditionList:\n",
    "    pid = data[2]\n",
    "    if pid not in conditionDictbyPat:\n",
    "        conditionDictbyPat[pid] = list()\n",
    "        \n",
    "    conditionDictbyPat[pid].append(data)\n",
    "    "
   ]
  },
  {
   "cell_type": "code",
   "execution_count": 138,
   "metadata": {},
   "outputs": [
    {
     "name": "stdout",
     "output_type": "stream",
     "text": [
      "['b9538c98-2ab5-4c1b-ac61-b302d76620c8', '2009-06-30', '', '999-83-7263', '', '', '', 'Jude172', 'Robel940', '', '', '', 'white', 'english', 'M', 'Cambridge  Massachusetts  US', '735 Reinger Mews Suite 2', 'Oak Bluffs', 'Massachusetts', '02557\\n']\n",
      "{'Id': 0, 'BIRTHDATE': 1, 'DEATHDATE': 2, 'SSN': 3, 'DRIVERS': 4, 'PASSPORT': 5, 'PREFIX': 6, 'FIRST': 7, 'LAST': 8, 'SUFFIX': 9, 'MAIDEN': 10, 'MARITAL': 11, 'RACE': 12, 'ETHNICITY': 13, 'GENDER': 14, 'BIRTHPLACE': 15, 'ADDRESS': 16, 'CITY': 17, 'STATE': 18, 'ZIP\\n': 19}\n",
      "{'START': 0, 'STOP': 1, 'PATIENT': 2, 'ENCOUNTER': 3, 'CODE': 4, 'DESCRIPTION\\n': 5}\n"
     ]
    }
   ],
   "source": [
    "print(patientList[0])\n",
    "print(patientCols)\n",
    "print(conditionCols)"
   ]
  },
  {
   "cell_type": "code",
   "execution_count": 139,
   "metadata": {},
   "outputs": [
    {
     "name": "stdout",
     "output_type": "stream",
     "text": [
      "117732\n"
     ]
    }
   ],
   "source": [
    "patientConDict = dict()\n",
    "patientConList = list()\n",
    "patLen = len(patientList)\n",
    "print(patLen)\n",
    "\n",
    "i = 0\n",
    "for i, patientData in enumerate(patientList):\n",
    "    patientID = patientData[0]    \n",
    "    if patientID in conditionDictbyPat:\n",
    "        clonedPatientData = patientData.copy()\n",
    "        lastedCon = sorted(conditionDictbyPat[patientID], key=lambda x:x[0], reverse=True)[0]\n",
    "\n",
    "        ### 데이티 변경\n",
    "        clonedPatientData[1] = calculate_age(patientData[1])\n",
    "        clonedPatientData[2] = 1 if patientData[2] else 0\n",
    "        clonedPatientData[-1] = patientData[-1].replace('\\n','')\n",
    "        death = clonedPatientData.pop(2)\n",
    "        clonedPatientData.append(death)\n",
    "        lastedCon[-1] = lastedCon[-1].replace('\\n','')\n",
    "        clonedPatientData.extend(lastedCon[-2:])\n",
    "        \n",
    "        patientConList.append(clonedPatientData)\n"
   ]
  },
  {
   "cell_type": "code",
   "execution_count": 156,
   "metadata": {},
   "outputs": [
    {
     "name": "stdout",
     "output_type": "stream",
     "text": [
      "['Id', 'AGE', 'SSN', 'DRIVERS', 'PASSPORT', 'PREFIX', 'FIRST', 'LAST', 'SUFFIX', 'MAIDEN', 'MARITAL', 'RACE', 'ETHNICITY', 'GENDER', 'BIRTHPLACE', 'ADDRESS', 'CITY', 'STATE', 'ZIP', 'DEATH', 'CONDITIONCODE', 'CONDITIOIN']\n"
     ]
    }
   ],
   "source": [
    "newColumns = list(patientCols.keys())\n",
    "\n",
    "newColumns[-1] = newColumns[-1].replace('\\n', '')\n",
    "newColumns[1] = 'AGE'\n",
    "newColumns.pop(2)\n",
    "newColumns.append('DEATH')\n",
    "newColumns.extend(['CONDITIONCODE', 'CONDITIOIN'])\n",
    "print(newColumns)"
   ]
  },
  {
   "cell_type": "code",
   "execution_count": 166,
   "metadata": {},
   "outputs": [
    {
     "name": "stdout",
     "output_type": "stream",
     "text": [
      "{'Id': 0, 'AGE': 1, 'SSN': 2, 'DRIVERS': 3, 'PASSPORT': 4, 'PREFIX': 5, 'FIRST': 6, 'LAST': 7, 'SUFFIX': 8, 'MAIDEN': 9, 'MARITAL': 10, 'RACE': 11, 'ETHNICITY': 12, 'GENDER': 13, 'BIRTHPLACE': 14, 'ADDRESS': 15, 'CITY': 16, 'STATE': 17, 'ZIP': 18, 'DEATH': 19, 'CONDITIONCODE': 20, 'CONDITIOIN': 21}\n"
     ]
    }
   ],
   "source": [
    "finalColumns = ['AGE',  'RACE',  'ETHNICITY', 'GENDER', 'BIRTHPLACE', 'CONDITIOIN', 'DEATH']\n",
    "newColumnsColDict = {col:i for i, col in enumerate(newColumns)}\n",
    "print(newColumnsColDict)"
   ]
  },
  {
   "cell_type": "code",
   "execution_count": 171,
   "metadata": {},
   "outputs": [],
   "source": [
    "finalpatientDataSet = list()\n",
    "for data in patientConList:\n",
    "    finalRow = list()\n",
    "    for fColName in finalColumns:\n",
    "        colIDX = newColumnsColDict[fColName]\n",
    "        value = data[colIDX]\n",
    "        if fColName == 'BIRTHPLACE':\n",
    "            value = value.split(' ')[-1]\n",
    "        elif fColName == 'GENDER':\n",
    "            value = 'MALE' if value == 'M' else 'FEMALE'\n",
    "        \n",
    "        finalRow.append(value)\n",
    "    finalpatientDataSet.append(finalRow)\n",
    "        "
   ]
  },
  {
   "cell_type": "code",
   "execution_count": 175,
   "metadata": {},
   "outputs": [],
   "source": [
    "# [data for data in finalpatientDataSet if len(data[-3]) >1][0:10]"
   ]
  },
  {
   "cell_type": "code",
   "execution_count": 176,
   "metadata": {},
   "outputs": [],
   "source": [
    "patientConDF = pd.DataFrame(finalpatientDataSet, columns=finalColumns)\n",
    "patientConDF.to_csv('./output/finalPatientDataSet.csv',sep='\\t', index=False)"
   ]
  },
  {
   "cell_type": "code",
   "execution_count": 144,
   "metadata": {},
   "outputs": [
    {
     "name": "stdout",
     "output_type": "stream",
     "text": [
      "['0:Id', '1:AGE', '2:SSN', '3:DRIVERS', '4:PASSPORT', '5:PREFIX', '6:FIRST', '7:LAST', '8:SUFFIX', '9:MAIDEN', '10:MARITAL', '11:RACE', '12:ETHNICITY', '13:GENDER', '14:BIRTHPLACE', '15:ADDRESS', '16:CITY', '17:STATE', '18:ZIP', '19:DEATH', '20:CONDITIONCODE', '21:CONDITIOIN']\n",
      "115300\n",
      "Death 17704\n",
      "Alive 97596\n"
     ]
    }
   ],
   "source": [
    "print([':'.join([str(i), data]) for i, data in enumerate(newColumns)])\n",
    "print(len(patientConList))\n",
    "print('Death', len([data for data in patientConList if data[-3] ==1]))\n",
    "print('Alive', len([data for data in patientConList if data[-3] ==0]))"
   ]
  },
  {
   "cell_type": "code",
   "execution_count": 145,
   "metadata": {},
   "outputs": [
    {
     "name": "stdout",
     "output_type": "stream",
     "text": [
      "ETHNICITY 115300\n",
      "RACE 115300\n",
      "MARITAL 81410\n"
     ]
    }
   ],
   "source": [
    "print('ETHNICITY', len([data for data in patientConList if data[12]]))\n",
    "print('RACE', len([data for data in patientConList if data[11]]))\n",
    "print('MARITAL', len([data for data in patientConList if data[10]]))"
   ]
  },
  {
   "cell_type": "code",
   "execution_count": 146,
   "metadata": {},
   "outputs": [],
   "source": [
    "clonedPatientConList = deepcopy(patientConList)"
   ]
  },
  {
   "cell_type": "code",
   "execution_count": 147,
   "metadata": {},
   "outputs": [],
   "source": [
    "booleanColIDX = [2,3,4]\n",
    "categoricalColIDX = [10, 11, 12, 13]\n",
    "\n",
    "booleanColMaster = dict()\n",
    "categoricalColMaster = dict()\n",
    "\n",
    "for i in categoricalColIDX:\n",
    "    disctinctData = set([data[i] for data in clonedPatientConList])\n",
    "    categoricalColMaster[i]  = {data:i for i,data in enumerate(disctinctData)}\n",
    "\n",
    "for pData in clonedPatientConList:\n",
    "    for i in booleanColIDX:\n",
    "        pData[i] = 1 if pData[i] else 0  "
   ]
  },
  {
   "cell_type": "code",
   "execution_count": 152,
   "metadata": {},
   "outputs": [
    {
     "data": {
      "text/plain": [
       "[]"
      ]
     },
     "execution_count": 152,
     "metadata": {},
     "output_type": "execute_result"
    }
   ],
   "source": [
    "[data[12] for data in patientConList if not data[12]]"
   ]
  },
  {
   "cell_type": "code",
   "execution_count": 148,
   "metadata": {},
   "outputs": [],
   "source": [
    "for i in categoricalColIDX:\n",
    "    catgoryMaster = categoricalColMaster[i]\n",
    "    for pData in clonedPatientConList:\n",
    "        try:\n",
    "            pData[i] = catgoryMaster[pData[i]]\n",
    "        except:\n",
    "            print(i, pData)\n",
    "            break"
   ]
  },
  {
   "cell_type": "code",
   "execution_count": 125,
   "metadata": {},
   "outputs": [],
   "source": [
    "deathList =[data for data in clonedPatientConList if data[-3] ==1]\n",
    "aliveList =[data for data in clonedPatientConList if data[-3] ==0]"
   ]
  },
  {
   "cell_type": "code",
   "execution_count": 126,
   "metadata": {},
   "outputs": [],
   "source": [
    "# patientNumericDF = pd.DataFrame(clonedPatientConList, columns=newColumns)\n",
    "# patientNumericDF.to_csv('./output/finalPatientNumricDataSet.csv',sep='\\t', index=False)"
   ]
  },
  {
   "cell_type": "code",
   "execution_count": 130,
   "metadata": {},
   "outputs": [
    {
     "name": "stdout",
     "output_type": "stream",
     "text": [
      "113\n",
      "122\n"
     ]
    }
   ],
   "source": [
    "print(len(set([data[-2] for data in deathList])))\n",
    "print(len(set([data[-2] for data in aliveList])))"
   ]
  },
  {
   "cell_type": "code",
   "execution_count": null,
   "metadata": {},
   "outputs": [],
   "source": [
    "set([data[-2] for data in deathList])"
   ]
  },
  {
   "cell_type": "code",
   "execution_count": 127,
   "metadata": {},
   "outputs": [
    {
     "name": "stdout",
     "output_type": "stream",
     "text": [
      "['b9538c98-2ab5-4c1b-ac61-b302d76620c8', 9, 1, 0, 0, '', 'Jude172', 'Robel940', '', '', 0, 1, 7, 0, 'Cambridge  Massachusetts  US', '735 Reinger Mews Suite 2', 'Oak Bluffs', 'Massachusetts', '02557', 0, '65363002', 'Otitis media']\n"
     ]
    }
   ],
   "source": [
    "print(aliveList[0])\n"
   ]
  },
  {
   "cell_type": "code",
   "execution_count": 120,
   "metadata": {},
   "outputs": [
    {
     "data": {
      "text/plain": [
       "53112"
      ]
     },
     "execution_count": 120,
     "metadata": {},
     "output_type": "execute_result"
    }
   ],
   "source": [
    "for data in deathList:\n",
    "    data[-2] = int(data[-2]) // 10000000\n",
    "\n",
    "for data in aliveList:\n",
    "    data[-2] = 9\n",
    "    int(data[-2]) // 10000000\n",
    "newData = deathList + aliveList[0:len(deathList)*2]\n",
    "len(newData)\n",
    "\n",
    "# for data in newData:\n",
    "#     data[-2] = int(data[-2])\n",
    "    "
   ]
  },
  {
   "cell_type": "code",
   "execution_count": 121,
   "metadata": {},
   "outputs": [
    {
     "data": {
      "text/plain": [
       "<matplotlib.axes._subplots.AxesSubplot at 0x1431b3208>"
      ]
     },
     "execution_count": 121,
     "metadata": {},
     "output_type": "execute_result"
    },
    {
     "data": {
      "image/png": "[encoded data removed]",
      "text/plain": [
       "<matplotlib.figure.Figure at 0x145fce908>"
      ]
     },
     "metadata": {
      "needs_background": "light"
     },
     "output_type": "display_data"
    }
   ],
   "source": [
    "data = pd.DataFrame(newData, columns=newColumns)\n",
    "plt.figure(figsize=(15,15))\n",
    "sns.heatmap(data=data.corr(), annot=True, fmt='.2f', linewidths=.5, cmap='Blues')"
   ]
  },
  {
   "cell_type": "code",
   "execution_count": null,
   "metadata": {},
   "outputs": [],
   "source": []
  }
 ],
 "metadata": {
  "kernelspec": {
   "display_name": "Python 3",
   "language": "python",
   "name": "python3"
  },
  "language_info": {
   "codemirror_mode": {
    "name": "ipython",
    "version": 3
   },
   "file_extension": ".py",
   "mimetype": "text/x-python",
   "name": "python",
   "nbconvert_exporter": "python",
   "pygments_lexer": "ipython3",
   "version": "3.7.1"
  }
 },
 "nbformat": 4,
 "nbformat_minor": 2
}
