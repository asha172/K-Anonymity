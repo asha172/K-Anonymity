{
 "cells": [
  {
   "cell_type": "code",
   "execution_count": 1,
   "metadata": {},
   "outputs": [],
   "source": [
    "import pandas as pd\n",
    "import matplotlib.pyplot as plt\n",
    "import seaborn as sns\n",
    "import funcs as fc\n",
    "import seaborn as sns\n"
   ]
  },
  {
   "cell_type": "code",
   "execution_count": 2,
   "metadata": {},
   "outputs": [],
   "source": [
    "data = pd.read_csv('./data/finalPatientDataSet_20.csv', sep='\\t')"
   ]
  },
  {
   "cell_type": "code",
   "execution_count": 2,
   "metadata": {},
   "outputs": [
    {
     "name": "stdout",
     "output_type": "stream",
     "text": [
      "['AGE', 'BIRTHPLACE', 'CONDITION', 'DEATH', 'ETHNICITY', 'GENDER', 'RACE']\n"
     ]
    }
   ],
   "source": [
    "org_moned_dataset_wc = fc.readCSV('./normalized/recover_origin_wc.csv', sep='\\t')\n",
    "berted_dataset_bert_wc = fc.readCSV('./normalized/recover_bert_wc.csv', sep='\\t')\n",
    "berted_dataset_bert_wc[0:2]\n",
    "columnList = berted_dataset_bert_wc[0]\n",
    "print(columnList)"
   ]
  },
  {
   "cell_type": "code",
   "execution_count": 32,
   "metadata": {},
   "outputs": [
    {
     "name": "stdout",
     "output_type": "stream",
     "text": [
      "[(1, 112649), (2, 57298), (3, 26568), (4, 7904), (5, 1870)]\n",
      "[(1, 48319), (3, 34809), (2, 32296), (4, 31308), (5, 19823), (6, 10008), (7, 8658), (8, 4880), (9, 3155), (10, 2327), (11, 1805), (13, 1097), (17, 1094), (12, 887), (20, 766), (23, 716), (28, 708), (14, 632), (25, 604), (15, 530), (19, 527), (16, 525), (29, 494), (32, 445), (22, 435), (18, 398), (26, 355), (21, 350), (24, 189), (30, 157)]\n"
     ]
    }
   ],
   "source": [
    "# def getLengthCount(sourceDataSet, colIDX):\n",
    "#     tempDict = dict()\n",
    "#     for data in sourceDataSet:\n",
    "#         diversityCNT = len(data[colIDX].split(','))\n",
    "#         if diversityCNT not in tempDict:\n",
    "#             tempDict[diversityCNT] = 0\n",
    "            \n",
    "#         tempDict[diversityCNT] += 1\n",
    "     \n",
    "#     sortedResult = sorted(tempDict.items(), key=lambda x:x[1], reverse=True)\n",
    "#     return sortedResult\n",
    "   \n",
    "# print(getLengthCount(org_moned_dataset_wc[1:], 2))\n",
    "# print(getLengthCount(berted_dataset_bert_wc[1:], 2))"
   ]
  },
  {
   "cell_type": "code",
   "execution_count": 18,
   "metadata": {},
   "outputs": [],
   "source": [
    "def getLengthCount(sourceDataSet, colList):\n",
    "    tempDict = dict()    \n",
    "    for data in sourceDataSet:\n",
    "        diversityCNT = int(data[-1])\n",
    "        if diversityCNT not in tempDict:\n",
    "            tempDict[diversityCNT] = 0\n",
    "\n",
    "        tempDict[diversityCNT] += 1\n",
    "        \n",
    "    sortedResult = sorted(tempDict.items(), key=lambda x:x[1], reverse=True)        \n",
    "    return sortedResult\n",
    "\n",
    "def displayDataSetInfo(sourceDataSet):\n",
    "    minNum = min([data[0] for data in sourceDataSet])\n",
    "    maxNum = max([data[0] for data in sourceDataSet])\n",
    "    \n",
    "    print(\"데이터 셋 K 값의 범주\")\n",
    "    print(\"min :\", minNum, \"max :\", maxNum)\n",
    "    print(sourceDataSet, \"\\n\")\n",
    "    \n",
    "    print(\"데이터 셋 K 값의 top10\")\n",
    "    print(\"top 10 :\", sourceDataSet[0:10])    \n",
    "    print(\"============================================================\\n\")\n"
   ]
  },
  {
   "cell_type": "code",
   "execution_count": 19,
   "metadata": {},
   "outputs": [],
   "source": [
    "org_moned_dataset = fc.readCSV('./normalized/original_moned_DataSet.csv', sep='\\t')\n",
    "berted_dataset_bert = fc.readCSV('./normalized/recover_bert.csv', sep='\\t')"
   ]
  },
  {
   "cell_type": "code",
   "execution_count": 21,
   "metadata": {},
   "outputs": [
    {
     "name": "stdout",
     "output_type": "stream",
     "text": [
      "dataset : org_moned_dataset\n",
      "\n",
      "데이터 셋 K 값의 범주\n",
      "min : 1 max : 198\n",
      "[(3, 10660), (1, 7372), (4, 7029), (2, 5612), (5, 4567), (6, 2108), (7, 1533), (8, 948), (9, 776), (10, 528), (11, 448), (12, 320), (13, 302), (14, 260), (15, 210), (16, 202), (17, 153), (18, 126), (19, 116), (20, 116), (21, 115), (24, 91), (22, 84), (25, 82), (23, 82), (26, 65), (29, 59), (27, 52), (30, 50), (28, 44), (32, 43), (31, 42), (33, 36), (34, 30), (44, 29), (39, 26), (37, 26), (36, 24), (35, 22), (41, 22), (40, 20), (52, 20), (38, 20), (45, 18), (51, 14), (46, 14), (47, 12), (49, 12), (57, 11), (48, 10), (43, 10), (50, 9), (42, 8), (61, 8), (59, 8), (68, 8), (74, 6), (63, 6), (60, 6), (58, 6), (55, 6), (64, 6), (54, 6), (75, 5), (53, 5), (67, 5), (56, 4), (62, 4), (78, 4), (97, 3), (73, 3), (65, 3), (91, 3), (66, 3), (80, 3), (104, 2), (93, 2), (82, 2), (69, 2), (83, 2), (70, 2), (79, 2), (90, 2), (87, 1), (156, 1), (105, 1), (127, 1), (98, 1), (110, 1), (96, 1), (108, 1), (126, 1), (169, 1), (198, 1), (100, 1), (131, 1), (88, 1), (103, 1), (71, 1), (94, 1), (86, 1), (102, 1), (89, 1), (106, 1), (77, 1), (95, 1), (76, 1)] \n",
      "\n",
      "데이터 셋 K 값의 top10\n",
      "top 10 : [(3, 10660), (1, 7372), (4, 7029), (2, 5612), (5, 4567), (6, 2108), (7, 1533), (8, 948), (9, 776), (10, 528)]\n",
      "============================================================\n",
      "\n",
      "dataset : berted_dataset_bert\n",
      "\n",
      "데이터 셋 K 값의 범주\n",
      "min : 1 max : 270\n",
      "[(3, 7604), (1, 6648), (4, 5216), (2, 4970), (5, 3106), (6, 1433), (7, 1147), (8, 704), (9, 608), (10, 423), (11, 378), (12, 275), (13, 223), (14, 201), (16, 197), (15, 183), (18, 152), (17, 142), (19, 126), (20, 116), (22, 90), (21, 89), (23, 87), (24, 72), (28, 65), (25, 65), (29, 61), (27, 56), (36, 53), (33, 51), (30, 48), (35, 48), (31, 47), (26, 47), (32, 46), (37, 34), (38, 33), (43, 28), (40, 27), (34, 26), (44, 26), (41, 26), (39, 26), (45, 25), (46, 24), (52, 22), (47, 22), (51, 21), (42, 20), (50, 20), (48, 19), (49, 17), (67, 15), (65, 14), (57, 13), (55, 13), (60, 12), (54, 12), (62, 11), (94, 11), (71, 11), (53, 11), (59, 11), (78, 10), (64, 10), (93, 9), (72, 9), (80, 9), (58, 9), (63, 8), (89, 8), (87, 8), (56, 8), (70, 7), (95, 7), (97, 7), (69, 7), (66, 7), (84, 7), (100, 7), (79, 6), (74, 6), (103, 6), (68, 6), (102, 6), (73, 6), (75, 5), (118, 5), (81, 5), (91, 5), (77, 5), (98, 5), (88, 5), (76, 5), (83, 4), (85, 4), (115, 4), (61, 4), (99, 4), (104, 3), (145, 3), (152, 3), (111, 3), (86, 3), (107, 3), (113, 3), (90, 3), (116, 3), (123, 3), (137, 3), (117, 3), (159, 3), (108, 3), (101, 3), (142, 3), (96, 3), (109, 3), (82, 3), (106, 3), (146, 2), (186, 2), (110, 2), (135, 2), (150, 2), (195, 2), (148, 2), (130, 2), (122, 2), (139, 2), (121, 2), (119, 2), (133, 2), (207, 1), (243, 1), (129, 1), (253, 1), (209, 1), (141, 1), (163, 1), (174, 1), (169, 1), (218, 1), (184, 1), (168, 1), (131, 1), (154, 1), (177, 1), (173, 1), (212, 1), (220, 1), (162, 1), (232, 1), (270, 1), (234, 1), (153, 1), (193, 1), (240, 1), (138, 1), (160, 1), (143, 1), (124, 1), (161, 1), (112, 1), (180, 1), (221, 1), (127, 1), (149, 1), (126, 1), (196, 1), (92, 1), (147, 1), (105, 1), (167, 1)] \n",
      "\n",
      "데이터 셋 K 값의 top10\n",
      "top 10 : [(3, 7604), (1, 6648), (4, 5216), (2, 4970), (5, 3106), (6, 1433), (7, 1147), (8, 704), (9, 608), (10, 423)]\n",
      "============================================================\n",
      "\n"
     ]
    }
   ],
   "source": [
    "\n",
    "\n",
    "sourceColumns = ['CONDITION', 'ETHNICITY']\n",
    "\n",
    "print(\"dataset : org_moned_dataset\\n\")\n",
    "sorted_org_moned_datase = getLengthCount(org_moned_dataset[1:], sourceColumns)\n",
    "displayDataSetInfo(sorted_org_moned_datase)\n",
    "\n",
    "print(\"dataset : berted_dataset_bert\\n\")\n",
    "sorted_berted_dataset_bert = getLengthCount(berted_dataset_bert[1:], sourceColumns)\n",
    "displayDataSetInfo(sorted_berted_dataset_bert)\n"
   ]
  },
  {
   "cell_type": "code",
   "execution_count": 10,
   "metadata": {},
   "outputs": [
    {
     "name": "stdout",
     "output_type": "stream",
     "text": [
      "개별 일반화 튜플 중 최고 레코드 수\n",
      "198\n",
      "270\n"
     ]
    }
   ],
   "source": [
    "print(\"개별 일반화 튜플 중 최고 레코드 수\")\n",
    "print(max([int(data[-1]) for data in sorted_org_moned_datase[1:]]))\n",
    "print(max([int(data[-1]) for data in berted_dataset_bert[1:]]))"
   ]
  },
  {
   "cell_type": "markdown",
   "metadata": {},
   "source": [
    "> ### 전체  k 비교 막대차트(origin VS BERT)"
   ]
  },
  {
   "cell_type": "code",
   "execution_count": 67,
   "metadata": {},
   "outputs": [
    {
     "data": {
      "text/plain": [
       "<matplotlib.axes._subplots.AxesSubplot at 0x20dd582ec88>"
      ]
     },
     "execution_count": 67,
     "metadata": {},
     "output_type": "execute_result"
    },
    {
     "data": {
      "image/png": "[encoded data removed]",
      "text/plain": [
       "<Figure size 2016x576 with 2 Axes>"
      ]
     },
     "metadata": {},
     "output_type": "display_data"
    }
   ],
   "source": [
    "sorted_org_moned_datase\n",
    "\n",
    "bar_sorted_org_pd = pd.DataFrame(sorted_org_moned_datase[0:30], columns=['K', 'Count'])\n",
    "bar_sorted_bert_pd = pd.DataFrame(sorted_berted_dataset_bert[0:30], columns=['K', 'Count'])\n",
    "\n",
    "figure,((ax1, ax2)) = plt.subplots(nrows=1, ncols=2)\n",
    "figure.set_size_inches(28,8)\n",
    "\n",
    "sns.barplot(data=sorted_org_pd, x='K', y='Count', ax=ax1)\n",
    "sns.barplot(data=sorted_bert_pd, x='K', y='Count', ax=ax2)"
   ]
  },
  {
   "cell_type": "markdown",
   "metadata": {},
   "source": [
    "> ### 전체  k 비교 파이차트(origin VS BERT)"
   ]
  },
  {
   "cell_type": "code",
   "execution_count": null,
   "metadata": {},
   "outputs": [],
   "source": []
  },
  {
   "cell_type": "markdown",
   "metadata": {},
   "source": [
    "> ### TOP 10k 비교 막대차트(origin VS BERT)"
   ]
  },
  {
   "cell_type": "code",
   "execution_count": 56,
   "metadata": {},
   "outputs": [
    {
     "data": {
      "text/plain": [
       "<matplotlib.axes._subplots.AxesSubplot at 0x20dd04501d0>"
      ]
     },
     "execution_count": 56,
     "metadata": {},
     "output_type": "execute_result"
    },
    {
     "data": {
      "image/png": "[encoded data removed]",
      "text/plain": [
       "<Figure size 720x504 with 1 Axes>"
      ]
     },
     "metadata": {},
     "output_type": "display_data"
    }
   ],
   "source": [
    "import matplotlib.pyplot as plt\n",
    "plt.figure(figsize=(10, 7))\n",
    "chartDataSet_A_1 = [[int(data[0]), int(data[1]), 'origin'] for data in sorted_org_moned_datase[1:]]\n",
    "chartDataSet_A_2 = [[int(data[0]), int(data[1]), 'bert'] for data in sorted_berted_dataset_bert[1:]]\n",
    "chartDataSet_A = chartDataSet_A_1[0:10] +chartDataSet_A_2[0:10]\n",
    "\n",
    "dataSource_pd = pd.DataFrame(chartDataSet_A, columns=['K', 'Count', 'DataSet'])\n",
    "sns.barplot(data=dataSource_pd, x='K', y='Count', hue='DataSet')"
   ]
  },
  {
   "cell_type": "code",
   "execution_count": null,
   "metadata": {},
   "outputs": [],
   "source": []
  }
 ],
 "metadata": {
  "kernelspec": {
   "display_name": "Python 3",
   "language": "python",
   "name": "python3"
  },
  "language_info": {
   "codemirror_mode": {
    "name": "ipython",
    "version": 3
   },
   "file_extension": ".py",
   "mimetype": "text/x-python",
   "name": "python",
   "nbconvert_exporter": "python",
   "pygments_lexer": "ipython3",
   "version": "3.7.1"
  }
 },
 "nbformat": 4,
 "nbformat_minor": 2
}
